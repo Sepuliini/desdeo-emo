{
 "cells": [
  {
   "cell_type": "code",
   "execution_count": null,
   "metadata": {},
   "outputs": [],
   "source": [
    "import sys, os\n",
    "sys.path.insert(0, os.path.dirname(os.path.abspath('../desdeo_emo')))"
   ]
  },
  {
   "cell_type": "code",
   "execution_count": null,
   "metadata": {},
   "outputs": [],
   "source": [
    "import plotly.graph_objects as go\n",
    "import numpy as np\n",
    "\n",
    "from desdeo_problem.Variable import variable_builder\n",
    "from desdeo_problem.Objective import ScalarObjective\n",
    "from desdeo_problem.Problem import MOProblem\n",
    "from desdeo_problem.testproblems.TestProblems import test_problem_builder\n",
    "\n",
    "from desdeo_emo.EAs.NSGAIII import NSGAIII\n",
    "from desdeo_emo.EAs.RVEA import RVEA\n",
    "from desdeo_emo.othertools.plotlyanimate import animate_init_, animate_next_"
   ]
  },
  {
   "cell_type": "markdown",
   "metadata": {},
   "source": [
    "## Coello MOP7\n",
    "\n",
    "### Definition\n",
    "![Definition](https://raw.githubusercontent.com/industrial-optimization-group/desdeo-emo/master/examples/notebook_extras/MOP7.png)\n",
    "\n",
    "### Pareto set and front\n",
    "![Front](https://raw.githubusercontent.com/industrial-optimization-group/desdeo-emo/master/examples/notebook_extras/MOP7_PF.png)"
   ]
  },
  {
   "cell_type": "markdown",
   "metadata": {},
   "source": [
    "## Define objective functions"
   ]
  },
  {
   "cell_type": "code",
   "execution_count": null,
   "metadata": {},
   "outputs": [],
   "source": [
    "def f_1(x):\n",
    "    term1 = ((x[:,0] - 2) ** 2) / 2\n",
    "    term2 = ((x[:,1] + 1) ** 2) / 13\n",
    "    return term1 + term2 + 3\n",
    "\n",
    "def f_2(x):\n",
    "    term1 = ((x[:, 0] + x[:, 1] - 3) ** 2) / 36\n",
    "    term2 = ((-x[:, 0] + x[:, 1] + 2) ** 2) / 8\n",
    "    return term1 + term2 - 17\n",
    "\n",
    "def f_3(x):\n",
    "    term1 = ((x[:, 0] + (2 * x[:, 1]) - 1) ** 2) / 175\n",
    "    term2 = ((-x[:, 0] + 2* x[:, 1]) ** 2) / 17\n",
    "    return term1 + term2 - 13"
   ]
  },
  {
   "cell_type": "markdown",
   "metadata": {},
   "source": [
    "Note that the expected input `x` is two dimensional. It should be a 2-D numpy array."
   ]
  },
  {
   "cell_type": "markdown",
   "metadata": {},
   "source": [
    "## Create Variable objects"
   ]
  },
  {
   "cell_type": "code",
   "execution_count": null,
   "metadata": {},
   "outputs": [],
   "source": [
    "help(variable_builder)"
   ]
  },
  {
   "cell_type": "code",
   "execution_count": null,
   "metadata": {},
   "outputs": [],
   "source": [
    "list_vars = variable_builder(['x', 'y'],\n",
    "                             initial_values = [0,0],\n",
    "                             lower_bounds=[-400, -400],\n",
    "                             upper_bounds=[400, 400])\n",
    "list_vars"
   ]
  },
  {
   "cell_type": "markdown",
   "metadata": {},
   "source": [
    "## Create Objective objects"
   ]
  },
  {
   "cell_type": "code",
   "execution_count": null,
   "metadata": {},
   "outputs": [],
   "source": [
    "f1 = ScalarObjective(name='f1', evaluator=f_1)\n",
    "f2 = ScalarObjective(name='f2', evaluator=f_2)\n",
    "f3 = ScalarObjective(name='f3', evaluator=f_3)\n",
    "list_objs = [f1, f2, f3]"
   ]
  },
  {
   "cell_type": "markdown",
   "metadata": {},
   "source": [
    "## Create the problem object"
   ]
  },
  {
   "cell_type": "code",
   "execution_count": null,
   "metadata": {},
   "outputs": [],
   "source": [
    "problem = MOProblem(variables=list_vars, objectives=list_objs)"
   ]
  },
  {
   "cell_type": "markdown",
   "metadata": {},
   "source": [
    "## Using the EAs\n",
    "\n",
    "Pass the problem object to the EA, pass parameters as arguments if required."
   ]
  },
  {
   "cell_type": "code",
   "execution_count": null,
   "metadata": {},
   "outputs": [],
   "source": [
    "help(RVEA)"
   ]
  },
  {
   "cell_type": "code",
   "execution_count": null,
   "metadata": {},
   "outputs": [],
   "source": [
    "evolver = NSGAIII(problem,\n",
    "                  n_iterations=3,\n",
    "                  n_gen_per_iter=20,\n",
    "                  population_size=500)"
   ]
  },
  {
   "cell_type": "code",
   "execution_count": null,
   "metadata": {},
   "outputs": [],
   "source": [
    "while evolver.continue_evolution():\n",
    "    evolver.run_interruption()\n",
    "    evolver.iterate()"
   ]
  },
  {
   "cell_type": "markdown",
   "metadata": {},
   "source": [
    "## Extracting optimized decision variables and objective values"
   ]
  },
  {
   "cell_type": "code",
   "execution_count": null,
   "metadata": {},
   "outputs": [],
   "source": [
    "individuals = evolver.population.individuals\n",
    "\n",
    "fig1 = go.Figure(data=go.Scatter(x=individuals[:,0], y=individuals[:,1], mode=\"markers\"))\n",
    "fig1"
   ]
  },
  {
   "cell_type": "code",
   "execution_count": null,
   "metadata": {},
   "outputs": [],
   "source": [
    "objectives = evolver.population.objectives\n",
    "fig2 = go.Figure(data=go.Scatter3d(x=objectives[:,0],\n",
    "                                   y=objectives[:,1],\n",
    "                                   z=objectives[:,2],\n",
    "                                   mode=\"markers\",\n",
    "                                   marker_size=1))\n",
    "fig2"
   ]
  },
  {
   "cell_type": "markdown",
   "metadata": {},
   "source": [
    "## Coello MOP5\n",
    "\n",
    "### Definition\n",
    "![Definition](https://raw.githubusercontent.com/industrial-optimization-group/desdeo-emo/master/examples/notebook_extras/MOP5.png)\n",
    "\n",
    "### Pareto set and front\n",
    "![Front](https://raw.githubusercontent.com/industrial-optimization-group/desdeo-emo/master/examples/notebook_extras/MOP5_PF.png)"
   ]
  },
  {
   "cell_type": "code",
   "execution_count": null,
   "metadata": {},
   "outputs": [],
   "source": [
    "def f_4(x):\n",
    "    term = x[:, 0]**2 + x[:, 1]**2\n",
    "    return 0.5*term + np.sin(term)\n",
    "\n",
    "def f_5(x):\n",
    "    term1 = ((3*x[:, 0] - 2*x[:,1] + 4)**2)/8\n",
    "    term2 = ((x[:, 0] - x[:,1] + 1)**2)/27\n",
    "    return term1 + term2 + 15\n",
    "\n",
    "def f_6(x):\n",
    "    term = x[:, 0]**2 + x[:, 1]**2\n",
    "    return (1/(term + 1)) - 1.1 * np.exp(-term)"
   ]
  },
  {
   "cell_type": "code",
   "execution_count": null,
   "metadata": {},
   "outputs": [],
   "source": [
    "list_vars = variable_builder(['x', 'y'],\n",
    "                             initial_values = [0,0],\n",
    "                             lower_bounds=[-30, -30],\n",
    "                             upper_bounds=[30, 30])"
   ]
  },
  {
   "cell_type": "code",
   "execution_count": null,
   "metadata": {},
   "outputs": [],
   "source": [
    "f1 = ScalarObjective(name='f1', evaluator=f_4)\n",
    "f2 = ScalarObjective(name='f2', evaluator=f_5)\n",
    "f3 = ScalarObjective(name='f3', evaluator=f_6)"
   ]
  },
  {
   "cell_type": "code",
   "execution_count": null,
   "metadata": {},
   "outputs": [],
   "source": [
    "problem = MOProblem(variables=list_vars, objectives=[f1, f2, f3])"
   ]
  },
  {
   "cell_type": "code",
   "execution_count": null,
   "metadata": {},
   "outputs": [],
   "source": [
    "evolver = RVEA(problem)"
   ]
  },
  {
   "cell_type": "code",
   "execution_count": null,
   "metadata": {},
   "outputs": [],
   "source": [
    "figure = animate_init_(evolver.population.objectives, filename=\"MOP5.html\")"
   ]
  },
  {
   "cell_type": "code",
   "execution_count": null,
   "metadata": {},
   "outputs": [],
   "source": [
    "while evolver.continue_evolution():\n",
    "    evolver.run_interruption()\n",
    "    evolver.iterate()\n",
    "    figure = animate_next_(\n",
    "        evolver.population.objectives,\n",
    "        figure,\n",
    "        filename=\"MOP5.html\",\n",
    "        generation=evolver._iteration_counter-2,\n",
    "    )"
   ]
  },
  {
   "cell_type": "markdown",
   "metadata": {},
   "source": [
    "## Interaction in EAs\n",
    "\n",
    "The reference point method has been implemented."
   ]
  },
  {
   "cell_type": "code",
   "execution_count": null,
   "metadata": {},
   "outputs": [],
   "source": [
    "help(test_problem_builder)"
   ]
  },
  {
   "cell_type": "code",
   "execution_count": null,
   "metadata": {},
   "outputs": [],
   "source": [
    "problem = test_problem_builder(name=\"DTLZ1\", n_of_variables=30, n_of_objectives=3)"
   ]
  },
  {
   "cell_type": "code",
   "execution_count": null,
   "metadata": {},
   "outputs": [],
   "source": [
    "evolver = NSGAIII(problem, interact=True, n_iterations=5, n_gen_per_iter=400)\n",
    "figure = animate_init_(evolver.population.objectives, filename=\"dtlz1.html\")"
   ]
  },
  {
   "cell_type": "code",
   "execution_count": null,
   "metadata": {},
   "outputs": [],
   "source": [
    "while evolver.continue_evolution():\n",
    "    evolver.run_interruption()\n",
    "    evolver.iterate()\n",
    "    figure = animate_next_(\n",
    "        evolver.population.objectives,\n",
    "        figure,\n",
    "        filename=\"dtlz1.html\",\n",
    "        generation=evolver._iteration_counter-2,\n",
    "    )"
   ]
  }
 ],
 "metadata": {
  "kernelspec": {
   "display_name": "desdeo_emo",
   "language": "python",
   "name": "desdeo_emo"
  },
  "language_info": {
   "codemirror_mode": {
    "name": "ipython",
    "version": 3
   },
   "file_extension": ".py",
   "mimetype": "text/x-python",
   "name": "python",
   "nbconvert_exporter": "python",
   "pygments_lexer": "ipython3",
   "version": "3.7.1"
  }
 },
 "nbformat": 4,
 "nbformat_minor": 2
}
