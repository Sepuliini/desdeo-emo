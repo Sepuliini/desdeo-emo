{
 "cells": [
  {
   "cell_type": "code",
   "execution_count": 2,
   "metadata": {},
   "outputs": [],
   "source": [
    "from desdeo_problem.Variable import variable_builder\n",
    "from desdeo_problem.Objective import ScalarObjective\n",
    "from desdeo_problem.Problem import MOProblem\n",
    "import numpy as np"
   ]
  },
  {
   "cell_type": "code",
   "execution_count": 6,
   "metadata": {},
   "outputs": [
    {
     "name": "stdout",
     "output_type": "stream",
     "text": [
      "Help on function variable_builder in module desdeo_problem.Variable:\n",
      "\n",
      "variable_builder(names: List[str], initial_values: Union[List[float], numpy.ndarray], lower_bounds: Union[List[float], numpy.ndarray] = None, upper_bounds: Union[List[float], numpy.ndarray] = None) -> List[desdeo_problem.Variable.Variable]\n",
      "    Automatically build all variable objects.\n",
      "    \n",
      "    Args:\n",
      "        names (List[str]): Names of the variables\n",
      "        initial_values (np.ndarray): Initial values taken by the variables.\n",
      "        lower_bounds (Union[List[float], np.ndarray], optional): Lower bounds of the\n",
      "            variables. If None, it defaults to negative infinity. Defaults to None.\n",
      "        upper_bounds (Union[List[float], np.ndarray], optional): Upper bounds of the\n",
      "            variables. If None, it defaults to positive infinity. Defaults to None.\n",
      "    \n",
      "    Raises:\n",
      "        VariableError: Lengths of the input arrays are different.\n",
      "    \n",
      "    Returns:\n",
      "        List[Variable]: List of variable objects\n",
      "\n"
     ]
    }
   ],
   "source": [
    "help(variable_builder)"
   ]
  },
  {
   "cell_type": "code",
   "execution_count": 31,
   "metadata": {},
   "outputs": [],
   "source": [
    "def f_1(x):\n",
    "    term1 = ((x[:,0] - 2) ** 2) / 2\n",
    "    term2 = ((x[:,1] + 1) ** 2) / 13\n",
    "    return term1 + term2 + 3\n",
    "\n",
    "def f_2(x):\n",
    "    term1 = ((x[:, 0] + x[:, 1] - 3) ** 2) / 36\n",
    "    term2 = ((-x[:, 0] + x[:, 1] + 2) ** 2) / 8\n",
    "    return term1 + term2 - 17\n",
    "\n",
    "def f_3(x):\n",
    "    term1 = ((x[:, 0] + (2 * x[:, 1]) - 1) ** 2) / 175\n",
    "    term2 = ((-x[:, 0] + 2* x[:, 1]) ** 2) / 17\n",
    "    return term1 + term2 - 13\n",
    "\n",
    "\n",
    "def f_4(x):\n",
    "    term = x[:, 0]**2 + x[:, 1]**2\n",
    "    return 0.5*term + np.sin(term)\n",
    "\n",
    "def f_5(x):\n",
    "    term1 = ((3*x[:, 0] - 2*x[:,1] + 4)**2)/8\n",
    "    term2 = ((x[:, 0] - x[:,1] + 1)**2)/27\n",
    "    return term1 + term2 - 15\n",
    "\n",
    "def f_6(x):\n",
    "    term = x[:, 0]**2 + x[:, 1]**2\n",
    "    return (1/(term + 1)) - 1.1 * np.exp(-term)"
   ]
  },
  {
   "cell_type": "code",
   "execution_count": null,
   "metadata": {},
   "outputs": [],
   "source": [
    "list_vars = variable_builder(['x', 'y'],\n",
    "                             initial_values = [0,0],\n",
    "                             lower_bounds=[-400, -400],\n",
    "                             upper_bounds=[400, 400])"
   ]
  },
  {
   "cell_type": "code",
   "execution_count": 18,
   "metadata": {},
   "outputs": [],
   "source": [
    "f1 = ScalarObjective(name='f1', evaluator=f_1)\n",
    "f2 = ScalarObjective(name='f2', evaluator=f_2)\n",
    "f3 = ScalarObjective(name='f3', evaluator=f_3)"
   ]
  },
  {
   "cell_type": "code",
   "execution_count": 19,
   "metadata": {},
   "outputs": [],
   "source": [
    "problem = MOProblem(variables=list_vars, objectives=[f1, f2, f3])"
   ]
  },
  {
   "cell_type": "code",
   "execution_count": 26,
   "metadata": {},
   "outputs": [],
   "source": [
    "from desdeo_emo.EAs.RVEA import RVEA\n",
    "from desdeo_emo.EAs.NSGAIII import NSGAIII\n",
    "from desdeo_emo.othertools.plotlyanimate import animate_init_, animate_next_"
   ]
  },
  {
   "cell_type": "code",
   "execution_count": 27,
   "metadata": {},
   "outputs": [],
   "source": [
    "evolver = NSGAIII(problem, n_iterations=10)"
   ]
  },
  {
   "cell_type": "code",
   "execution_count": 28,
   "metadata": {},
   "outputs": [
    {
     "name": "stdout",
     "output_type": "stream",
     "text": [
      "Plot saved as:  dtlz3.html\n",
      "View the plot by opening the file in browser.\n",
      "To view the plot in Jupyter Notebook, use the IFrame command.\n"
     ]
    }
   ],
   "source": [
    "figure = animate_init_(evolver.population.objectives, filename=\"dtlz3.html\")"
   ]
  },
  {
   "cell_type": "code",
   "execution_count": 29,
   "metadata": {},
   "outputs": [],
   "source": [
    "while evolver.continue_evolution():\n",
    "    evolver._next_iteration()\n",
    "    figure = animate_next_(\n",
    "        evolver.population.objectives,\n",
    "        figure,\n",
    "        filename=\"dtlz3.html\",\n",
    "        generation=evolver._iteration_counter-2,\n",
    "    )"
   ]
  },
  {
   "cell_type": "code",
   "execution_count": null,
   "metadata": {},
   "outputs": [],
   "source": []
  },
  {
   "cell_type": "code",
   "execution_count": null,
   "metadata": {},
   "outputs": [],
   "source": []
  },
  {
   "cell_type": "code",
   "execution_count": 34,
   "metadata": {},
   "outputs": [],
   "source": [
    "list_vars = variable_builder(['x', 'y'],\n",
    "                             initial_values = [0,0],\n",
    "                             lower_bounds=[-30, -30],\n",
    "                             upper_bounds=[30, 30])"
   ]
  },
  {
   "cell_type": "code",
   "execution_count": 35,
   "metadata": {},
   "outputs": [],
   "source": [
    "f1 = ScalarObjective(name='f1', evaluator=f_4)\n",
    "f2 = ScalarObjective(name='f2', evaluator=f_5)\n",
    "f3 = ScalarObjective(name='f3', evaluator=f_6)"
   ]
  },
  {
   "cell_type": "code",
   "execution_count": 36,
   "metadata": {},
   "outputs": [],
   "source": [
    "problem = MOProblem(variables=list_vars, objectives=[f1, f2, f3])"
   ]
  },
  {
   "cell_type": "code",
   "execution_count": 43,
   "metadata": {},
   "outputs": [],
   "source": [
    "evolver = RVEA(problem, n_iterations=10)"
   ]
  },
  {
   "cell_type": "code",
   "execution_count": 44,
   "metadata": {},
   "outputs": [
    {
     "name": "stdout",
     "output_type": "stream",
     "text": [
      "Plot saved as:  dtlz3.html\n",
      "View the plot by opening the file in browser.\n",
      "To view the plot in Jupyter Notebook, use the IFrame command.\n"
     ]
    }
   ],
   "source": [
    "figure = animate_init_(evolver.population.objectives, filename=\"dtlz3.html\")"
   ]
  },
  {
   "cell_type": "code",
   "execution_count": 45,
   "metadata": {},
   "outputs": [],
   "source": [
    "while evolver.continue_evolution():\n",
    "    evolver._next_iteration()\n",
    "    figure = animate_next_(\n",
    "        evolver.population.objectives,\n",
    "        figure,\n",
    "        filename=\"dtlz3.html\",\n",
    "        generation=evolver._iteration_counter-2,\n",
    "    )"
   ]
  },
  {
   "cell_type": "code",
   "execution_count": null,
   "metadata": {},
   "outputs": [],
   "source": []
  }
 ],
 "metadata": {
  "kernelspec": {
   "display_name": "desdeo_emo",
   "language": "python",
   "name": "desdeo_emo"
  },
  "language_info": {
   "codemirror_mode": {
    "name": "ipython",
    "version": 3
   },
   "file_extension": ".py",
   "mimetype": "text/x-python",
   "name": "python",
   "nbconvert_exporter": "python",
   "pygments_lexer": "ipython3",
   "version": "3.7.1"
  }
 },
 "nbformat": 4,
 "nbformat_minor": 2
}
