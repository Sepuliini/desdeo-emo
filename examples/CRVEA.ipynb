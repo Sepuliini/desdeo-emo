{
 "cells": [
  {
   "cell_type": "code",
   "execution_count": 1,
   "metadata": {},
   "outputs": [],
   "source": [
    "import numpy as np\n",
    "import pandas as pd\n",
    "\n",
    "from desdeo_problem.Objective import _ScalarObjective\n",
    "from desdeo_problem.Variable import variable_builder\n",
    "from desdeo_problem.Problem import MOProblem\n",
    "from desdeo_emo.EAs.RVEA import RVEA\n",
    "from desdeo_emo.othertools.plotlyanimate import animate_init_, animate_next_\n",
    "from pygmo import fast_non_dominated_sorting as nds\n",
    "import plotly.express as ex\n",
    "from desdeo_problem.Constraint import ScalarConstraint"
   ]
  },
  {
   "cell_type": "markdown",
   "metadata": {},
   "source": [
    "## Define Objectives and variable builder"
   ]
  },
  {
   "cell_type": "code",
   "execution_count": 2,
   "metadata": {},
   "outputs": [],
   "source": [
    "def f_1(x):\n",
    "    term = x[:, 0]**2 + x[:, 1]**2\n",
    "    return 0.5*term + np.sin(term)\n",
    "\n",
    "def f_2(x):\n",
    "    term1 = ((3*x[:, 0] - 2*x[:,1] + 4)**2)/8\n",
    "    term2 = ((x[:, 0] - x[:,1] + 1)**2)/27\n",
    "    return term1 + term2 + 15\n",
    "\n",
    "def f_3(x):\n",
    "    term = x[:, 0]**2 + x[:, 1]**2\n",
    "    return (1/(term + 1)) - 1.1 * np.exp(-term)\n",
    "\n",
    "list_vars = variable_builder(['x', 'y'],\n",
    "                             initial_values = [0,0],\n",
    "                             lower_bounds=[-30, -30],\n",
    "                             upper_bounds=[30, 30])"
   ]
  },
  {
   "cell_type": "markdown",
   "metadata": {},
   "source": [
    "## Define objectives"
   ]
  },
  {
   "cell_type": "code",
   "execution_count": 3,
   "metadata": {},
   "outputs": [],
   "source": [
    "f1 = _ScalarObjective(name='f1', evaluator=f_1)\n",
    "f2 = _ScalarObjective(name='f2', evaluator=f_2)\n",
    "f3 = _ScalarObjective(name='f3', evaluator=f_3)"
   ]
  },
  {
   "cell_type": "code",
   "execution_count": 4,
   "metadata": {},
   "outputs": [],
   "source": [
    "from desdeo_problem.Constraint import ScalarConstraint\n",
    "\n",
    "const_func_1 = lambda x, y: (y[:, 0] - .2) * (y[:, 0] - .4) * (-1)\n",
    "const_func_2 = lambda x, y: 16.5 - y[:, 1]\n",
    "\n",
    "# Args: name, number of variables, number of objectives, callable\n",
    "cons1 = ScalarConstraint(\"c_1\", 2, 2, const_func_1)\n",
    "cons2 = ScalarConstraint(\"c_2\", 2, 2, const_func_2)"
   ]
  },
  {
   "cell_type": "markdown",
   "metadata": {},
   "source": [
    "## Define MOProblem"
   ]
  },
  {
   "cell_type": "code",
   "execution_count": 5,
   "metadata": {},
   "outputs": [],
   "source": [
    "problem = MOProblem(variables=list_vars, objectives=[f1, f2], constraints=[cons2])\n",
    "\n",
    "# problem = MOProblem(variables=list_vars, objectives=[f1, f2])\n",
    "\n",
    "evolver = RVEA(problem)"
   ]
  },
  {
   "cell_type": "code",
   "execution_count": 6,
   "metadata": {},
   "outputs": [
    {
     "name": "stdout",
     "output_type": "stream",
     "text": [
      "Plot saved as:  MOP5.html\n",
      "View the plot by opening the file in browser.\n",
      "To view the plot in Jupyter Notebook, use the IFrame command.\n"
     ]
    }
   ],
   "source": [
    "figure = animate_init_(evolver.population.objectives, filename=\"MOP5.html\")"
   ]
  },
  {
   "cell_type": "code",
   "execution_count": 7,
   "metadata": {},
   "outputs": [
    {
     "name": "stdout",
     "output_type": "stream",
     "text": [
      "---------------------------\n",
      "0.1\n",
      "---------------------------\n",
      "0.2\n",
      "---------------------------\n",
      "0.3\n",
      "---------------------------\n",
      "0.4\n",
      "---------------------------\n",
      "0.5\n",
      "---------------------------\n",
      "0.6\n",
      "---------------------------\n",
      "0.7\n",
      "---------------------------\n",
      "0.8\n",
      "---------------------------\n",
      "0.9\n",
      "---------------------------\n",
      "1.0\n"
     ]
    }
   ],
   "source": [
    "i = 0\n",
    "while i<10:\n",
    "    print('---------------------------')\n",
    "    i += 1\n",
    "    evolver.iterate()\n",
    "    print(evolver.selection_operator.time_penalty_function())\n",
    "    figure = animate_next_(\n",
    "        evolver.population.objectives,\n",
    "        figure,\n",
    "        filename=\"MOP5.html\",\n",
    "        generation=evolver._iteration_counter,\n",
    "    )"
   ]
  },
  {
   "cell_type": "markdown",
   "metadata": {},
   "source": [
    "## MOP-C4 Tanaka from Coello's book\n",
    "\n",
    "The problem is wrong in the book, look up literature."
   ]
  },
  {
   "cell_type": "code",
   "execution_count": 2,
   "metadata": {},
   "outputs": [],
   "source": [
    "def f_1(x):\n",
    "    return x[:,0]\n",
    "\n",
    "def f_2(x):\n",
    "    return x[:,1]\n",
    "\n",
    "def c_1(x, y):\n",
    "    a = 0.1\n",
    "    b = 16\n",
    "    #a = 0.1 * (x[:,0]**2 + x[:,1]**2 + 5 * x[:,0]*x[:,1])\n",
    "    #b = 8 * (x[:,0]**2 + x[:,1]**2)\n",
    "    return -x[:,0]**2 - x[:,1]**2 + 1 + a* np.cos(b*np.arctan(x[:,0]/x[:,1]))\n",
    "\n",
    "def c_2(x,y):\n",
    "    return - 0.5 + (x[:,0]-0.5)**2 + (x[:,1]-0.5)**2"
   ]
  },
  {
   "cell_type": "code",
   "execution_count": 3,
   "metadata": {},
   "outputs": [],
   "source": [
    "list_vars = variable_builder(['x', 'y'],\n",
    "                             initial_values = [0,0],\n",
    "                             lower_bounds=[0, 0],\n",
    "                             upper_bounds=[np.pi, np.pi])"
   ]
  },
  {
   "cell_type": "code",
   "execution_count": 4,
   "metadata": {},
   "outputs": [],
   "source": [
    "f1 = _ScalarObjective(name='f1', evaluator=f_1)\n",
    "f2 = _ScalarObjective(name='f2', evaluator=f_2)"
   ]
  },
  {
   "cell_type": "code",
   "execution_count": 5,
   "metadata": {},
   "outputs": [],
   "source": [
    "c1 = ScalarConstraint(\"c1\", 2, 2, c_1)\n",
    "c2 = ScalarConstraint(\"c2\", 2, 2, c_2)"
   ]
  },
  {
   "cell_type": "code",
   "execution_count": 6,
   "metadata": {},
   "outputs": [],
   "source": [
    "problem = MOProblem(variables=list_vars, objectives=[f1,f2], constraints=[c1,c2])"
   ]
  },
  {
   "cell_type": "code",
   "execution_count": 12,
   "metadata": {},
   "outputs": [],
   "source": [
    "evolver = RVEA(problem, lattice_resolution=200, alpha=0.1)"
   ]
  },
  {
   "cell_type": "code",
   "execution_count": 13,
   "metadata": {},
   "outputs": [
    {
     "name": "stdout",
     "output_type": "stream",
     "text": [
      "Plot saved as:  MOPC4.html\n",
      "View the plot by opening the file in browser.\n",
      "To view the plot in Jupyter Notebook, use the IFrame command.\n"
     ]
    },
    {
     "name": "stderr",
     "output_type": "stream",
     "text": [
      "/home/rishi/.virtualenvs/desdeo-emo/lib/python3.7/site-packages/ipykernel_launcher.py:12: RuntimeWarning:\n",
      "\n",
      "divide by zero encountered in true_divide\n",
      "\n",
      "/home/rishi/.virtualenvs/desdeo-emo/lib/python3.7/site-packages/ipykernel_launcher.py:12: RuntimeWarning:\n",
      "\n",
      "invalid value encountered in true_divide\n",
      "\n"
     ]
    }
   ],
   "source": [
    "figure = animate_init_(evolver.population.objectives, filename=\"MOPC4.html\")\n",
    "\n",
    "while evolver.continue_evolution():\n",
    "    evolver.iterate()\n",
    "    figure = animate_next_(\n",
    "        evolver.population.objectives,\n",
    "        figure,\n",
    "        filename=\"MOPC4.html\",\n",
    "        generation=evolver._iteration_counter,\n",
    "    )"
   ]
  },
  {
   "cell_type": "code",
   "execution_count": 14,
   "metadata": {},
   "outputs": [],
   "source": [
    "non_dom = evolver.population.objectives[nds(evolver.population.objectives)[0][0]]"
   ]
  },
  {
   "cell_type": "code",
   "execution_count": 15,
   "metadata": {},
   "outputs": [
    {
     "data": {
      "application/vnd.plotly.v1+json": {
       "config": {
        "plotlyServerURL": "https://plot.ly"
       },
       "data": [
        {
         "hoverlabel": {
          "namelength": 0
         },
         "hovertemplate": "x=%{x}<br>y=%{y}",
         "legendgroup": "",
         "marker": {
          "color": "#636efa",
          "symbol": "circle"
         },
         "mode": "markers",
         "name": "",
         "showlegend": false,
         "type": "scatter",
         "x": [
          0.8101275550839325,
          0.9698865862749507,
          0.5592849203617565,
          0.937363917357542,
          0.5531527551674862,
          0.8894582879033791,
          0.9240312627327669,
          1.0061099570425303,
          0.8577728853780612,
          1.0198639202529773,
          0.16383825600553192,
          1.019544344521354,
          0.07328079692349322,
          0.060071072923851276,
          0.07903941635435652,
          1.036216096890009,
          0.05352711294192866,
          0.06835657105298382,
          0.04618338951019674,
          1.0413929245815066,
          1.0478015674257626,
          0.030095679759278182,
          0.02449001717436504,
          1.0468169947467567,
          0.01898787516213181,
          1.0453309103021402,
          0.0080296473178601,
          0.03568104571319389,
          0.013570726071894985,
          0.8865101511132834,
          0.0022187453162958986,
          1.0489985942584212,
          1.0392865969611023,
          1.0438268261923676,
          0.04144281029256582,
          1.0484351559806486
         ],
         "xaxis": "x",
         "y": [
          0.6074090218120517,
          0.13416725951870664,
          0.8184201769700781,
          0.17289001326732362,
          0.9282500380815148,
          0.5081159795656314,
          0.4671810694468774,
          0.11326381661556506,
          0.5253046742867642,
          0.08688255981065855,
          0.9536934218384522,
          0.09299681472578514,
          1.0191366358308294,
          1.0307589886695623,
          1.0143468906492759,
          0.06326472448649036,
          1.0350770999955161,
          1.0236777293837314,
          1.0361541258343228,
          0.034151942838345134,
          0.012910044942296858,
          1.0437512224328183,
          1.0458986179084278,
          0.018207195424306623,
          1.0466326917699431,
          0.023455359315420088,
          1.0484614524050355,
          1.0416016572680438,
          1.0475961531224907,
          0.5246175218627883,
          1.0484954955562378,
          0.002521180329293146,
          0.03953128189528678,
          0.028816590377605113,
          1.0392529721882418,
          0.007711232290981225
         ],
         "yaxis": "y"
        }
       ],
       "layout": {
        "legend": {
         "tracegroupgap": 0
        },
        "margin": {
         "t": 60
        },
        "template": {
         "data": {
          "bar": [
           {
            "error_x": {
             "color": "#2a3f5f"
            },
            "error_y": {
             "color": "#2a3f5f"
            },
            "marker": {
             "line": {
              "color": "#E5ECF6",
              "width": 0.5
             }
            },
            "type": "bar"
           }
          ],
          "barpolar": [
           {
            "marker": {
             "line": {
              "color": "#E5ECF6",
              "width": 0.5
             }
            },
            "type": "barpolar"
           }
          ],
          "carpet": [
           {
            "aaxis": {
             "endlinecolor": "#2a3f5f",
             "gridcolor": "white",
             "linecolor": "white",
             "minorgridcolor": "white",
             "startlinecolor": "#2a3f5f"
            },
            "baxis": {
             "endlinecolor": "#2a3f5f",
             "gridcolor": "white",
             "linecolor": "white",
             "minorgridcolor": "white",
             "startlinecolor": "#2a3f5f"
            },
            "type": "carpet"
           }
          ],
          "choropleth": [
           {
            "colorbar": {
             "outlinewidth": 0,
             "ticks": ""
            },
            "type": "choropleth"
           }
          ],
          "contour": [
           {
            "colorbar": {
             "outlinewidth": 0,
             "ticks": ""
            },
            "colorscale": [
             [
              0,
              "#0d0887"
             ],
             [
              0.1111111111111111,
              "#46039f"
             ],
             [
              0.2222222222222222,
              "#7201a8"
             ],
             [
              0.3333333333333333,
              "#9c179e"
             ],
             [
              0.4444444444444444,
              "#bd3786"
             ],
             [
              0.5555555555555556,
              "#d8576b"
             ],
             [
              0.6666666666666666,
              "#ed7953"
             ],
             [
              0.7777777777777778,
              "#fb9f3a"
             ],
             [
              0.8888888888888888,
              "#fdca26"
             ],
             [
              1,
              "#f0f921"
             ]
            ],
            "type": "contour"
           }
          ],
          "contourcarpet": [
           {
            "colorbar": {
             "outlinewidth": 0,
             "ticks": ""
            },
            "type": "contourcarpet"
           }
          ],
          "heatmap": [
           {
            "colorbar": {
             "outlinewidth": 0,
             "ticks": ""
            },
            "colorscale": [
             [
              0,
              "#0d0887"
             ],
             [
              0.1111111111111111,
              "#46039f"
             ],
             [
              0.2222222222222222,
              "#7201a8"
             ],
             [
              0.3333333333333333,
              "#9c179e"
             ],
             [
              0.4444444444444444,
              "#bd3786"
             ],
             [
              0.5555555555555556,
              "#d8576b"
             ],
             [
              0.6666666666666666,
              "#ed7953"
             ],
             [
              0.7777777777777778,
              "#fb9f3a"
             ],
             [
              0.8888888888888888,
              "#fdca26"
             ],
             [
              1,
              "#f0f921"
             ]
            ],
            "type": "heatmap"
           }
          ],
          "heatmapgl": [
           {
            "colorbar": {
             "outlinewidth": 0,
             "ticks": ""
            },
            "colorscale": [
             [
              0,
              "#0d0887"
             ],
             [
              0.1111111111111111,
              "#46039f"
             ],
             [
              0.2222222222222222,
              "#7201a8"
             ],
             [
              0.3333333333333333,
              "#9c179e"
             ],
             [
              0.4444444444444444,
              "#bd3786"
             ],
             [
              0.5555555555555556,
              "#d8576b"
             ],
             [
              0.6666666666666666,
              "#ed7953"
             ],
             [
              0.7777777777777778,
              "#fb9f3a"
             ],
             [
              0.8888888888888888,
              "#fdca26"
             ],
             [
              1,
              "#f0f921"
             ]
            ],
            "type": "heatmapgl"
           }
          ],
          "histogram": [
           {
            "marker": {
             "colorbar": {
              "outlinewidth": 0,
              "ticks": ""
             }
            },
            "type": "histogram"
           }
          ],
          "histogram2d": [
           {
            "colorbar": {
             "outlinewidth": 0,
             "ticks": ""
            },
            "colorscale": [
             [
              0,
              "#0d0887"
             ],
             [
              0.1111111111111111,
              "#46039f"
             ],
             [
              0.2222222222222222,
              "#7201a8"
             ],
             [
              0.3333333333333333,
              "#9c179e"
             ],
             [
              0.4444444444444444,
              "#bd3786"
             ],
             [
              0.5555555555555556,
              "#d8576b"
             ],
             [
              0.6666666666666666,
              "#ed7953"
             ],
             [
              0.7777777777777778,
              "#fb9f3a"
             ],
             [
              0.8888888888888888,
              "#fdca26"
             ],
             [
              1,
              "#f0f921"
             ]
            ],
            "type": "histogram2d"
           }
          ],
          "histogram2dcontour": [
           {
            "colorbar": {
             "outlinewidth": 0,
             "ticks": ""
            },
            "colorscale": [
             [
              0,
              "#0d0887"
             ],
             [
              0.1111111111111111,
              "#46039f"
             ],
             [
              0.2222222222222222,
              "#7201a8"
             ],
             [
              0.3333333333333333,
              "#9c179e"
             ],
             [
              0.4444444444444444,
              "#bd3786"
             ],
             [
              0.5555555555555556,
              "#d8576b"
             ],
             [
              0.6666666666666666,
              "#ed7953"
             ],
             [
              0.7777777777777778,
              "#fb9f3a"
             ],
             [
              0.8888888888888888,
              "#fdca26"
             ],
             [
              1,
              "#f0f921"
             ]
            ],
            "type": "histogram2dcontour"
           }
          ],
          "mesh3d": [
           {
            "colorbar": {
             "outlinewidth": 0,
             "ticks": ""
            },
            "type": "mesh3d"
           }
          ],
          "parcoords": [
           {
            "line": {
             "colorbar": {
              "outlinewidth": 0,
              "ticks": ""
             }
            },
            "type": "parcoords"
           }
          ],
          "pie": [
           {
            "automargin": true,
            "type": "pie"
           }
          ],
          "scatter": [
           {
            "marker": {
             "colorbar": {
              "outlinewidth": 0,
              "ticks": ""
             }
            },
            "type": "scatter"
           }
          ],
          "scatter3d": [
           {
            "line": {
             "colorbar": {
              "outlinewidth": 0,
              "ticks": ""
             }
            },
            "marker": {
             "colorbar": {
              "outlinewidth": 0,
              "ticks": ""
             }
            },
            "type": "scatter3d"
           }
          ],
          "scattercarpet": [
           {
            "marker": {
             "colorbar": {
              "outlinewidth": 0,
              "ticks": ""
             }
            },
            "type": "scattercarpet"
           }
          ],
          "scattergeo": [
           {
            "marker": {
             "colorbar": {
              "outlinewidth": 0,
              "ticks": ""
             }
            },
            "type": "scattergeo"
           }
          ],
          "scattergl": [
           {
            "marker": {
             "colorbar": {
              "outlinewidth": 0,
              "ticks": ""
             }
            },
            "type": "scattergl"
           }
          ],
          "scattermapbox": [
           {
            "marker": {
             "colorbar": {
              "outlinewidth": 0,
              "ticks": ""
             }
            },
            "type": "scattermapbox"
           }
          ],
          "scatterpolar": [
           {
            "marker": {
             "colorbar": {
              "outlinewidth": 0,
              "ticks": ""
             }
            },
            "type": "scatterpolar"
           }
          ],
          "scatterpolargl": [
           {
            "marker": {
             "colorbar": {
              "outlinewidth": 0,
              "ticks": ""
             }
            },
            "type": "scatterpolargl"
           }
          ],
          "scatterternary": [
           {
            "marker": {
             "colorbar": {
              "outlinewidth": 0,
              "ticks": ""
             }
            },
            "type": "scatterternary"
           }
          ],
          "surface": [
           {
            "colorbar": {
             "outlinewidth": 0,
             "ticks": ""
            },
            "colorscale": [
             [
              0,
              "#0d0887"
             ],
             [
              0.1111111111111111,
              "#46039f"
             ],
             [
              0.2222222222222222,
              "#7201a8"
             ],
             [
              0.3333333333333333,
              "#9c179e"
             ],
             [
              0.4444444444444444,
              "#bd3786"
             ],
             [
              0.5555555555555556,
              "#d8576b"
             ],
             [
              0.6666666666666666,
              "#ed7953"
             ],
             [
              0.7777777777777778,
              "#fb9f3a"
             ],
             [
              0.8888888888888888,
              "#fdca26"
             ],
             [
              1,
              "#f0f921"
             ]
            ],
            "type": "surface"
           }
          ],
          "table": [
           {
            "cells": {
             "fill": {
              "color": "#EBF0F8"
             },
             "line": {
              "color": "white"
             }
            },
            "header": {
             "fill": {
              "color": "#C8D4E3"
             },
             "line": {
              "color": "white"
             }
            },
            "type": "table"
           }
          ]
         },
         "layout": {
          "annotationdefaults": {
           "arrowcolor": "#2a3f5f",
           "arrowhead": 0,
           "arrowwidth": 1
          },
          "coloraxis": {
           "colorbar": {
            "outlinewidth": 0,
            "ticks": ""
           }
          },
          "colorscale": {
           "diverging": [
            [
             0,
             "#8e0152"
            ],
            [
             0.1,
             "#c51b7d"
            ],
            [
             0.2,
             "#de77ae"
            ],
            [
             0.3,
             "#f1b6da"
            ],
            [
             0.4,
             "#fde0ef"
            ],
            [
             0.5,
             "#f7f7f7"
            ],
            [
             0.6,
             "#e6f5d0"
            ],
            [
             0.7,
             "#b8e186"
            ],
            [
             0.8,
             "#7fbc41"
            ],
            [
             0.9,
             "#4d9221"
            ],
            [
             1,
             "#276419"
            ]
           ],
           "sequential": [
            [
             0,
             "#0d0887"
            ],
            [
             0.1111111111111111,
             "#46039f"
            ],
            [
             0.2222222222222222,
             "#7201a8"
            ],
            [
             0.3333333333333333,
             "#9c179e"
            ],
            [
             0.4444444444444444,
             "#bd3786"
            ],
            [
             0.5555555555555556,
             "#d8576b"
            ],
            [
             0.6666666666666666,
             "#ed7953"
            ],
            [
             0.7777777777777778,
             "#fb9f3a"
            ],
            [
             0.8888888888888888,
             "#fdca26"
            ],
            [
             1,
             "#f0f921"
            ]
           ],
           "sequentialminus": [
            [
             0,
             "#0d0887"
            ],
            [
             0.1111111111111111,
             "#46039f"
            ],
            [
             0.2222222222222222,
             "#7201a8"
            ],
            [
             0.3333333333333333,
             "#9c179e"
            ],
            [
             0.4444444444444444,
             "#bd3786"
            ],
            [
             0.5555555555555556,
             "#d8576b"
            ],
            [
             0.6666666666666666,
             "#ed7953"
            ],
            [
             0.7777777777777778,
             "#fb9f3a"
            ],
            [
             0.8888888888888888,
             "#fdca26"
            ],
            [
             1,
             "#f0f921"
            ]
           ]
          },
          "colorway": [
           "#636efa",
           "#EF553B",
           "#00cc96",
           "#ab63fa",
           "#FFA15A",
           "#19d3f3",
           "#FF6692",
           "#B6E880",
           "#FF97FF",
           "#FECB52"
          ],
          "font": {
           "color": "#2a3f5f"
          },
          "geo": {
           "bgcolor": "white",
           "lakecolor": "white",
           "landcolor": "#E5ECF6",
           "showlakes": true,
           "showland": true,
           "subunitcolor": "white"
          },
          "hoverlabel": {
           "align": "left"
          },
          "hovermode": "closest",
          "mapbox": {
           "style": "light"
          },
          "paper_bgcolor": "white",
          "plot_bgcolor": "#E5ECF6",
          "polar": {
           "angularaxis": {
            "gridcolor": "white",
            "linecolor": "white",
            "ticks": ""
           },
           "bgcolor": "#E5ECF6",
           "radialaxis": {
            "gridcolor": "white",
            "linecolor": "white",
            "ticks": ""
           }
          },
          "scene": {
           "xaxis": {
            "backgroundcolor": "#E5ECF6",
            "gridcolor": "white",
            "gridwidth": 2,
            "linecolor": "white",
            "showbackground": true,
            "ticks": "",
            "zerolinecolor": "white"
           },
           "yaxis": {
            "backgroundcolor": "#E5ECF6",
            "gridcolor": "white",
            "gridwidth": 2,
            "linecolor": "white",
            "showbackground": true,
            "ticks": "",
            "zerolinecolor": "white"
           },
           "zaxis": {
            "backgroundcolor": "#E5ECF6",
            "gridcolor": "white",
            "gridwidth": 2,
            "linecolor": "white",
            "showbackground": true,
            "ticks": "",
            "zerolinecolor": "white"
           }
          },
          "shapedefaults": {
           "line": {
            "color": "#2a3f5f"
           }
          },
          "ternary": {
           "aaxis": {
            "gridcolor": "white",
            "linecolor": "white",
            "ticks": ""
           },
           "baxis": {
            "gridcolor": "white",
            "linecolor": "white",
            "ticks": ""
           },
           "bgcolor": "#E5ECF6",
           "caxis": {
            "gridcolor": "white",
            "linecolor": "white",
            "ticks": ""
           }
          },
          "title": {
           "x": 0.05
          },
          "xaxis": {
           "automargin": true,
           "gridcolor": "white",
           "linecolor": "white",
           "ticks": "",
           "title": {
            "standoff": 15
           },
           "zerolinecolor": "white",
           "zerolinewidth": 2
          },
          "yaxis": {
           "automargin": true,
           "gridcolor": "white",
           "linecolor": "white",
           "ticks": "",
           "title": {
            "standoff": 15
           },
           "zerolinecolor": "white",
           "zerolinewidth": 2
          }
         }
        },
        "xaxis": {
         "anchor": "y",
         "domain": [
          0,
          1
         ],
         "title": {
          "text": "x"
         }
        },
        "yaxis": {
         "anchor": "x",
         "domain": [
          0,
          1
         ],
         "title": {
          "text": "y"
         }
        }
       }
      },
      "text/html": [
       "<div>\n",
       "        \n",
       "        \n",
       "            <div id=\"79cb20d3-3fc8-497f-9b3c-0848e78bb82d\" class=\"plotly-graph-div\" style=\"height:525px; width:100%;\"></div>\n",
       "            <script type=\"text/javascript\">\n",
       "                require([\"plotly\"], function(Plotly) {\n",
       "                    window.PLOTLYENV=window.PLOTLYENV || {};\n",
       "                    \n",
       "                if (document.getElementById(\"79cb20d3-3fc8-497f-9b3c-0848e78bb82d\")) {\n",
       "                    Plotly.newPlot(\n",
       "                        '79cb20d3-3fc8-497f-9b3c-0848e78bb82d',\n",
       "                        [{\"hoverlabel\": {\"namelength\": 0}, \"hovertemplate\": \"x=%{x}<br>y=%{y}\", \"legendgroup\": \"\", \"marker\": {\"color\": \"#636efa\", \"symbol\": \"circle\"}, \"mode\": \"markers\", \"name\": \"\", \"showlegend\": false, \"type\": \"scatter\", \"x\": [0.8101275550839325, 0.9698865862749507, 0.5592849203617565, 0.937363917357542, 0.5531527551674862, 0.8894582879033791, 0.9240312627327669, 1.0061099570425303, 0.8577728853780612, 1.0198639202529773, 0.16383825600553192, 1.019544344521354, 0.07328079692349322, 0.060071072923851276, 0.07903941635435652, 1.036216096890009, 0.05352711294192866, 0.06835657105298382, 0.04618338951019674, 1.0413929245815066, 1.0478015674257626, 0.030095679759278182, 0.02449001717436504, 1.0468169947467567, 0.01898787516213181, 1.0453309103021402, 0.0080296473178601, 0.03568104571319389, 0.013570726071894985, 0.8865101511132834, 0.0022187453162958986, 1.0489985942584212, 1.0392865969611023, 1.0438268261923676, 0.04144281029256582, 1.0484351559806486], \"xaxis\": \"x\", \"y\": [0.6074090218120517, 0.13416725951870664, 0.8184201769700781, 0.17289001326732362, 0.9282500380815148, 0.5081159795656314, 0.4671810694468774, 0.11326381661556506, 0.5253046742867642, 0.08688255981065855, 0.9536934218384522, 0.09299681472578514, 1.0191366358308294, 1.0307589886695623, 1.0143468906492759, 0.06326472448649036, 1.0350770999955161, 1.0236777293837314, 1.0361541258343228, 0.034151942838345134, 0.012910044942296858, 1.0437512224328183, 1.0458986179084278, 0.018207195424306623, 1.0466326917699431, 0.023455359315420088, 1.0484614524050355, 1.0416016572680438, 1.0475961531224907, 0.5246175218627883, 1.0484954955562378, 0.002521180329293146, 0.03953128189528678, 0.028816590377605113, 1.0392529721882418, 0.007711232290981225], \"yaxis\": \"y\"}],\n",
       "                        {\"legend\": {\"tracegroupgap\": 0}, \"margin\": {\"t\": 60}, \"template\": {\"data\": {\"bar\": [{\"error_x\": {\"color\": \"#2a3f5f\"}, \"error_y\": {\"color\": \"#2a3f5f\"}, \"marker\": {\"line\": {\"color\": \"#E5ECF6\", \"width\": 0.5}}, \"type\": \"bar\"}], \"barpolar\": [{\"marker\": {\"line\": {\"color\": \"#E5ECF6\", \"width\": 0.5}}, \"type\": \"barpolar\"}], \"carpet\": [{\"aaxis\": {\"endlinecolor\": \"#2a3f5f\", \"gridcolor\": \"white\", \"linecolor\": \"white\", \"minorgridcolor\": \"white\", \"startlinecolor\": \"#2a3f5f\"}, \"baxis\": {\"endlinecolor\": \"#2a3f5f\", \"gridcolor\": \"white\", \"linecolor\": \"white\", \"minorgridcolor\": \"white\", \"startlinecolor\": \"#2a3f5f\"}, \"type\": \"carpet\"}], \"choropleth\": [{\"colorbar\": {\"outlinewidth\": 0, \"ticks\": \"\"}, \"type\": \"choropleth\"}], \"contour\": [{\"colorbar\": {\"outlinewidth\": 0, \"ticks\": \"\"}, \"colorscale\": [[0.0, \"#0d0887\"], [0.1111111111111111, \"#46039f\"], [0.2222222222222222, \"#7201a8\"], [0.3333333333333333, \"#9c179e\"], [0.4444444444444444, \"#bd3786\"], [0.5555555555555556, \"#d8576b\"], [0.6666666666666666, \"#ed7953\"], [0.7777777777777778, \"#fb9f3a\"], [0.8888888888888888, \"#fdca26\"], [1.0, \"#f0f921\"]], \"type\": \"contour\"}], \"contourcarpet\": [{\"colorbar\": {\"outlinewidth\": 0, \"ticks\": \"\"}, \"type\": \"contourcarpet\"}], \"heatmap\": [{\"colorbar\": {\"outlinewidth\": 0, \"ticks\": \"\"}, \"colorscale\": [[0.0, \"#0d0887\"], [0.1111111111111111, \"#46039f\"], [0.2222222222222222, \"#7201a8\"], [0.3333333333333333, \"#9c179e\"], [0.4444444444444444, \"#bd3786\"], [0.5555555555555556, \"#d8576b\"], [0.6666666666666666, \"#ed7953\"], [0.7777777777777778, \"#fb9f3a\"], [0.8888888888888888, \"#fdca26\"], [1.0, \"#f0f921\"]], \"type\": \"heatmap\"}], \"heatmapgl\": [{\"colorbar\": {\"outlinewidth\": 0, \"ticks\": \"\"}, \"colorscale\": [[0.0, \"#0d0887\"], [0.1111111111111111, \"#46039f\"], [0.2222222222222222, \"#7201a8\"], [0.3333333333333333, \"#9c179e\"], [0.4444444444444444, \"#bd3786\"], [0.5555555555555556, \"#d8576b\"], [0.6666666666666666, \"#ed7953\"], [0.7777777777777778, \"#fb9f3a\"], [0.8888888888888888, \"#fdca26\"], [1.0, \"#f0f921\"]], \"type\": \"heatmapgl\"}], \"histogram\": [{\"marker\": {\"colorbar\": {\"outlinewidth\": 0, \"ticks\": \"\"}}, \"type\": \"histogram\"}], \"histogram2d\": [{\"colorbar\": {\"outlinewidth\": 0, \"ticks\": \"\"}, \"colorscale\": [[0.0, \"#0d0887\"], [0.1111111111111111, \"#46039f\"], [0.2222222222222222, \"#7201a8\"], [0.3333333333333333, \"#9c179e\"], [0.4444444444444444, \"#bd3786\"], [0.5555555555555556, \"#d8576b\"], [0.6666666666666666, \"#ed7953\"], [0.7777777777777778, \"#fb9f3a\"], [0.8888888888888888, \"#fdca26\"], [1.0, \"#f0f921\"]], \"type\": \"histogram2d\"}], \"histogram2dcontour\": [{\"colorbar\": {\"outlinewidth\": 0, \"ticks\": \"\"}, \"colorscale\": [[0.0, \"#0d0887\"], [0.1111111111111111, \"#46039f\"], [0.2222222222222222, \"#7201a8\"], [0.3333333333333333, \"#9c179e\"], [0.4444444444444444, \"#bd3786\"], [0.5555555555555556, \"#d8576b\"], [0.6666666666666666, \"#ed7953\"], [0.7777777777777778, \"#fb9f3a\"], [0.8888888888888888, \"#fdca26\"], [1.0, \"#f0f921\"]], \"type\": \"histogram2dcontour\"}], \"mesh3d\": [{\"colorbar\": {\"outlinewidth\": 0, \"ticks\": \"\"}, \"type\": \"mesh3d\"}], \"parcoords\": [{\"line\": {\"colorbar\": {\"outlinewidth\": 0, \"ticks\": \"\"}}, \"type\": \"parcoords\"}], \"pie\": [{\"automargin\": true, \"type\": \"pie\"}], \"scatter\": [{\"marker\": {\"colorbar\": {\"outlinewidth\": 0, \"ticks\": \"\"}}, \"type\": \"scatter\"}], \"scatter3d\": [{\"line\": {\"colorbar\": {\"outlinewidth\": 0, \"ticks\": \"\"}}, \"marker\": {\"colorbar\": {\"outlinewidth\": 0, \"ticks\": \"\"}}, \"type\": \"scatter3d\"}], \"scattercarpet\": [{\"marker\": {\"colorbar\": {\"outlinewidth\": 0, \"ticks\": \"\"}}, \"type\": \"scattercarpet\"}], \"scattergeo\": [{\"marker\": {\"colorbar\": {\"outlinewidth\": 0, \"ticks\": \"\"}}, \"type\": \"scattergeo\"}], \"scattergl\": [{\"marker\": {\"colorbar\": {\"outlinewidth\": 0, \"ticks\": \"\"}}, \"type\": \"scattergl\"}], \"scattermapbox\": [{\"marker\": {\"colorbar\": {\"outlinewidth\": 0, \"ticks\": \"\"}}, \"type\": \"scattermapbox\"}], \"scatterpolar\": [{\"marker\": {\"colorbar\": {\"outlinewidth\": 0, \"ticks\": \"\"}}, \"type\": \"scatterpolar\"}], \"scatterpolargl\": [{\"marker\": {\"colorbar\": {\"outlinewidth\": 0, \"ticks\": \"\"}}, \"type\": \"scatterpolargl\"}], \"scatterternary\": [{\"marker\": {\"colorbar\": {\"outlinewidth\": 0, \"ticks\": \"\"}}, \"type\": \"scatterternary\"}], \"surface\": [{\"colorbar\": {\"outlinewidth\": 0, \"ticks\": \"\"}, \"colorscale\": [[0.0, \"#0d0887\"], [0.1111111111111111, \"#46039f\"], [0.2222222222222222, \"#7201a8\"], [0.3333333333333333, \"#9c179e\"], [0.4444444444444444, \"#bd3786\"], [0.5555555555555556, \"#d8576b\"], [0.6666666666666666, \"#ed7953\"], [0.7777777777777778, \"#fb9f3a\"], [0.8888888888888888, \"#fdca26\"], [1.0, \"#f0f921\"]], \"type\": \"surface\"}], \"table\": [{\"cells\": {\"fill\": {\"color\": \"#EBF0F8\"}, \"line\": {\"color\": \"white\"}}, \"header\": {\"fill\": {\"color\": \"#C8D4E3\"}, \"line\": {\"color\": \"white\"}}, \"type\": \"table\"}]}, \"layout\": {\"annotationdefaults\": {\"arrowcolor\": \"#2a3f5f\", \"arrowhead\": 0, \"arrowwidth\": 1}, \"coloraxis\": {\"colorbar\": {\"outlinewidth\": 0, \"ticks\": \"\"}}, \"colorscale\": {\"diverging\": [[0, \"#8e0152\"], [0.1, \"#c51b7d\"], [0.2, \"#de77ae\"], [0.3, \"#f1b6da\"], [0.4, \"#fde0ef\"], [0.5, \"#f7f7f7\"], [0.6, \"#e6f5d0\"], [0.7, \"#b8e186\"], [0.8, \"#7fbc41\"], [0.9, \"#4d9221\"], [1, \"#276419\"]], \"sequential\": [[0.0, \"#0d0887\"], [0.1111111111111111, \"#46039f\"], [0.2222222222222222, \"#7201a8\"], [0.3333333333333333, \"#9c179e\"], [0.4444444444444444, \"#bd3786\"], [0.5555555555555556, \"#d8576b\"], [0.6666666666666666, \"#ed7953\"], [0.7777777777777778, \"#fb9f3a\"], [0.8888888888888888, \"#fdca26\"], [1.0, \"#f0f921\"]], \"sequentialminus\": [[0.0, \"#0d0887\"], [0.1111111111111111, \"#46039f\"], [0.2222222222222222, \"#7201a8\"], [0.3333333333333333, \"#9c179e\"], [0.4444444444444444, \"#bd3786\"], [0.5555555555555556, \"#d8576b\"], [0.6666666666666666, \"#ed7953\"], [0.7777777777777778, \"#fb9f3a\"], [0.8888888888888888, \"#fdca26\"], [1.0, \"#f0f921\"]]}, \"colorway\": [\"#636efa\", \"#EF553B\", \"#00cc96\", \"#ab63fa\", \"#FFA15A\", \"#19d3f3\", \"#FF6692\", \"#B6E880\", \"#FF97FF\", \"#FECB52\"], \"font\": {\"color\": \"#2a3f5f\"}, \"geo\": {\"bgcolor\": \"white\", \"lakecolor\": \"white\", \"landcolor\": \"#E5ECF6\", \"showlakes\": true, \"showland\": true, \"subunitcolor\": \"white\"}, \"hoverlabel\": {\"align\": \"left\"}, \"hovermode\": \"closest\", \"mapbox\": {\"style\": \"light\"}, \"paper_bgcolor\": \"white\", \"plot_bgcolor\": \"#E5ECF6\", \"polar\": {\"angularaxis\": {\"gridcolor\": \"white\", \"linecolor\": \"white\", \"ticks\": \"\"}, \"bgcolor\": \"#E5ECF6\", \"radialaxis\": {\"gridcolor\": \"white\", \"linecolor\": \"white\", \"ticks\": \"\"}}, \"scene\": {\"xaxis\": {\"backgroundcolor\": \"#E5ECF6\", \"gridcolor\": \"white\", \"gridwidth\": 2, \"linecolor\": \"white\", \"showbackground\": true, \"ticks\": \"\", \"zerolinecolor\": \"white\"}, \"yaxis\": {\"backgroundcolor\": \"#E5ECF6\", \"gridcolor\": \"white\", \"gridwidth\": 2, \"linecolor\": \"white\", \"showbackground\": true, \"ticks\": \"\", \"zerolinecolor\": \"white\"}, \"zaxis\": {\"backgroundcolor\": \"#E5ECF6\", \"gridcolor\": \"white\", \"gridwidth\": 2, \"linecolor\": \"white\", \"showbackground\": true, \"ticks\": \"\", \"zerolinecolor\": \"white\"}}, \"shapedefaults\": {\"line\": {\"color\": \"#2a3f5f\"}}, \"ternary\": {\"aaxis\": {\"gridcolor\": \"white\", \"linecolor\": \"white\", \"ticks\": \"\"}, \"baxis\": {\"gridcolor\": \"white\", \"linecolor\": \"white\", \"ticks\": \"\"}, \"bgcolor\": \"#E5ECF6\", \"caxis\": {\"gridcolor\": \"white\", \"linecolor\": \"white\", \"ticks\": \"\"}}, \"title\": {\"x\": 0.05}, \"xaxis\": {\"automargin\": true, \"gridcolor\": \"white\", \"linecolor\": \"white\", \"ticks\": \"\", \"title\": {\"standoff\": 15}, \"zerolinecolor\": \"white\", \"zerolinewidth\": 2}, \"yaxis\": {\"automargin\": true, \"gridcolor\": \"white\", \"linecolor\": \"white\", \"ticks\": \"\", \"title\": {\"standoff\": 15}, \"zerolinecolor\": \"white\", \"zerolinewidth\": 2}}}, \"xaxis\": {\"anchor\": \"y\", \"domain\": [0.0, 1.0], \"title\": {\"text\": \"x\"}}, \"yaxis\": {\"anchor\": \"x\", \"domain\": [0.0, 1.0], \"title\": {\"text\": \"y\"}}},\n",
       "                        {\"responsive\": true}\n",
       "                    ).then(function(){\n",
       "                            \n",
       "var gd = document.getElementById('79cb20d3-3fc8-497f-9b3c-0848e78bb82d');\n",
       "var x = new MutationObserver(function (mutations, observer) {{\n",
       "        var display = window.getComputedStyle(gd).display;\n",
       "        if (!display || display === 'none') {{\n",
       "            console.log([gd, 'removed!']);\n",
       "            Plotly.purge(gd);\n",
       "            observer.disconnect();\n",
       "        }}\n",
       "}});\n",
       "\n",
       "// Listen for the removal of the full notebook cells\n",
       "var notebookContainer = gd.closest('#notebook-container');\n",
       "if (notebookContainer) {{\n",
       "    x.observe(notebookContainer, {childList: true});\n",
       "}}\n",
       "\n",
       "// Listen for the clearing of the current output cell\n",
       "var outputEl = gd.closest('.output');\n",
       "if (outputEl) {{\n",
       "    x.observe(outputEl, {childList: true});\n",
       "}}\n",
       "\n",
       "                        })\n",
       "                };\n",
       "                });\n",
       "            </script>\n",
       "        </div>"
      ]
     },
     "metadata": {},
     "output_type": "display_data"
    }
   ],
   "source": [
    "ex.scatter(x=non_dom[:,0], y=non_dom[:,1])"
   ]
  },
  {
   "cell_type": "markdown",
   "metadata": {},
   "source": [
    "## Viennet 4"
   ]
  },
  {
   "cell_type": "code",
   "execution_count": 2,
   "metadata": {},
   "outputs": [],
   "source": [
    "def f_1(x):\n",
    "    return ((x[:,0] - 2) ** 2) / 2 + ((x[:,1] + 1) ** 2) / 13 + 3\n",
    "\n",
    "def f_2(x):\n",
    "    return ((x[:,0] + x[:,1] - 3)**2)/175+ ((2*x[:,1]-x[:,0])**2)/17 -13\n",
    "\n",
    "def f_3(x):\n",
    "    return ((3*x[:,0]-2*x[:,1]+4)**2)/8 + ((x[:,0]-x[:,1]+1)**2)/27 + 15"
   ]
  },
  {
   "cell_type": "code",
   "execution_count": 3,
   "metadata": {},
   "outputs": [],
   "source": [
    "def c_1(x,y):\n",
    "    return -3*x[:,0]+4-x[:,1] - np.finfo(float).eps\n",
    "\n",
    "def c_2(x,y):\n",
    "    return x[:,0] + 1 - np.finfo(float).eps\n",
    "\n",
    "def c_3(x,y):\n",
    "    return x[:,1]-x[:,0]+ 2-np.finfo(float).eps"
   ]
  },
  {
   "cell_type": "code",
   "execution_count": 4,
   "metadata": {},
   "outputs": [],
   "source": [
    "list_vars = variable_builder(['x', 'y'],\n",
    "                             initial_values = [0,0],\n",
    "                             lower_bounds=[-4, -4],\n",
    "                             upper_bounds=[4, 4])"
   ]
  },
  {
   "cell_type": "code",
   "execution_count": 5,
   "metadata": {},
   "outputs": [],
   "source": [
    "f1 = _ScalarObjective(name='f1', evaluator=f_1)\n",
    "f2 = _ScalarObjective(name='f2', evaluator=f_2)\n",
    "f3 = _ScalarObjective(name='f3', evaluator=f_3)"
   ]
  },
  {
   "cell_type": "code",
   "execution_count": 6,
   "metadata": {},
   "outputs": [],
   "source": [
    "c1 = ScalarConstraint(\"c1\", n_decision_vars=2, n_objective_funs=3, evaluator=c_1)\n",
    "c2 = ScalarConstraint(\"c2\", n_decision_vars=2, n_objective_funs=3, evaluator=c_2)\n",
    "c3 = ScalarConstraint(\"c3\", n_decision_vars=2, n_objective_funs=3, evaluator=c_3)\n"
   ]
  },
  {
   "cell_type": "code",
   "execution_count": 7,
   "metadata": {},
   "outputs": [],
   "source": [
    "problem = MOProblem(variables=list_vars, objectives=[f1,f2, f3], constraints=[c1,c2,c3])"
   ]
  },
  {
   "cell_type": "code",
   "execution_count": 8,
   "metadata": {},
   "outputs": [],
   "source": [
    "evolver = RVEA(problem, lattice_resolution=50)"
   ]
  },
  {
   "cell_type": "code",
   "execution_count": 9,
   "metadata": {},
   "outputs": [
    {
     "name": "stdout",
     "output_type": "stream",
     "text": [
      "Plot saved as:  MOPC4.html\n",
      "View the plot by opening the file in browser.\n",
      "To view the plot in Jupyter Notebook, use the IFrame command.\n"
     ]
    }
   ],
   "source": [
    "figure = animate_init_(evolver.population.objectives, filename=\"MOPC4.html\")\n",
    "while evolver.continue_evolution():\n",
    "    evolver.iterate()\n",
    "    figure = animate_next_(\n",
    "        evolver.population.objectives,\n",
    "        figure,\n",
    "        filename=\"MOPC4.html\",\n",
    "        generation=evolver._iteration_counter,\n",
    "    )"
   ]
  },
  {
   "cell_type": "code",
   "execution_count": 34,
   "metadata": {},
   "outputs": [],
   "source": [
    "non_dom = evolver.population.objectives[nds(evolver.population.objectives)[0][0]]"
   ]
  },
  {
   "cell_type": "code",
   "execution_count": 36,
   "metadata": {},
   "outputs": [
    {
     "data": {
      "application/vnd.plotly.v1+json": {
       "config": {
        "plotlyServerURL": "https://plot.ly"
       },
       "data": [
        {
         "hoverlabel": {
          "namelength": 0
         },
         "hovertemplate": "x=%{x}<br>y=%{y}<br>z=%{z}",
         "legendgroup": "",
         "marker": {
          "color": "#636efa",
          "symbol": "circle"
         },
         "mode": "markers",
         "name": "",
         "scene": "scene",
         "showlegend": false,
         "type": "scatter3d",
         "x": [
          3.042246118361177,
          3.4807710200552564,
          3.11038969181459,
          3.145698757777845,
          3.7595880348101813,
          4.699187734626731,
          4.255242035057675,
          3.092686658873875,
          4.1434756013973475,
          3.0403987998433957,
          3.671245588541685,
          3.9362340752252556,
          3.683298105667409,
          3.834212749826215,
          3.649926359489798,
          3.5861037220489025,
          4.425355844184207,
          4.3184283585225645,
          3.2883425969053546,
          3.342411512314965,
          3.9321583050714084,
          3.7751799947324414,
          3.215860225083301,
          3.1565955629721154,
          3.270550442628376,
          3.542079597163652,
          4.601245118131287,
          3.195647526275327,
          4.170788782626519,
          4.433806205983167,
          3.8196468041571308,
          4.072502654009134,
          3.5624055202708607,
          4.210279566482509,
          3.830909737808678,
          3.4282698226587947,
          3.062590310155394,
          3.8228615608494407,
          4.097361153226413,
          3.7960242179371937,
          3.760152045799426,
          3.2504395441467735,
          4.257083951832918,
          3.9770173586774273,
          4.953892623696627,
          3.6139599768640247,
          4.6593738273515815,
          3.0735126439489635,
          3.1908584177600763,
          3.2393897311842386,
          3.137033633964141,
          4.148575720172706,
          4.190233848089693,
          4.2276176516978055,
          4.299293057182645,
          4.175585846782061,
          3.0875638868802646,
          3.588400387624108,
          3.9158790597251993,
          3.667558491137953,
          3.2553357468135813,
          4.527263850702761,
          4.063372118928837,
          3.8291370436215084,
          4.839349654590593,
          4.652473495294535,
          3.7978315964607514,
          4.267595627670648,
          4.495038111805243,
          3.510648577085197,
          4.509703894859754,
          3.4869077447374917,
          5.147867068973062,
          3.1870087719236673,
          4.103618376529028,
          3.538449859577333,
          3.1605867613560172,
          3.204686477596403,
          3.6082015091087962,
          3.948516504163485,
          3.7678851432566636,
          3.6655454042923177,
          4.17477125787108,
          3.1688006533724513,
          5.31091258046979,
          5.040186191433611,
          4.631068536939231,
          3.5600515812080786,
          4.055318233706015,
          3.1295162057712016,
          3.7281120498220366,
          4.000982142111415,
          4.02227773067114,
          3.120267436519794,
          3.6697994655549797,
          4.578656920658529,
          3.5918331004427544,
          4.238655672536952,
          3.0233167040509064,
          4.236993575794009,
          3.5296885276489682,
          3.703473294667652,
          4.622343857087677,
          3.5590433002707753,
          4.663274071849621,
          3.8871915666223495,
          4.060615150764129,
          4.135653652306026,
          3.8983349403017655,
          3.9755335672251917,
          3.186540923155006,
          3.695912708095096,
          3.6339794651275286,
          3.0798988124159887,
          3.356564700656417,
          3.1034621324002596,
          3.716373550283814,
          3.6044233904078213,
          3.9947091745370242,
          4.317597888856712,
          4.28413717490928,
          3.8751884022880216,
          3.908458943310181,
          3.7263897254379623,
          3.8468824965152786,
          3.092344675783948,
          3.562499965110039,
          4.0253966742515,
          3.88526917338228,
          4.580529505794975,
          3.963911946815142,
          3.738417269910821,
          4.222865588684194,
          3.803735527613958,
          3.8380972865758256,
          3.056398503733264,
          5.265351680597832,
          3.969321929495204,
          3.623851767045235,
          4.521122941403035,
          4.708875069546765,
          3.642922583502906,
          3.453303345079169,
          4.0900737316245745,
          4.312771764000594,
          3.7102448431099564,
          5.920388305247917,
          3.9286359537563342,
          3.1776449063039944,
          3.5200269572491694,
          3.6204977624467247,
          3.8958559094505256,
          3.9065711837115593,
          4.041931965061685,
          5.562591169183587,
          3.7122948943698693,
          3.988990618132744,
          4.286898149065578,
          4.388445736784195,
          3.85441509472777,
          3.767310297023738,
          3.7033866125694894,
          3.229778556937538,
          4.824537011691337,
          3.9370371950567167,
          3.3222421437199388,
          3.9804604771790784,
          3.404523881114044,
          3.1309943543375094,
          4.1798898675417,
          4.2917190715349385,
          4.318879977636089,
          3.4968581895626216,
          4.4163610362016055,
          3.858278035410666,
          4.920677797502369,
          3.5676029159626497,
          4.427734657857181,
          3.305404751525156,
          3.6284412942313065,
          5.881995937674063,
          3.063327230850865,
          3.244576784581609,
          3.0784022747848527,
          4.542865658541343,
          3.744815669503335,
          3.5150221894330773,
          3.737541083285268,
          3.772294860193747,
          4.153067388945581,
          4.790315838638824,
          3.8739101409810366,
          3.119481788768886,
          3.7898045583075195,
          4.364146387841988,
          4.565631989529695,
          4.445939228380537,
          3.573430328454926,
          3.655573031610775,
          4.941983017917684,
          4.761483848894511,
          4.059769271791725,
          3.2349156852946206,
          3.8844091892378647,
          3.6948423943427766,
          4.005740348184544,
          3.3836140363799623,
          3.6361370129069455,
          5.017000459729136,
          4.378626781730328,
          4.109286348463188,
          3.221688020826884,
          4.103903874542118,
          3.778304449963023
         ],
         "y": [
          -12.561167696717336,
          -12.981662098557658,
          -12.847678180917262,
          -12.894245127943838,
          -12.953781297709035,
          -12.224435911418498,
          -12.648014055453631,
          -12.734416286788573,
          -12.731687039368182,
          -12.6085491312896,
          -12.83842881361,
          -12.871830750127266,
          -12.9762343207749,
          -12.962035287139402,
          -12.983110996922413,
          -12.99015901577011,
          -12.795399208789142,
          -12.864733291426068,
          -12.985365578718799,
          -12.982337262381348,
          -12.764611402237183,
          -12.6868794424139,
          -12.92697131781885,
          -12.893663833402789,
          -12.984604951967336,
          -12.923630907326624,
          -11.866640197787559,
          -12.925603248958014,
          -12.794631716928425,
          -11.863911143232174,
          -12.830408924941263,
          -12.620644173599405,
          -12.990600480744352,
          -12.58663720506964,
          -12.925883647435361,
          -12.98221631933799,
          -12.68315383825475,
          -12.682644291445612,
          -12.399152539539324,
          -12.93972356764983,
          -12.833517696842742,
          -12.955807899965789,
          -12.642614379170052,
          -12.907127273481025,
          -10.80773449622313,
          -12.98796405423387,
          -12.897400555529794,
          -12.72858772070211,
          -12.95559894071477,
          -12.957731477940934,
          -12.822161018781243,
          -12.736030465847573,
          -12.2840348240572,
          -12.184549844794965,
          -12.322402319577822,
          -12.891077392312681,
          -12.775260163267701,
          -12.884262374844727,
          -12.882909303005759,
          -12.957903968594868,
          -12.984869011498198,
          -11.689866383453555,
          -12.900436521919985,
          -12.915543783662171,
          -12.388519505654823,
          -12.157407235536743,
          -12.729179237636009,
          -11.990012000926829,
          -12.580928826588954,
          -12.986833471642585,
          -12.787493670482913,
          -12.983289991500655,
          -12.60447966301529,
          -12.957275349308336,
          -12.854088646686588,
          -12.989826431546028,
          -12.926864612573397,
          -12.95621081357081,
          -12.98858923007769,
          -12.594704038213715,
          -12.950219660452538,
          -12.980369659590082,
          -12.446423669464885,
          -12.925997856746916,
          -12.66852892368184,
          -12.885023947196714,
          -12.843476744878785,
          -12.955890798523791,
          -12.94807846265014,
          -12.85732678917823,
          -12.964208426236844,
          -12.83375470466929,
          -12.505732301079371,
          -12.822466574924366,
          -12.917849989556702,
          -12.649416906936498,
          -12.958647817825806,
          -12.096972757768256,
          -12.478589670987573,
          -12.830854841738114,
          -12.959207677874476,
          -12.79899820748064,
          -12.059688844889251,
          -12.990494354538038,
          -12.704325263067863,
          -12.82267937980685,
          -12.793127851970224,
          -12.388991159014317,
          -12.913306443617017,
          -12.95738740383927,
          -12.928183650531258,
          -12.973383873467805,
          -12.919501937725473,
          -12.687351573869165,
          -12.985375552716018,
          -12.818275616122687,
          -12.912906194156594,
          -12.916427918771623,
          -12.694548096769141,
          -12.787073736678673,
          -12.9285760276903,
          -12.612206165043023,
          -12.535162612076402,
          -12.96676637424756,
          -12.72478390629022,
          -12.810501380616742,
          -12.888741783214057,
          -12.753293030073687,
          -12.66402738564171,
          -11.993502320542735,
          -12.52086150340926,
          -12.87890561441044,
          -12.769265206572976,
          -12.781009706902204,
          -12.921788497382392,
          -12.67021329055384,
          -12.886863653960017,
          -12.649220792190086,
          -12.879906428061789,
          -12.846512756675423,
          -12.24427911345341,
          -12.841863963207421,
          -12.982775060279527,
          -12.783330555072308,
          -12.039016719419255,
          -12.955687757267704,
          -12.886247320997585,
          -12.866671653246613,
          -12.896291923060888,
          -12.92382112822201,
          -12.842037012192742,
          -12.958480690007663,
          -12.717042762364791,
          -12.567099983051971,
          -12.753846301846165,
          -12.83547315167828,
          -12.442604501310674,
          -12.24036081225099,
          -12.757021619094997,
          -12.866958060512653,
          -12.915985238263326,
          -12.751651602410032,
          -12.984359506108884,
          -12.835978803563222,
          -12.454294100665342,
          -12.984546174736533,
          -12.799815114449304,
          -12.982174049986025,
          -12.889697832654699,
          -12.519836202599697,
          -12.146136270182499,
          -12.701812053834844,
          -12.985003865988565,
          -12.501400711234817,
          -12.773732221367485,
          -12.452725909766201,
          -12.92419747473963,
          -12.528891795571049,
          -12.983803027597611,
          -12.954321275573704,
          -12.84065270636711,
          -12.719219190535139,
          -12.985020672215619,
          -12.770563184609216,
          -11.674189696542692,
          -12.790090587124729,
          -12.987725777685343,
          -12.74510521955193,
          -12.67419463896689,
          -12.938113103912446,
          -12.299891902152538,
          -12.539885612079148,
          -12.857738455287407,
          -12.87529007716373,
          -12.37624284333372,
          -11.778077209746973,
          -12.915974392087186,
          -12.98944880672653,
          -12.881265225601224,
          -12.83949882546538,
          -12.774492733092558,
          -12.800940525384371,
          -12.986381131989157,
          -12.89997679567049,
          -12.877248649813357,
          -12.860038565483766,
          -12.982011449861284,
          -12.985237312222441,
          -12.530591665360825,
          -12.45485244724793,
          -12.325109068692113,
          -12.957319102831919,
          -12.676582803210689,
          -12.964962513190946
         ],
         "z": [
          28.668703915852113,
          20.79331268256647,
          26.699685127433412,
          24.943737978334795,
          18.460879166779314,
          15.336327668009535,
          16.238382798754365,
          26.595911756687766,
          16.5905251970613,
          28.76283953572961,
          18.337948313559135,
          17.463426376834033,
          18.98964025120201,
          18.35153189527497,
          19.245547621992397,
          19.77530868453352,
          16.33943422581343,
          16.733874135650737,
          22.228672301608267,
          21.725232233046327,
          17.139705472911476,
          17.749886949177597,
          23.56798848551942,
          24.675108310125097,
          22.46922804476931,
          19.31609453842899,
          15.2917083966167,
          23.8608897511026,
          16.705560919709036,
          15.506415566055416,
          17.64759399642595,
          16.53891120847819,
          19.985670822392308,
          16.21871864670067,
          18.028148278618957,
          21.098374655052464,
          27.612982200693224,
          17.44268180238378,
          16.311000799660484,
          18.228678725008894,
          17.878188899549627,
          22.931141567225165,
          16.226456825092136,
          17.550091432876155,
          15.096360713175656,
          19.529214460746353,
          16.49935022238338,
          27.163489282186724,
          24.00768201311665,
          23.054379803846263,
          25.329562888011395,
          16.591097042480783,
          16.034668504280173,
          15.934438625463777,
          15.828382175064306,
          17.081718208500984,
          26.64915930083408,
          18.946417807377692,
          17.563651461390087,
          18.808115627140662,
          22.713758240609494,
          15.37118869765189,
          17.334206081893313,
          17.967062451786944,
          15.347265398342914,
          15.33795343281,
          17.576492794311267,
          15.906656168979874,
          15.825214504044146,
          20.48676147895516,
          16.217426233005828,
          20.719859406583367,
          15.378216757643633,
          24.275374648733106,
          17.033371866906094,
          20.204929576203007,
          24.70759513421396,
          23.63127969041535,
          19.58045942591644,
          16.867748124437913,
          18.401786693649175,
          19.1289274458981,
          16.141415715839518,
          24.401840841229923,
          15.381034994249442,
          16.106614179063268,
          16.27386505334561,
          19.280669415496764,
          17.717445401764124,
          25.356137734147485,
          18.671692696927394,
          17.16424252115007,
          16.574916600854422,
          25.65014425024568,
          18.533802345276975,
          15.843754207305539,
          19.134253769669748,
          15.926849405727936,
          29.803807478047716,
          16.7171669108668,
          19.48404687975323,
          18.127386377956682,
          15.323004987301264,
          20.023412408774746,
          15.863973493055356,
          17.414659745558765,
          16.90767572317923,
          16.200941856249706,
          17.770314966391027,
          17.978819769845703,
          24.00612666493351,
          18.901045035364895,
          18.708461866128776,
          27.0921206332234,
          21.554819821940633,
          26.129725876471156,
          18.32043446033357,
          18.858632159309344,
          16.83826122470784,
          16.455975823148062,
          17.164878980685405,
          17.18829694204921,
          17.06927066691403,
          18.70977449331919,
          17.353460638988363,
          26.901313662208786,
          19.201640652914254,
          16.88037457313606,
          17.14888287122635,
          15.338272118210437,
          16.794982140269003,
          18.094060027994406,
          16.547548416812763,
          17.60041618075949,
          17.981101568659458,
          27.89128576696312,
          15.965787588985897,
          16.844886990217134,
          18.672754636549648,
          16.402696984393526,
          15.340078760181541,
          18.539623978849907,
          20.92977889738465,
          16.82079464725937,
          15.73770885292219,
          18.63590903743748,
          15.641722167534033,
          17.460015907140995,
          24.288415230417094,
          19.54159060784248,
          18.74525141095399,
          18.160609397385887,
          17.12893822237919,
          16.555411178390624,
          15.405169571775161,
          18.100909937715958,
          16.720099646304508,
          15.812375868429331,
          16.279425819359606,
          17.659934098442065,
          18.157536935773592,
          18.220839371643343,
          24.036947438425045,
          16.06780268619778,
          17.048601779421425,
          21.873450263667024,
          17.104259614761922,
          21.256667899846036,
          25.603210776821154,
          16.19505134413764,
          15.781599460207651,
          16.245602171548867,
          20.618940359676774,
          15.816040051558863,
          17.385226300708204,
          15.349722794594236,
          19.11471675461747,
          15.834014314976056,
          22.052451954869248,
          18.933243125404463,
          15.478068804105561,
          28.01964480609596,
          22.936800011766035,
          27.22041740220693,
          15.34953045049976,
          17.882399144096453,
          20.43201910399441,
          17.93472766398094,
          17.81488744781829,
          17.44862636762045,
          15.318915141302346,
          17.32764887731259,
          25.679401799925436,
          17.894314187346243,
          15.76707398075714,
          15.317069758085847,
          16.855119973786444,
          19.71964268594678,
          18.481904444352004,
          15.98611088724682,
          15.935771094720607,
          16.93237346060132,
          23.302602855537227,
          17.729136278265948,
          18.27407066388659,
          17.253996482574923,
          21.40736342893665,
          19.35217201598045,
          15.366857865926985,
          15.815124317683546,
          16.27434694856374,
          23.314076964619538,
          16.55696484564148,
          18.535831482071483
         ]
        }
       ],
       "layout": {
        "legend": {
         "tracegroupgap": 0
        },
        "margin": {
         "t": 60
        },
        "scene": {
         "domain": {
          "x": [
           0,
           1
          ],
          "y": [
           0,
           1
          ]
         },
         "xaxis": {
          "title": {
           "text": "x"
          }
         },
         "yaxis": {
          "title": {
           "text": "y"
          }
         },
         "zaxis": {
          "title": {
           "text": "z"
          }
         }
        },
        "template": {
         "data": {
          "bar": [
           {
            "error_x": {
             "color": "#2a3f5f"
            },
            "error_y": {
             "color": "#2a3f5f"
            },
            "marker": {
             "line": {
              "color": "#E5ECF6",
              "width": 0.5
             }
            },
            "type": "bar"
           }
          ],
          "barpolar": [
           {
            "marker": {
             "line": {
              "color": "#E5ECF6",
              "width": 0.5
             }
            },
            "type": "barpolar"
           }
          ],
          "carpet": [
           {
            "aaxis": {
             "endlinecolor": "#2a3f5f",
             "gridcolor": "white",
             "linecolor": "white",
             "minorgridcolor": "white",
             "startlinecolor": "#2a3f5f"
            },
            "baxis": {
             "endlinecolor": "#2a3f5f",
             "gridcolor": "white",
             "linecolor": "white",
             "minorgridcolor": "white",
             "startlinecolor": "#2a3f5f"
            },
            "type": "carpet"
           }
          ],
          "choropleth": [
           {
            "colorbar": {
             "outlinewidth": 0,
             "ticks": ""
            },
            "type": "choropleth"
           }
          ],
          "contour": [
           {
            "colorbar": {
             "outlinewidth": 0,
             "ticks": ""
            },
            "colorscale": [
             [
              0,
              "#0d0887"
             ],
             [
              0.1111111111111111,
              "#46039f"
             ],
             [
              0.2222222222222222,
              "#7201a8"
             ],
             [
              0.3333333333333333,
              "#9c179e"
             ],
             [
              0.4444444444444444,
              "#bd3786"
             ],
             [
              0.5555555555555556,
              "#d8576b"
             ],
             [
              0.6666666666666666,
              "#ed7953"
             ],
             [
              0.7777777777777778,
              "#fb9f3a"
             ],
             [
              0.8888888888888888,
              "#fdca26"
             ],
             [
              1,
              "#f0f921"
             ]
            ],
            "type": "contour"
           }
          ],
          "contourcarpet": [
           {
            "colorbar": {
             "outlinewidth": 0,
             "ticks": ""
            },
            "type": "contourcarpet"
           }
          ],
          "heatmap": [
           {
            "colorbar": {
             "outlinewidth": 0,
             "ticks": ""
            },
            "colorscale": [
             [
              0,
              "#0d0887"
             ],
             [
              0.1111111111111111,
              "#46039f"
             ],
             [
              0.2222222222222222,
              "#7201a8"
             ],
             [
              0.3333333333333333,
              "#9c179e"
             ],
             [
              0.4444444444444444,
              "#bd3786"
             ],
             [
              0.5555555555555556,
              "#d8576b"
             ],
             [
              0.6666666666666666,
              "#ed7953"
             ],
             [
              0.7777777777777778,
              "#fb9f3a"
             ],
             [
              0.8888888888888888,
              "#fdca26"
             ],
             [
              1,
              "#f0f921"
             ]
            ],
            "type": "heatmap"
           }
          ],
          "heatmapgl": [
           {
            "colorbar": {
             "outlinewidth": 0,
             "ticks": ""
            },
            "colorscale": [
             [
              0,
              "#0d0887"
             ],
             [
              0.1111111111111111,
              "#46039f"
             ],
             [
              0.2222222222222222,
              "#7201a8"
             ],
             [
              0.3333333333333333,
              "#9c179e"
             ],
             [
              0.4444444444444444,
              "#bd3786"
             ],
             [
              0.5555555555555556,
              "#d8576b"
             ],
             [
              0.6666666666666666,
              "#ed7953"
             ],
             [
              0.7777777777777778,
              "#fb9f3a"
             ],
             [
              0.8888888888888888,
              "#fdca26"
             ],
             [
              1,
              "#f0f921"
             ]
            ],
            "type": "heatmapgl"
           }
          ],
          "histogram": [
           {
            "marker": {
             "colorbar": {
              "outlinewidth": 0,
              "ticks": ""
             }
            },
            "type": "histogram"
           }
          ],
          "histogram2d": [
           {
            "colorbar": {
             "outlinewidth": 0,
             "ticks": ""
            },
            "colorscale": [
             [
              0,
              "#0d0887"
             ],
             [
              0.1111111111111111,
              "#46039f"
             ],
             [
              0.2222222222222222,
              "#7201a8"
             ],
             [
              0.3333333333333333,
              "#9c179e"
             ],
             [
              0.4444444444444444,
              "#bd3786"
             ],
             [
              0.5555555555555556,
              "#d8576b"
             ],
             [
              0.6666666666666666,
              "#ed7953"
             ],
             [
              0.7777777777777778,
              "#fb9f3a"
             ],
             [
              0.8888888888888888,
              "#fdca26"
             ],
             [
              1,
              "#f0f921"
             ]
            ],
            "type": "histogram2d"
           }
          ],
          "histogram2dcontour": [
           {
            "colorbar": {
             "outlinewidth": 0,
             "ticks": ""
            },
            "colorscale": [
             [
              0,
              "#0d0887"
             ],
             [
              0.1111111111111111,
              "#46039f"
             ],
             [
              0.2222222222222222,
              "#7201a8"
             ],
             [
              0.3333333333333333,
              "#9c179e"
             ],
             [
              0.4444444444444444,
              "#bd3786"
             ],
             [
              0.5555555555555556,
              "#d8576b"
             ],
             [
              0.6666666666666666,
              "#ed7953"
             ],
             [
              0.7777777777777778,
              "#fb9f3a"
             ],
             [
              0.8888888888888888,
              "#fdca26"
             ],
             [
              1,
              "#f0f921"
             ]
            ],
            "type": "histogram2dcontour"
           }
          ],
          "mesh3d": [
           {
            "colorbar": {
             "outlinewidth": 0,
             "ticks": ""
            },
            "type": "mesh3d"
           }
          ],
          "parcoords": [
           {
            "line": {
             "colorbar": {
              "outlinewidth": 0,
              "ticks": ""
             }
            },
            "type": "parcoords"
           }
          ],
          "pie": [
           {
            "automargin": true,
            "type": "pie"
           }
          ],
          "scatter": [
           {
            "marker": {
             "colorbar": {
              "outlinewidth": 0,
              "ticks": ""
             }
            },
            "type": "scatter"
           }
          ],
          "scatter3d": [
           {
            "line": {
             "colorbar": {
              "outlinewidth": 0,
              "ticks": ""
             }
            },
            "marker": {
             "colorbar": {
              "outlinewidth": 0,
              "ticks": ""
             }
            },
            "type": "scatter3d"
           }
          ],
          "scattercarpet": [
           {
            "marker": {
             "colorbar": {
              "outlinewidth": 0,
              "ticks": ""
             }
            },
            "type": "scattercarpet"
           }
          ],
          "scattergeo": [
           {
            "marker": {
             "colorbar": {
              "outlinewidth": 0,
              "ticks": ""
             }
            },
            "type": "scattergeo"
           }
          ],
          "scattergl": [
           {
            "marker": {
             "colorbar": {
              "outlinewidth": 0,
              "ticks": ""
             }
            },
            "type": "scattergl"
           }
          ],
          "scattermapbox": [
           {
            "marker": {
             "colorbar": {
              "outlinewidth": 0,
              "ticks": ""
             }
            },
            "type": "scattermapbox"
           }
          ],
          "scatterpolar": [
           {
            "marker": {
             "colorbar": {
              "outlinewidth": 0,
              "ticks": ""
             }
            },
            "type": "scatterpolar"
           }
          ],
          "scatterpolargl": [
           {
            "marker": {
             "colorbar": {
              "outlinewidth": 0,
              "ticks": ""
             }
            },
            "type": "scatterpolargl"
           }
          ],
          "scatterternary": [
           {
            "marker": {
             "colorbar": {
              "outlinewidth": 0,
              "ticks": ""
             }
            },
            "type": "scatterternary"
           }
          ],
          "surface": [
           {
            "colorbar": {
             "outlinewidth": 0,
             "ticks": ""
            },
            "colorscale": [
             [
              0,
              "#0d0887"
             ],
             [
              0.1111111111111111,
              "#46039f"
             ],
             [
              0.2222222222222222,
              "#7201a8"
             ],
             [
              0.3333333333333333,
              "#9c179e"
             ],
             [
              0.4444444444444444,
              "#bd3786"
             ],
             [
              0.5555555555555556,
              "#d8576b"
             ],
             [
              0.6666666666666666,
              "#ed7953"
             ],
             [
              0.7777777777777778,
              "#fb9f3a"
             ],
             [
              0.8888888888888888,
              "#fdca26"
             ],
             [
              1,
              "#f0f921"
             ]
            ],
            "type": "surface"
           }
          ],
          "table": [
           {
            "cells": {
             "fill": {
              "color": "#EBF0F8"
             },
             "line": {
              "color": "white"
             }
            },
            "header": {
             "fill": {
              "color": "#C8D4E3"
             },
             "line": {
              "color": "white"
             }
            },
            "type": "table"
           }
          ]
         },
         "layout": {
          "annotationdefaults": {
           "arrowcolor": "#2a3f5f",
           "arrowhead": 0,
           "arrowwidth": 1
          },
          "coloraxis": {
           "colorbar": {
            "outlinewidth": 0,
            "ticks": ""
           }
          },
          "colorscale": {
           "diverging": [
            [
             0,
             "#8e0152"
            ],
            [
             0.1,
             "#c51b7d"
            ],
            [
             0.2,
             "#de77ae"
            ],
            [
             0.3,
             "#f1b6da"
            ],
            [
             0.4,
             "#fde0ef"
            ],
            [
             0.5,
             "#f7f7f7"
            ],
            [
             0.6,
             "#e6f5d0"
            ],
            [
             0.7,
             "#b8e186"
            ],
            [
             0.8,
             "#7fbc41"
            ],
            [
             0.9,
             "#4d9221"
            ],
            [
             1,
             "#276419"
            ]
           ],
           "sequential": [
            [
             0,
             "#0d0887"
            ],
            [
             0.1111111111111111,
             "#46039f"
            ],
            [
             0.2222222222222222,
             "#7201a8"
            ],
            [
             0.3333333333333333,
             "#9c179e"
            ],
            [
             0.4444444444444444,
             "#bd3786"
            ],
            [
             0.5555555555555556,
             "#d8576b"
            ],
            [
             0.6666666666666666,
             "#ed7953"
            ],
            [
             0.7777777777777778,
             "#fb9f3a"
            ],
            [
             0.8888888888888888,
             "#fdca26"
            ],
            [
             1,
             "#f0f921"
            ]
           ],
           "sequentialminus": [
            [
             0,
             "#0d0887"
            ],
            [
             0.1111111111111111,
             "#46039f"
            ],
            [
             0.2222222222222222,
             "#7201a8"
            ],
            [
             0.3333333333333333,
             "#9c179e"
            ],
            [
             0.4444444444444444,
             "#bd3786"
            ],
            [
             0.5555555555555556,
             "#d8576b"
            ],
            [
             0.6666666666666666,
             "#ed7953"
            ],
            [
             0.7777777777777778,
             "#fb9f3a"
            ],
            [
             0.8888888888888888,
             "#fdca26"
            ],
            [
             1,
             "#f0f921"
            ]
           ]
          },
          "colorway": [
           "#636efa",
           "#EF553B",
           "#00cc96",
           "#ab63fa",
           "#FFA15A",
           "#19d3f3",
           "#FF6692",
           "#B6E880",
           "#FF97FF",
           "#FECB52"
          ],
          "font": {
           "color": "#2a3f5f"
          },
          "geo": {
           "bgcolor": "white",
           "lakecolor": "white",
           "landcolor": "#E5ECF6",
           "showlakes": true,
           "showland": true,
           "subunitcolor": "white"
          },
          "hoverlabel": {
           "align": "left"
          },
          "hovermode": "closest",
          "mapbox": {
           "style": "light"
          },
          "paper_bgcolor": "white",
          "plot_bgcolor": "#E5ECF6",
          "polar": {
           "angularaxis": {
            "gridcolor": "white",
            "linecolor": "white",
            "ticks": ""
           },
           "bgcolor": "#E5ECF6",
           "radialaxis": {
            "gridcolor": "white",
            "linecolor": "white",
            "ticks": ""
           }
          },
          "scene": {
           "xaxis": {
            "backgroundcolor": "#E5ECF6",
            "gridcolor": "white",
            "gridwidth": 2,
            "linecolor": "white",
            "showbackground": true,
            "ticks": "",
            "zerolinecolor": "white"
           },
           "yaxis": {
            "backgroundcolor": "#E5ECF6",
            "gridcolor": "white",
            "gridwidth": 2,
            "linecolor": "white",
            "showbackground": true,
            "ticks": "",
            "zerolinecolor": "white"
           },
           "zaxis": {
            "backgroundcolor": "#E5ECF6",
            "gridcolor": "white",
            "gridwidth": 2,
            "linecolor": "white",
            "showbackground": true,
            "ticks": "",
            "zerolinecolor": "white"
           }
          },
          "shapedefaults": {
           "line": {
            "color": "#2a3f5f"
           }
          },
          "ternary": {
           "aaxis": {
            "gridcolor": "white",
            "linecolor": "white",
            "ticks": ""
           },
           "baxis": {
            "gridcolor": "white",
            "linecolor": "white",
            "ticks": ""
           },
           "bgcolor": "#E5ECF6",
           "caxis": {
            "gridcolor": "white",
            "linecolor": "white",
            "ticks": ""
           }
          },
          "title": {
           "x": 0.05
          },
          "xaxis": {
           "automargin": true,
           "gridcolor": "white",
           "linecolor": "white",
           "ticks": "",
           "title": {
            "standoff": 15
           },
           "zerolinecolor": "white",
           "zerolinewidth": 2
          },
          "yaxis": {
           "automargin": true,
           "gridcolor": "white",
           "linecolor": "white",
           "ticks": "",
           "title": {
            "standoff": 15
           },
           "zerolinecolor": "white",
           "zerolinewidth": 2
          }
         }
        }
       }
      },
      "text/html": [
       "<div>\n",
       "        \n",
       "        \n",
       "            <div id=\"79ad137c-bed1-480a-b6a7-137725a382cb\" class=\"plotly-graph-div\" style=\"height:525px; width:100%;\"></div>\n",
       "            <script type=\"text/javascript\">\n",
       "                require([\"plotly\"], function(Plotly) {\n",
       "                    window.PLOTLYENV=window.PLOTLYENV || {};\n",
       "                    \n",
       "                if (document.getElementById(\"79ad137c-bed1-480a-b6a7-137725a382cb\")) {\n",
       "                    Plotly.newPlot(\n",
       "                        '79ad137c-bed1-480a-b6a7-137725a382cb',\n",
       "                        [{\"hoverlabel\": {\"namelength\": 0}, \"hovertemplate\": \"x=%{x}<br>y=%{y}<br>z=%{z}\", \"legendgroup\": \"\", \"marker\": {\"color\": \"#636efa\", \"symbol\": \"circle\"}, \"mode\": \"markers\", \"name\": \"\", \"scene\": \"scene\", \"showlegend\": false, \"type\": \"scatter3d\", \"x\": [3.042246118361177, 3.4807710200552564, 3.11038969181459, 3.145698757777845, 3.7595880348101813, 4.699187734626731, 4.255242035057675, 3.092686658873875, 4.1434756013973475, 3.0403987998433957, 3.671245588541685, 3.9362340752252556, 3.683298105667409, 3.834212749826215, 3.649926359489798, 3.5861037220489025, 4.425355844184207, 4.3184283585225645, 3.2883425969053546, 3.342411512314965, 3.9321583050714084, 3.7751799947324414, 3.215860225083301, 3.1565955629721154, 3.270550442628376, 3.542079597163652, 4.601245118131287, 3.195647526275327, 4.170788782626519, 4.433806205983167, 3.8196468041571308, 4.072502654009134, 3.5624055202708607, 4.210279566482509, 3.830909737808678, 3.4282698226587947, 3.062590310155394, 3.8228615608494407, 4.097361153226413, 3.7960242179371937, 3.760152045799426, 3.2504395441467735, 4.257083951832918, 3.9770173586774273, 4.953892623696627, 3.6139599768640247, 4.6593738273515815, 3.0735126439489635, 3.1908584177600763, 3.2393897311842386, 3.137033633964141, 4.148575720172706, 4.190233848089693, 4.2276176516978055, 4.299293057182645, 4.175585846782061, 3.0875638868802646, 3.588400387624108, 3.9158790597251993, 3.667558491137953, 3.2553357468135813, 4.527263850702761, 4.063372118928837, 3.8291370436215084, 4.839349654590593, 4.652473495294535, 3.7978315964607514, 4.267595627670648, 4.495038111805243, 3.510648577085197, 4.509703894859754, 3.4869077447374917, 5.147867068973062, 3.1870087719236673, 4.103618376529028, 3.538449859577333, 3.1605867613560172, 3.204686477596403, 3.6082015091087962, 3.948516504163485, 3.7678851432566636, 3.6655454042923177, 4.17477125787108, 3.1688006533724513, 5.31091258046979, 5.040186191433611, 4.631068536939231, 3.5600515812080786, 4.055318233706015, 3.1295162057712016, 3.7281120498220366, 4.000982142111415, 4.02227773067114, 3.120267436519794, 3.6697994655549797, 4.578656920658529, 3.5918331004427544, 4.238655672536952, 3.0233167040509064, 4.236993575794009, 3.5296885276489682, 3.703473294667652, 4.622343857087677, 3.5590433002707753, 4.663274071849621, 3.8871915666223495, 4.060615150764129, 4.135653652306026, 3.8983349403017655, 3.9755335672251917, 3.186540923155006, 3.695912708095096, 3.6339794651275286, 3.0798988124159887, 3.356564700656417, 3.1034621324002596, 3.716373550283814, 3.6044233904078213, 3.9947091745370242, 4.317597888856712, 4.28413717490928, 3.8751884022880216, 3.908458943310181, 3.7263897254379623, 3.8468824965152786, 3.092344675783948, 3.562499965110039, 4.0253966742515, 3.88526917338228, 4.580529505794975, 3.963911946815142, 3.738417269910821, 4.222865588684194, 3.803735527613958, 3.8380972865758256, 3.056398503733264, 5.265351680597832, 3.969321929495204, 3.623851767045235, 4.521122941403035, 4.708875069546765, 3.642922583502906, 3.453303345079169, 4.0900737316245745, 4.312771764000594, 3.7102448431099564, 5.920388305247917, 3.9286359537563342, 3.1776449063039944, 3.5200269572491694, 3.6204977624467247, 3.8958559094505256, 3.9065711837115593, 4.041931965061685, 5.562591169183587, 3.7122948943698693, 3.988990618132744, 4.286898149065578, 4.388445736784195, 3.85441509472777, 3.767310297023738, 3.7033866125694894, 3.229778556937538, 4.824537011691337, 3.9370371950567167, 3.3222421437199388, 3.9804604771790784, 3.404523881114044, 3.1309943543375094, 4.1798898675417, 4.2917190715349385, 4.318879977636089, 3.4968581895626216, 4.4163610362016055, 3.858278035410666, 4.920677797502369, 3.5676029159626497, 4.427734657857181, 3.305404751525156, 3.6284412942313065, 5.881995937674063, 3.063327230850865, 3.244576784581609, 3.0784022747848527, 4.542865658541343, 3.744815669503335, 3.5150221894330773, 3.737541083285268, 3.772294860193747, 4.153067388945581, 4.790315838638824, 3.8739101409810366, 3.119481788768886, 3.7898045583075195, 4.364146387841988, 4.565631989529695, 4.445939228380537, 3.573430328454926, 3.655573031610775, 4.941983017917684, 4.761483848894511, 4.059769271791725, 3.2349156852946206, 3.8844091892378647, 3.6948423943427766, 4.005740348184544, 3.3836140363799623, 3.6361370129069455, 5.017000459729136, 4.378626781730328, 4.109286348463188, 3.221688020826884, 4.103903874542118, 3.778304449963023], \"y\": [-12.561167696717336, -12.981662098557658, -12.847678180917262, -12.894245127943838, -12.953781297709035, -12.224435911418498, -12.648014055453631, -12.734416286788573, -12.731687039368182, -12.6085491312896, -12.83842881361, -12.871830750127266, -12.9762343207749, -12.962035287139402, -12.983110996922413, -12.99015901577011, -12.795399208789142, -12.864733291426068, -12.985365578718799, -12.982337262381348, -12.764611402237183, -12.6868794424139, -12.92697131781885, -12.893663833402789, -12.984604951967336, -12.923630907326624, -11.866640197787559, -12.925603248958014, -12.794631716928425, -11.863911143232174, -12.830408924941263, -12.620644173599405, -12.990600480744352, -12.58663720506964, -12.925883647435361, -12.98221631933799, -12.68315383825475, -12.682644291445612, -12.399152539539324, -12.93972356764983, -12.833517696842742, -12.955807899965789, -12.642614379170052, -12.907127273481025, -10.80773449622313, -12.98796405423387, -12.897400555529794, -12.72858772070211, -12.95559894071477, -12.957731477940934, -12.822161018781243, -12.736030465847573, -12.2840348240572, -12.184549844794965, -12.322402319577822, -12.891077392312681, -12.775260163267701, -12.884262374844727, -12.882909303005759, -12.957903968594868, -12.984869011498198, -11.689866383453555, -12.900436521919985, -12.915543783662171, -12.388519505654823, -12.157407235536743, -12.729179237636009, -11.990012000926829, -12.580928826588954, -12.986833471642585, -12.787493670482913, -12.983289991500655, -12.60447966301529, -12.957275349308336, -12.854088646686588, -12.989826431546028, -12.926864612573397, -12.95621081357081, -12.98858923007769, -12.594704038213715, -12.950219660452538, -12.980369659590082, -12.446423669464885, -12.925997856746916, -12.66852892368184, -12.885023947196714, -12.843476744878785, -12.955890798523791, -12.94807846265014, -12.85732678917823, -12.964208426236844, -12.83375470466929, -12.505732301079371, -12.822466574924366, -12.917849989556702, -12.649416906936498, -12.958647817825806, -12.096972757768256, -12.478589670987573, -12.830854841738114, -12.959207677874476, -12.79899820748064, -12.059688844889251, -12.990494354538038, -12.704325263067863, -12.82267937980685, -12.793127851970224, -12.388991159014317, -12.913306443617017, -12.95738740383927, -12.928183650531258, -12.973383873467805, -12.919501937725473, -12.687351573869165, -12.985375552716018, -12.818275616122687, -12.912906194156594, -12.916427918771623, -12.694548096769141, -12.787073736678673, -12.9285760276903, -12.612206165043023, -12.535162612076402, -12.96676637424756, -12.72478390629022, -12.810501380616742, -12.888741783214057, -12.753293030073687, -12.66402738564171, -11.993502320542735, -12.52086150340926, -12.87890561441044, -12.769265206572976, -12.781009706902204, -12.921788497382392, -12.67021329055384, -12.886863653960017, -12.649220792190086, -12.879906428061789, -12.846512756675423, -12.24427911345341, -12.841863963207421, -12.982775060279527, -12.783330555072308, -12.039016719419255, -12.955687757267704, -12.886247320997585, -12.866671653246613, -12.896291923060888, -12.92382112822201, -12.842037012192742, -12.958480690007663, -12.717042762364791, -12.567099983051971, -12.753846301846165, -12.83547315167828, -12.442604501310674, -12.24036081225099, -12.757021619094997, -12.866958060512653, -12.915985238263326, -12.751651602410032, -12.984359506108884, -12.835978803563222, -12.454294100665342, -12.984546174736533, -12.799815114449304, -12.982174049986025, -12.889697832654699, -12.519836202599697, -12.146136270182499, -12.701812053834844, -12.985003865988565, -12.501400711234817, -12.773732221367485, -12.452725909766201, -12.92419747473963, -12.528891795571049, -12.983803027597611, -12.954321275573704, -12.84065270636711, -12.719219190535139, -12.985020672215619, -12.770563184609216, -11.674189696542692, -12.790090587124729, -12.987725777685343, -12.74510521955193, -12.67419463896689, -12.938113103912446, -12.299891902152538, -12.539885612079148, -12.857738455287407, -12.87529007716373, -12.37624284333372, -11.778077209746973, -12.915974392087186, -12.98944880672653, -12.881265225601224, -12.83949882546538, -12.774492733092558, -12.800940525384371, -12.986381131989157, -12.89997679567049, -12.877248649813357, -12.860038565483766, -12.982011449861284, -12.985237312222441, -12.530591665360825, -12.45485244724793, -12.325109068692113, -12.957319102831919, -12.676582803210689, -12.964962513190946], \"z\": [28.668703915852113, 20.79331268256647, 26.699685127433412, 24.943737978334795, 18.460879166779314, 15.336327668009535, 16.238382798754365, 26.595911756687766, 16.5905251970613, 28.76283953572961, 18.337948313559135, 17.463426376834033, 18.98964025120201, 18.35153189527497, 19.245547621992397, 19.77530868453352, 16.33943422581343, 16.733874135650737, 22.228672301608267, 21.725232233046327, 17.139705472911476, 17.749886949177597, 23.56798848551942, 24.675108310125097, 22.46922804476931, 19.31609453842899, 15.2917083966167, 23.8608897511026, 16.705560919709036, 15.506415566055416, 17.64759399642595, 16.53891120847819, 19.985670822392308, 16.21871864670067, 18.028148278618957, 21.098374655052464, 27.612982200693224, 17.44268180238378, 16.311000799660484, 18.228678725008894, 17.878188899549627, 22.931141567225165, 16.226456825092136, 17.550091432876155, 15.096360713175656, 19.529214460746353, 16.49935022238338, 27.163489282186724, 24.00768201311665, 23.054379803846263, 25.329562888011395, 16.591097042480783, 16.034668504280173, 15.934438625463777, 15.828382175064306, 17.081718208500984, 26.64915930083408, 18.946417807377692, 17.563651461390087, 18.808115627140662, 22.713758240609494, 15.37118869765189, 17.334206081893313, 17.967062451786944, 15.347265398342914, 15.33795343281, 17.576492794311267, 15.906656168979874, 15.825214504044146, 20.48676147895516, 16.217426233005828, 20.719859406583367, 15.378216757643633, 24.275374648733106, 17.033371866906094, 20.204929576203007, 24.70759513421396, 23.63127969041535, 19.58045942591644, 16.867748124437913, 18.401786693649175, 19.1289274458981, 16.141415715839518, 24.401840841229923, 15.381034994249442, 16.106614179063268, 16.27386505334561, 19.280669415496764, 17.717445401764124, 25.356137734147485, 18.671692696927394, 17.16424252115007, 16.574916600854422, 25.65014425024568, 18.533802345276975, 15.843754207305539, 19.134253769669748, 15.926849405727936, 29.803807478047716, 16.7171669108668, 19.48404687975323, 18.127386377956682, 15.323004987301264, 20.023412408774746, 15.863973493055356, 17.414659745558765, 16.90767572317923, 16.200941856249706, 17.770314966391027, 17.978819769845703, 24.00612666493351, 18.901045035364895, 18.708461866128776, 27.0921206332234, 21.554819821940633, 26.129725876471156, 18.32043446033357, 18.858632159309344, 16.83826122470784, 16.455975823148062, 17.164878980685405, 17.18829694204921, 17.06927066691403, 18.70977449331919, 17.353460638988363, 26.901313662208786, 19.201640652914254, 16.88037457313606, 17.14888287122635, 15.338272118210437, 16.794982140269003, 18.094060027994406, 16.547548416812763, 17.60041618075949, 17.981101568659458, 27.89128576696312, 15.965787588985897, 16.844886990217134, 18.672754636549648, 16.402696984393526, 15.340078760181541, 18.539623978849907, 20.92977889738465, 16.82079464725937, 15.73770885292219, 18.63590903743748, 15.641722167534033, 17.460015907140995, 24.288415230417094, 19.54159060784248, 18.74525141095399, 18.160609397385887, 17.12893822237919, 16.555411178390624, 15.405169571775161, 18.100909937715958, 16.720099646304508, 15.812375868429331, 16.279425819359606, 17.659934098442065, 18.157536935773592, 18.220839371643343, 24.036947438425045, 16.06780268619778, 17.048601779421425, 21.873450263667024, 17.104259614761922, 21.256667899846036, 25.603210776821154, 16.19505134413764, 15.781599460207651, 16.245602171548867, 20.618940359676774, 15.816040051558863, 17.385226300708204, 15.349722794594236, 19.11471675461747, 15.834014314976056, 22.052451954869248, 18.933243125404463, 15.478068804105561, 28.01964480609596, 22.936800011766035, 27.22041740220693, 15.34953045049976, 17.882399144096453, 20.43201910399441, 17.93472766398094, 17.81488744781829, 17.44862636762045, 15.318915141302346, 17.32764887731259, 25.679401799925436, 17.894314187346243, 15.76707398075714, 15.317069758085847, 16.855119973786444, 19.71964268594678, 18.481904444352004, 15.98611088724682, 15.935771094720607, 16.93237346060132, 23.302602855537227, 17.729136278265948, 18.27407066388659, 17.253996482574923, 21.40736342893665, 19.35217201598045, 15.366857865926985, 15.815124317683546, 16.27434694856374, 23.314076964619538, 16.55696484564148, 18.535831482071483]}],\n",
       "                        {\"legend\": {\"tracegroupgap\": 0}, \"margin\": {\"t\": 60}, \"scene\": {\"domain\": {\"x\": [0.0, 1.0], \"y\": [0.0, 1.0]}, \"xaxis\": {\"title\": {\"text\": \"x\"}}, \"yaxis\": {\"title\": {\"text\": \"y\"}}, \"zaxis\": {\"title\": {\"text\": \"z\"}}}, \"template\": {\"data\": {\"bar\": [{\"error_x\": {\"color\": \"#2a3f5f\"}, \"error_y\": {\"color\": \"#2a3f5f\"}, \"marker\": {\"line\": {\"color\": \"#E5ECF6\", \"width\": 0.5}}, \"type\": \"bar\"}], \"barpolar\": [{\"marker\": {\"line\": {\"color\": \"#E5ECF6\", \"width\": 0.5}}, \"type\": \"barpolar\"}], \"carpet\": [{\"aaxis\": {\"endlinecolor\": \"#2a3f5f\", \"gridcolor\": \"white\", \"linecolor\": \"white\", \"minorgridcolor\": \"white\", \"startlinecolor\": \"#2a3f5f\"}, \"baxis\": {\"endlinecolor\": \"#2a3f5f\", \"gridcolor\": \"white\", \"linecolor\": \"white\", \"minorgridcolor\": \"white\", \"startlinecolor\": \"#2a3f5f\"}, \"type\": \"carpet\"}], \"choropleth\": [{\"colorbar\": {\"outlinewidth\": 0, \"ticks\": \"\"}, \"type\": \"choropleth\"}], \"contour\": [{\"colorbar\": {\"outlinewidth\": 0, \"ticks\": \"\"}, \"colorscale\": [[0.0, \"#0d0887\"], [0.1111111111111111, \"#46039f\"], [0.2222222222222222, \"#7201a8\"], [0.3333333333333333, \"#9c179e\"], [0.4444444444444444, \"#bd3786\"], [0.5555555555555556, \"#d8576b\"], [0.6666666666666666, \"#ed7953\"], [0.7777777777777778, \"#fb9f3a\"], [0.8888888888888888, \"#fdca26\"], [1.0, \"#f0f921\"]], \"type\": \"contour\"}], \"contourcarpet\": [{\"colorbar\": {\"outlinewidth\": 0, \"ticks\": \"\"}, \"type\": \"contourcarpet\"}], \"heatmap\": [{\"colorbar\": {\"outlinewidth\": 0, \"ticks\": \"\"}, \"colorscale\": [[0.0, \"#0d0887\"], [0.1111111111111111, \"#46039f\"], [0.2222222222222222, \"#7201a8\"], [0.3333333333333333, \"#9c179e\"], [0.4444444444444444, \"#bd3786\"], [0.5555555555555556, \"#d8576b\"], [0.6666666666666666, \"#ed7953\"], [0.7777777777777778, \"#fb9f3a\"], [0.8888888888888888, \"#fdca26\"], [1.0, \"#f0f921\"]], \"type\": \"heatmap\"}], \"heatmapgl\": [{\"colorbar\": {\"outlinewidth\": 0, \"ticks\": \"\"}, \"colorscale\": [[0.0, \"#0d0887\"], [0.1111111111111111, \"#46039f\"], [0.2222222222222222, \"#7201a8\"], [0.3333333333333333, \"#9c179e\"], [0.4444444444444444, \"#bd3786\"], [0.5555555555555556, \"#d8576b\"], [0.6666666666666666, \"#ed7953\"], [0.7777777777777778, \"#fb9f3a\"], [0.8888888888888888, \"#fdca26\"], [1.0, \"#f0f921\"]], \"type\": \"heatmapgl\"}], \"histogram\": [{\"marker\": {\"colorbar\": {\"outlinewidth\": 0, \"ticks\": \"\"}}, \"type\": \"histogram\"}], \"histogram2d\": [{\"colorbar\": {\"outlinewidth\": 0, \"ticks\": \"\"}, \"colorscale\": [[0.0, \"#0d0887\"], [0.1111111111111111, \"#46039f\"], [0.2222222222222222, \"#7201a8\"], [0.3333333333333333, \"#9c179e\"], [0.4444444444444444, \"#bd3786\"], [0.5555555555555556, \"#d8576b\"], [0.6666666666666666, \"#ed7953\"], [0.7777777777777778, \"#fb9f3a\"], [0.8888888888888888, \"#fdca26\"], [1.0, \"#f0f921\"]], \"type\": \"histogram2d\"}], \"histogram2dcontour\": [{\"colorbar\": {\"outlinewidth\": 0, \"ticks\": \"\"}, \"colorscale\": [[0.0, \"#0d0887\"], [0.1111111111111111, \"#46039f\"], [0.2222222222222222, \"#7201a8\"], [0.3333333333333333, \"#9c179e\"], [0.4444444444444444, \"#bd3786\"], [0.5555555555555556, \"#d8576b\"], [0.6666666666666666, \"#ed7953\"], [0.7777777777777778, \"#fb9f3a\"], [0.8888888888888888, \"#fdca26\"], [1.0, \"#f0f921\"]], \"type\": \"histogram2dcontour\"}], \"mesh3d\": [{\"colorbar\": {\"outlinewidth\": 0, \"ticks\": \"\"}, \"type\": \"mesh3d\"}], \"parcoords\": [{\"line\": {\"colorbar\": {\"outlinewidth\": 0, \"ticks\": \"\"}}, \"type\": \"parcoords\"}], \"pie\": [{\"automargin\": true, \"type\": \"pie\"}], \"scatter\": [{\"marker\": {\"colorbar\": {\"outlinewidth\": 0, \"ticks\": \"\"}}, \"type\": \"scatter\"}], \"scatter3d\": [{\"line\": {\"colorbar\": {\"outlinewidth\": 0, \"ticks\": \"\"}}, \"marker\": {\"colorbar\": {\"outlinewidth\": 0, \"ticks\": \"\"}}, \"type\": \"scatter3d\"}], \"scattercarpet\": [{\"marker\": {\"colorbar\": {\"outlinewidth\": 0, \"ticks\": \"\"}}, \"type\": \"scattercarpet\"}], \"scattergeo\": [{\"marker\": {\"colorbar\": {\"outlinewidth\": 0, \"ticks\": \"\"}}, \"type\": \"scattergeo\"}], \"scattergl\": [{\"marker\": {\"colorbar\": {\"outlinewidth\": 0, \"ticks\": \"\"}}, \"type\": \"scattergl\"}], \"scattermapbox\": [{\"marker\": {\"colorbar\": {\"outlinewidth\": 0, \"ticks\": \"\"}}, \"type\": \"scattermapbox\"}], \"scatterpolar\": [{\"marker\": {\"colorbar\": {\"outlinewidth\": 0, \"ticks\": \"\"}}, \"type\": \"scatterpolar\"}], \"scatterpolargl\": [{\"marker\": {\"colorbar\": {\"outlinewidth\": 0, \"ticks\": \"\"}}, \"type\": \"scatterpolargl\"}], \"scatterternary\": [{\"marker\": {\"colorbar\": {\"outlinewidth\": 0, \"ticks\": \"\"}}, \"type\": \"scatterternary\"}], \"surface\": [{\"colorbar\": {\"outlinewidth\": 0, \"ticks\": \"\"}, \"colorscale\": [[0.0, \"#0d0887\"], [0.1111111111111111, \"#46039f\"], [0.2222222222222222, \"#7201a8\"], [0.3333333333333333, \"#9c179e\"], [0.4444444444444444, \"#bd3786\"], [0.5555555555555556, \"#d8576b\"], [0.6666666666666666, \"#ed7953\"], [0.7777777777777778, \"#fb9f3a\"], [0.8888888888888888, \"#fdca26\"], [1.0, \"#f0f921\"]], \"type\": \"surface\"}], \"table\": [{\"cells\": {\"fill\": {\"color\": \"#EBF0F8\"}, \"line\": {\"color\": \"white\"}}, \"header\": {\"fill\": {\"color\": \"#C8D4E3\"}, \"line\": {\"color\": \"white\"}}, \"type\": \"table\"}]}, \"layout\": {\"annotationdefaults\": {\"arrowcolor\": \"#2a3f5f\", \"arrowhead\": 0, \"arrowwidth\": 1}, \"coloraxis\": {\"colorbar\": {\"outlinewidth\": 0, \"ticks\": \"\"}}, \"colorscale\": {\"diverging\": [[0, \"#8e0152\"], [0.1, \"#c51b7d\"], [0.2, \"#de77ae\"], [0.3, \"#f1b6da\"], [0.4, \"#fde0ef\"], [0.5, \"#f7f7f7\"], [0.6, \"#e6f5d0\"], [0.7, \"#b8e186\"], [0.8, \"#7fbc41\"], [0.9, \"#4d9221\"], [1, \"#276419\"]], \"sequential\": [[0.0, \"#0d0887\"], [0.1111111111111111, \"#46039f\"], [0.2222222222222222, \"#7201a8\"], [0.3333333333333333, \"#9c179e\"], [0.4444444444444444, \"#bd3786\"], [0.5555555555555556, \"#d8576b\"], [0.6666666666666666, \"#ed7953\"], [0.7777777777777778, \"#fb9f3a\"], [0.8888888888888888, \"#fdca26\"], [1.0, \"#f0f921\"]], \"sequentialminus\": [[0.0, \"#0d0887\"], [0.1111111111111111, \"#46039f\"], [0.2222222222222222, \"#7201a8\"], [0.3333333333333333, \"#9c179e\"], [0.4444444444444444, \"#bd3786\"], [0.5555555555555556, \"#d8576b\"], [0.6666666666666666, \"#ed7953\"], [0.7777777777777778, \"#fb9f3a\"], [0.8888888888888888, \"#fdca26\"], [1.0, \"#f0f921\"]]}, \"colorway\": [\"#636efa\", \"#EF553B\", \"#00cc96\", \"#ab63fa\", \"#FFA15A\", \"#19d3f3\", \"#FF6692\", \"#B6E880\", \"#FF97FF\", \"#FECB52\"], \"font\": {\"color\": \"#2a3f5f\"}, \"geo\": {\"bgcolor\": \"white\", \"lakecolor\": \"white\", \"landcolor\": \"#E5ECF6\", \"showlakes\": true, \"showland\": true, \"subunitcolor\": \"white\"}, \"hoverlabel\": {\"align\": \"left\"}, \"hovermode\": \"closest\", \"mapbox\": {\"style\": \"light\"}, \"paper_bgcolor\": \"white\", \"plot_bgcolor\": \"#E5ECF6\", \"polar\": {\"angularaxis\": {\"gridcolor\": \"white\", \"linecolor\": \"white\", \"ticks\": \"\"}, \"bgcolor\": \"#E5ECF6\", \"radialaxis\": {\"gridcolor\": \"white\", \"linecolor\": \"white\", \"ticks\": \"\"}}, \"scene\": {\"xaxis\": {\"backgroundcolor\": \"#E5ECF6\", \"gridcolor\": \"white\", \"gridwidth\": 2, \"linecolor\": \"white\", \"showbackground\": true, \"ticks\": \"\", \"zerolinecolor\": \"white\"}, \"yaxis\": {\"backgroundcolor\": \"#E5ECF6\", \"gridcolor\": \"white\", \"gridwidth\": 2, \"linecolor\": \"white\", \"showbackground\": true, \"ticks\": \"\", \"zerolinecolor\": \"white\"}, \"zaxis\": {\"backgroundcolor\": \"#E5ECF6\", \"gridcolor\": \"white\", \"gridwidth\": 2, \"linecolor\": \"white\", \"showbackground\": true, \"ticks\": \"\", \"zerolinecolor\": \"white\"}}, \"shapedefaults\": {\"line\": {\"color\": \"#2a3f5f\"}}, \"ternary\": {\"aaxis\": {\"gridcolor\": \"white\", \"linecolor\": \"white\", \"ticks\": \"\"}, \"baxis\": {\"gridcolor\": \"white\", \"linecolor\": \"white\", \"ticks\": \"\"}, \"bgcolor\": \"#E5ECF6\", \"caxis\": {\"gridcolor\": \"white\", \"linecolor\": \"white\", \"ticks\": \"\"}}, \"title\": {\"x\": 0.05}, \"xaxis\": {\"automargin\": true, \"gridcolor\": \"white\", \"linecolor\": \"white\", \"ticks\": \"\", \"title\": {\"standoff\": 15}, \"zerolinecolor\": \"white\", \"zerolinewidth\": 2}, \"yaxis\": {\"automargin\": true, \"gridcolor\": \"white\", \"linecolor\": \"white\", \"ticks\": \"\", \"title\": {\"standoff\": 15}, \"zerolinecolor\": \"white\", \"zerolinewidth\": 2}}}},\n",
       "                        {\"responsive\": true}\n",
       "                    ).then(function(){\n",
       "                            \n",
       "var gd = document.getElementById('79ad137c-bed1-480a-b6a7-137725a382cb');\n",
       "var x = new MutationObserver(function (mutations, observer) {{\n",
       "        var display = window.getComputedStyle(gd).display;\n",
       "        if (!display || display === 'none') {{\n",
       "            console.log([gd, 'removed!']);\n",
       "            Plotly.purge(gd);\n",
       "            observer.disconnect();\n",
       "        }}\n",
       "}});\n",
       "\n",
       "// Listen for the removal of the full notebook cells\n",
       "var notebookContainer = gd.closest('#notebook-container');\n",
       "if (notebookContainer) {{\n",
       "    x.observe(notebookContainer, {childList: true});\n",
       "}}\n",
       "\n",
       "// Listen for the clearing of the current output cell\n",
       "var outputEl = gd.closest('.output');\n",
       "if (outputEl) {{\n",
       "    x.observe(outputEl, {childList: true});\n",
       "}}\n",
       "\n",
       "                        })\n",
       "                };\n",
       "                });\n",
       "            </script>\n",
       "        </div>"
      ]
     },
     "metadata": {},
     "output_type": "display_data"
    }
   ],
   "source": [
    "ex.scatter_3d(x=non_dom[:,0]+6, y=non_dom[:,1], z=non_dom[:,2])"
   ]
  },
  {
   "cell_type": "markdown",
   "metadata": {},
   "source": [
    "## Using EvoNN"
   ]
  },
  {
   "cell_type": "code",
   "execution_count": 8,
   "metadata": {},
   "outputs": [],
   "source": [
    "from desdeo_emo.surrogatemodelling.EvoNN import EvoNN\n",
    "from sklearn.metrics import mean_squared_error, mean_squared_log_error, r2_score"
   ]
  },
  {
   "cell_type": "code",
   "execution_count": 9,
   "metadata": {},
   "outputs": [],
   "source": [
    "df = pd.read_excel('final bashi project.xlsx', error_bad_lines=False)\n",
    "\n",
    "col = df.columns\n",
    "X_col = col[0:12]\n",
    "y_col = col[12:20]\n",
    "\n",
    "X = df[X_col].values"
   ]
  },
  {
   "cell_type": "code",
   "execution_count": 11,
   "metadata": {},
   "outputs": [
    {
     "name": "stdout",
     "output_type": "stream",
     "text": [
      "0\n",
      "Plot saved as:  EvoNN.html\n",
      "View the plot by opening the file in browser.\n",
      "To view the plot in Jupyter Notebook, use the IFrame command.\n",
      "1\n",
      "Plot saved as:  EvoNN.html\n",
      "View the plot by opening the file in browser.\n",
      "To view the plot in Jupyter Notebook, use the IFrame command.\n",
      "2\n",
      "Plot saved as:  EvoNN.html\n",
      "View the plot by opening the file in browser.\n",
      "To view the plot in Jupyter Notebook, use the IFrame command.\n",
      "3\n",
      "Plot saved as:  EvoNN.html\n",
      "View the plot by opening the file in browser.\n",
      "To view the plot in Jupyter Notebook, use the IFrame command.\n",
      "4\n",
      "Plot saved as:  EvoNN.html\n",
      "View the plot by opening the file in browser.\n",
      "To view the plot in Jupyter Notebook, use the IFrame command.\n",
      "5\n",
      "Plot saved as:  EvoNN.html\n",
      "View the plot by opening the file in browser.\n",
      "To view the plot in Jupyter Notebook, use the IFrame command.\n",
      "6\n",
      "Plot saved as:  EvoNN.html\n",
      "View the plot by opening the file in browser.\n",
      "To view the plot in Jupyter Notebook, use the IFrame command.\n",
      "7\n",
      "Plot saved as:  EvoNN.html\n",
      "View the plot by opening the file in browser.\n",
      "To view the plot in Jupyter Notebook, use the IFrame command.\n"
     ]
    }
   ],
   "source": [
    "models = []\n",
    "i = 0\n",
    "for col in y_col:\n",
    "    print(i)\n",
    "    model = EvoNN(pop_size=100, activation_function='relu')\n",
    "    model.fit(df[X_col], df[col])\n",
    "    y_pred = model.predict(X)\n",
    "    models.append(model)\n",
    "    i += 1\n"
   ]
  }
 ],
 "metadata": {
  "kernelspec": {
   "display_name": "desdeo_emo",
   "language": "python",
   "name": "desdeo_emo"
  },
  "language_info": {
   "codemirror_mode": {
    "name": "ipython",
    "version": 3
   },
   "file_extension": ".py",
   "mimetype": "text/x-python",
   "name": "python",
   "nbconvert_exporter": "python",
   "pygments_lexer": "ipython3",
   "version": "3.7.5rc1"
  }
 },
 "nbformat": 4,
 "nbformat_minor": 2
}
