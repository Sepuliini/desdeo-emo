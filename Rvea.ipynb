{
 "cells": [
  {
   "cell_type": "code",
   "execution_count": 1,
   "metadata": {},
   "outputs": [],
   "source": [
    "import numpy as np\n",
    "import pandas as pd\n",
    "\n",
    "from desdeo_problem.Objective import _ScalarObjective\n",
    "from desdeo_problem.Variable import variable_builder\n",
    "from desdeo_problem.Problem import MOProblem\n",
    "from desdeo_emo.EAs.RVEA import RVEA\n",
    "from desdeo_emo.othertools.plotlyanimate import animate_init_, animate_next_"
   ]
  },
  {
   "cell_type": "markdown",
   "metadata": {},
   "source": [
    "## Define Objectives and variable builder"
   ]
  },
  {
   "cell_type": "code",
   "execution_count": 2,
   "metadata": {},
   "outputs": [],
   "source": [
    "def f_1(x):\n",
    "    term = x[:, 0]**2 + x[:, 1]**2\n",
    "    return 0.5*term + np.sin(term)\n",
    "\n",
    "def f_2(x):\n",
    "    term1 = ((3*x[:, 0] - 2*x[:,1] + 4)**2)/8\n",
    "    term2 = ((x[:, 0] - x[:,1] + 1)**2)/27\n",
    "    return term1 + term2 + 15\n",
    "\n",
    "def f_3(x):\n",
    "    term = x[:, 0]**2 + x[:, 1]**2\n",
    "    return (1/(term + 1)) - 1.1 * np.exp(-term)\n",
    "\n",
    "list_vars = variable_builder(['x', 'y'],\n",
    "                             initial_values = [0,0],\n",
    "                             lower_bounds=[-30, -30],\n",
    "                             upper_bounds=[30, 30])"
   ]
  },
  {
   "cell_type": "markdown",
   "metadata": {},
   "source": [
    "## Define objectives"
   ]
  },
  {
   "cell_type": "code",
   "execution_count": 3,
   "metadata": {},
   "outputs": [],
   "source": [
    "f1 = _ScalarObjective(name='f1', evaluator=f_1)\n",
    "f2 = _ScalarObjective(name='f2', evaluator=f_2)\n",
    "f3 = _ScalarObjective(name='f3', evaluator=f_3)"
   ]
  },
  {
   "cell_type": "code",
   "execution_count": 4,
   "metadata": {},
   "outputs": [],
   "source": [
    "from desdeo_problem.Constraint import ScalarConstraint\n",
    "\n",
    "const_func_1 = lambda x, y: (y[:, 0] - .2) * (y[:, 0] - .4) * (-1)\n",
    "const_func_2 = lambda x, y: 16.5 - y[:, 1]\n",
    "\n",
    "# Args: name, number of variables, number of objectives, callable\n",
    "cons1 = ScalarConstraint(\"c_1\", 2, 2, const_func_1)\n",
    "cons2 = ScalarConstraint(\"c_2\", 2, 2, const_func_2)"
   ]
  },
  {
   "cell_type": "markdown",
   "metadata": {},
   "source": [
    "## Define MOProblem"
   ]
  },
  {
   "cell_type": "code",
   "execution_count": 5,
   "metadata": {},
   "outputs": [],
   "source": [
    "problem = MOProblem(variables=list_vars, objectives=[f1, f2], constraints=[cons2])\n",
    "\n",
    "# problem = MOProblem(variables=list_vars, objectives=[f1, f2])\n",
    "\n",
    "evolver = RVEA(problem)"
   ]
  },
  {
   "cell_type": "code",
   "execution_count": 6,
   "metadata": {},
   "outputs": [
    {
     "name": "stdout",
     "output_type": "stream",
     "text": [
      "Plot saved as:  MOP5.html\n",
      "View the plot by opening the file in browser.\n",
      "To view the plot in Jupyter Notebook, use the IFrame command.\n"
     ]
    }
   ],
   "source": [
    "figure = animate_init_(evolver.population.objectives, filename=\"MOP5.html\")"
   ]
  },
  {
   "cell_type": "code",
   "execution_count": 7,
   "metadata": {},
   "outputs": [
    {
     "name": "stdout",
     "output_type": "stream",
     "text": [
      "---------------------------\n",
      "0.1\n",
      "---------------------------\n",
      "0.2\n",
      "---------------------------\n",
      "0.3\n",
      "---------------------------\n",
      "0.4\n",
      "---------------------------\n",
      "0.5\n",
      "---------------------------\n",
      "0.6\n",
      "---------------------------\n",
      "0.7\n",
      "---------------------------\n",
      "0.8\n",
      "---------------------------\n",
      "0.9\n",
      "---------------------------\n",
      "1.0\n"
     ]
    }
   ],
   "source": [
    "i = 0\n",
    "while i<10:\n",
    "    print('---------------------------')\n",
    "    i += 1\n",
    "    evolver.iterate()\n",
    "    print(evolver.selection_operator.time_penalty_function())\n",
    "    figure = animate_next_(\n",
    "        evolver.population.objectives,\n",
    "        figure,\n",
    "        filename=\"MOP5.html\",\n",
    "        generation=evolver._iteration_counter,\n",
    "    )"
   ]
  },
  {
   "cell_type": "markdown",
   "metadata": {},
   "source": [
    "## Using EvoNN"
   ]
  },
  {
   "cell_type": "code",
   "execution_count": 8,
   "metadata": {},
   "outputs": [],
   "source": [
    "from desdeo_emo.surrogatemodelling.EvoNN import EvoNN\n",
    "from sklearn.metrics import mean_squared_error, mean_squared_log_error, r2_score"
   ]
  },
  {
   "cell_type": "code",
   "execution_count": 9,
   "metadata": {},
   "outputs": [],
   "source": [
    "df = pd.read_excel('final bashi project.xlsx', error_bad_lines=False)\n",
    "\n",
    "col = df.columns\n",
    "X_col = col[0:12]\n",
    "y_col = col[12:20]\n",
    "\n",
    "X = df[X_col].values"
   ]
  },
  {
   "cell_type": "code",
   "execution_count": 11,
   "metadata": {},
   "outputs": [
    {
     "name": "stdout",
     "output_type": "stream",
     "text": [
      "0\n",
      "Plot saved as:  EvoNN.html\n",
      "View the plot by opening the file in browser.\n",
      "To view the plot in Jupyter Notebook, use the IFrame command.\n",
      "1\n",
      "Plot saved as:  EvoNN.html\n",
      "View the plot by opening the file in browser.\n",
      "To view the plot in Jupyter Notebook, use the IFrame command.\n",
      "2\n",
      "Plot saved as:  EvoNN.html\n",
      "View the plot by opening the file in browser.\n",
      "To view the plot in Jupyter Notebook, use the IFrame command.\n",
      "3\n",
      "Plot saved as:  EvoNN.html\n",
      "View the plot by opening the file in browser.\n",
      "To view the plot in Jupyter Notebook, use the IFrame command.\n",
      "4\n",
      "Plot saved as:  EvoNN.html\n",
      "View the plot by opening the file in browser.\n",
      "To view the plot in Jupyter Notebook, use the IFrame command.\n",
      "5\n",
      "Plot saved as:  EvoNN.html\n",
      "View the plot by opening the file in browser.\n",
      "To view the plot in Jupyter Notebook, use the IFrame command.\n",
      "6\n",
      "Plot saved as:  EvoNN.html\n",
      "View the plot by opening the file in browser.\n",
      "To view the plot in Jupyter Notebook, use the IFrame command.\n",
      "7\n",
      "Plot saved as:  EvoNN.html\n",
      "View the plot by opening the file in browser.\n",
      "To view the plot in Jupyter Notebook, use the IFrame command.\n"
     ]
    }
   ],
   "source": [
    "models = []\n",
    "i = 0\n",
    "for col in y_col:\n",
    "    print(i)\n",
    "    model = EvoNN(pop_size=100, activation_function='relu')\n",
    "    model.fit(df[X_col], df[col])\n",
    "    y_pred = model.predict(X)\n",
    "    models.append(model)\n",
    "    i += 1\n"
   ]
  },
  {
   "cell_type": "code",
   "execution_count": null,
   "metadata": {},
   "outputs": [],
   "source": []
  },
  {
   "cell_type": "code",
   "execution_count": null,
   "metadata": {},
   "outputs": [],
   "source": []
  },
  {
   "cell_type": "code",
   "execution_count": null,
   "metadata": {},
   "outputs": [],
   "source": []
  },
  {
   "cell_type": "code",
   "execution_count": null,
   "metadata": {},
   "outputs": [],
   "source": []
  },
  {
   "cell_type": "code",
   "execution_count": null,
   "metadata": {},
   "outputs": [],
   "source": []
  }
 ],
 "metadata": {
  "kernelspec": {
   "display_name": "btp_env_new",
   "language": "python",
   "name": "btp_env_new"
  },
  "language_info": {
   "codemirror_mode": {
    "name": "ipython",
    "version": 3
   },
   "file_extension": ".py",
   "mimetype": "text/x-python",
   "name": "python",
   "nbconvert_exporter": "python",
   "pygments_lexer": "ipython3",
   "version": "3.7.4"
  }
 },
 "nbformat": 4,
 "nbformat_minor": 2
}
