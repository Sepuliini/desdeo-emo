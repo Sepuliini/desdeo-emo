{
 "cells": [
  {
   "cell_type": "code",
   "execution_count": 1,
   "metadata": {},
   "outputs": [],
   "source": [
    "import numpy as np\n",
    "import pandas as pd\n",
    "\n",
    "from desdeo_emo.surrogatemodelling.EvoNN import EvoNN\n",
    "from desdeo_problem.surrogatemodels.SurrogateModels import GaussianProcessRegressor as GPR\n",
    "from desdeo_problem.surrogatemodels.SurrogateModels import BayesianRidge as BR\n",
    "from desdeo_problem.surrogatemodels.SurrogateModels import ARDRegression as ARDR\n",
    "from desdeo_problem.Variable import variable_builder\n",
    "from desdeo_problem.Objective import _ScalarObjective\n",
    "\n",
    "from desdeo_problem.Problem import DataProblem\n",
    "from desdeo_problem.surrogatemodels.SurrogateModels import GaussianProcessRegressor\n",
    "from sklearn.gaussian_process.kernels import Matern\n",
    "\n",
    "from sklearn.metrics import mean_squared_error, mean_squared_log_error, r2_score"
   ]
  },
  {
   "cell_type": "code",
   "execution_count": 2,
   "metadata": {},
   "outputs": [],
   "source": [
    "def get_performace(mod, iX, iy):\n",
    "    iy_pred, _ = mod.predict(iX)\n",
    "    performance = dict()\n",
    "    performance[\"RMSE\"] = np.sqrt(mean_squared_error(iy, iy_pred))\n",
    "    performance[\"R^2\"] = r2_score(iy, iy_pred)\n",
    "    return performance"
   ]
  },
  {
   "cell_type": "markdown",
   "metadata": {},
   "source": [
    "## Generate data"
   ]
  },
  {
   "cell_type": "code",
   "execution_count": 3,
   "metadata": {},
   "outputs": [],
   "source": [
    "X = np.random.rand(100, 3)\n",
    "y = X[:, 0] * X[:, 1] + X[:, 2]\n",
    "y = y.reshape(-1, 1)\n",
    "data = pd.DataFrame(np.hstack((X, y)), columns=[\"x1\", \"x2\", \"x3\", \"y\"])"
   ]
  },
  {
   "cell_type": "markdown",
   "metadata": {},
   "source": [
    "## Bashi Data"
   ]
  },
  {
   "cell_type": "code",
   "execution_count": 4,
   "metadata": {},
   "outputs": [
    {
     "name": "stdout",
     "output_type": "stream",
     "text": [
      "/c/Users/Sauvik Pal/Desktop/GA_project/desdeo-emo\n"
     ]
    }
   ],
   "source": [
    "!pwd"
   ]
  },
  {
   "cell_type": "code",
   "execution_count": 5,
   "metadata": {
    "scrolled": true
   },
   "outputs": [],
   "source": [
    "df = pd.read_excel('final bashi project.xlsx', error_bad_lines=False)\n",
    "\n",
    "col = df.columns\n",
    "X_col = col[0:12]\n",
    "y_col = col[12:20]\n",
    "\n",
    "X = df[X_col].values"
   ]
  },
  {
   "cell_type": "code",
   "execution_count": 6,
   "metadata": {},
   "outputs": [
    {
     "name": "stdout",
     "output_type": "stream",
     "text": [
      "column - Tuyere cooling heat loss (Min)\n",
      "evonn\n",
      "Plot saved as:  EvoNN.html\n",
      "View the plot by opening the file in browser.\n",
      "To view the plot in Jupyter Notebook, use the IFrame command.\n",
      "{'RMSE': 2.1347733761758585, 'R^2': 0.8068138279961485, 'AICc': 2406.511407503674}\n",
      "\n",
      "gpr\n",
      "{'RMSE': 2.9704012194660554e-09, 'R^2': 1.0}\n",
      "ardr\n",
      "{'RMSE': 3.259295600615353, 'R^2': 0.5496812997700651}\n",
      "br\n",
      "{'RMSE': 3.685865878759393, 'R^2': 0.42409408722891695}\n",
      "\n",
      "\n",
      "\n",
      "column - Total BF gas flow (max)\n",
      "evonn\n",
      "Plot saved as:  EvoNN.html\n",
      "View the plot by opening the file in browser.\n",
      "To view the plot in Jupyter Notebook, use the IFrame command.\n",
      "{'RMSE': 8311.443316236018, 'R^2': 0.6656475800584175, 'AICc': 13123.996527286938}\n",
      "\n",
      "gpr\n",
      "{'RMSE': 2.585465179294003e-05, 'R^2': 1.0}\n",
      "ardr\n",
      "{'RMSE': 12200.962235262296, 'R^2': 0.27949044940158996}\n",
      "br\n",
      "{'RMSE': 12570.56721335272, 'R^2': 0.23517632119804166}\n",
      "\n",
      "\n",
      "\n",
      "column - TUY_VEL (max)\n",
      "evonn\n",
      "Plot saved as:  EvoNN.html\n",
      "View the plot by opening the file in browser.\n",
      "To view the plot in Jupyter Notebook, use the IFrame command.\n",
      "{'RMSE': 6.009356364023247, 'R^2': 0.7122030010656331, 'AICc': 3709.347258582487}\n",
      "\n",
      "gpr\n",
      "{'RMSE': 1.9869096597338545e-08, 'R^2': 1.0}\n",
      "ardr\n",
      "{'RMSE': 9.363454676232967, 'R^2': 0.3012809759420272}\n",
      "br\n",
      "{'RMSE': 9.561470920541117, 'R^2': 0.27141578177492776}\n",
      "\n",
      "\n",
      "\n",
      "column - HEAT LOSS (min)\n",
      "evonn\n",
      "Plot saved as:  EvoNN.html\n",
      "View the plot by opening the file in browser.\n",
      "To view the plot in Jupyter Notebook, use the IFrame command.\n",
      "{'RMSE': 5.072706951849442, 'R^2': 0.779809516933461, 'AICc': 2303.422676919892}\n",
      "\n",
      "gpr\n",
      "{'RMSE': 8.557497773000522e-09, 'R^2': 1.0}\n",
      "ardr\n",
      "{'RMSE': 6.377719661831243, 'R^2': 0.6519434209997833}\n",
      "br\n",
      "{'RMSE': 6.872027510636406, 'R^2': 0.5959000701671342}\n",
      "\n",
      "\n",
      "\n",
      "column - Corrected productivity (WV) (Max)\n",
      "evonn\n",
      "Plot saved as:  EvoNN.html\n",
      "View the plot by opening the file in browser.\n",
      "To view the plot in Jupyter Notebook, use the IFrame command.\n",
      "{'RMSE': 0.09752600223800739, 'R^2': 0.6186519245536577, 'AICc': 1184.15748217885}\n",
      "\n",
      "gpr\n",
      "{'RMSE': 2.595389164003056e-10, 'R^2': 1.0}\n",
      "ardr\n",
      "{'RMSE': 0.1306444394485249, 'R^2': 0.3156747347685078}\n",
      "br\n",
      "{'RMSE': 0.11905964103376532, 'R^2': 0.43165786757104385}\n",
      "\n",
      "\n",
      "\n",
      "column - Coke rate      (Dry) (min)\n",
      "evonn\n",
      "Plot saved as:  EvoNN.html\n",
      "View the plot by opening the file in browser.\n",
      "To view the plot in Jupyter Notebook, use the IFrame command.\n",
      "{'RMSE': 13.197242171415004, 'R^2': 0.6411282894018702, 'AICc': 3495.216213395414}\n",
      "\n",
      "gpr\n",
      "{'RMSE': 4.2197419752762364e-08, 'R^2': 1.0}\n",
      "ardr\n",
      "{'RMSE': 19.140418044676945, 'R^2': 0.24512387403522828}\n",
      "br\n",
      "{'RMSE': 19.274063395319672, 'R^2': 0.23454543269128103}\n",
      "\n",
      "\n",
      "\n",
      "column - Plate cooling heat loss (Min)\n",
      "evonn\n",
      "Plot saved as:  EvoNN.html\n",
      "View the plot by opening the file in browser.\n",
      "To view the plot in Jupyter Notebook, use the IFrame command.\n",
      "{'RMSE': 5.6666097384238965, 'R^2': 0.7996038222271384, 'AICc': 2559.2974546236355}\n",
      "\n",
      "gpr\n",
      "{'RMSE': 5.23660857493746e-09, 'R^2': 1.0}\n",
      "ardr\n",
      "{'RMSE': 7.224359377556966, 'R^2': 0.6742821867828845}\n",
      "br\n",
      "{'RMSE': 7.9236995570006945, 'R^2': 0.6081689692833532}\n",
      "\n",
      "\n",
      "\n",
      "column - Carbon rate (Min)\n",
      "evonn\n",
      "Plot saved as:  EvoNN.html\n",
      "View the plot by opening the file in browser.\n",
      "To view the plot in Jupyter Notebook, use the IFrame command.\n",
      "{'RMSE': 7.655961921216918, 'R^2': 0.7019607754154962, 'AICc': 4251.425304907059}\n",
      "\n",
      "gpr\n",
      "{'RMSE': 4.448124550622734e-08, 'R^2': 1.0}\n",
      "ardr\n",
      "{'RMSE': 12.373834397504723, 'R^2': 0.22145719713724177}\n",
      "br\n",
      "{'RMSE': 12.710572950082886, 'R^2': 0.17850646403957138}\n",
      "\n",
      "\n",
      "\n"
     ]
    }
   ],
   "source": [
    "for col in y_col:\n",
    "    y = df[col].values\n",
    "    print(f'column - {col}')\n",
    "    \n",
    "    print(\"evonn\")\n",
    "    model = EvoNN(pop_size=100, activation_function='relu')\n",
    "    model.fit(df[X_col], df[col])\n",
    "    y_pred = model.predict(X)\n",
    "    print(model.performance)\n",
    "\n",
    "    print('\\ngpr')\n",
    "    model1 = GPR()\n",
    "    model1.fit(X, y)\n",
    "#     gpr_pred, _ = model.predict(X)\n",
    "    \n",
    "    performace = get_performace(model1, X, y)\n",
    "    print(performace)\n",
    "    \n",
    "    print('ardr')\n",
    "    model2 = ARDR()\n",
    "    model2.fit(X, y)\n",
    "#     ardr_pred, _ = model.predict(X)\n",
    "    \n",
    "    performace = get_performace(model2, X, y)\n",
    "    print(performace)\n",
    "    \n",
    "    print('br')\n",
    "    model3 = BR()\n",
    "    model3.fit(X, y)\n",
    "#     br_pred, _ = model.predict(X)\n",
    "    \n",
    "    performace = get_performace(model3, X, y)\n",
    "    print(performace)\n",
    "    print('\\n\\n')"
   ]
  },
  {
   "cell_type": "markdown",
   "metadata": {},
   "source": [
    "## Model Train"
   ]
  },
  {
   "cell_type": "code",
   "execution_count": 3,
   "metadata": {},
   "outputs": [
    {
     "name": "stdout",
     "output_type": "stream",
     "text": [
      "Plot saved as:  EvoNN.html\n",
      "View the plot by opening the file in browser.\n",
      "To view the plot in Jupyter Notebook, use the IFrame command.\n"
     ]
    }
   ],
   "source": [
    "model = EvoNN(pop_size=100)\n",
    "model.fit(data[[\"x1\", \"x2\", \"x3\"]], data['y'])"
   ]
  },
  {
   "cell_type": "code",
   "execution_count": 4,
   "metadata": {},
   "outputs": [
    {
     "data": {
      "text/plain": [
       "{'RMSE': 5.5101333089857234e-08,\n",
       " 'R^2': 0.9999999999999813,\n",
       " 'AICc': -3102.818385414383}"
      ]
     },
     "execution_count": 4,
     "metadata": {},
     "output_type": "execute_result"
    }
   ],
   "source": [
    "y_pred = model.predict(X)\n",
    "model.performance"
   ]
  },
  {
   "cell_type": "markdown",
   "metadata": {},
   "source": [
    "## GPR Model"
   ]
  },
  {
   "cell_type": "code",
   "execution_count": 68,
   "metadata": {},
   "outputs": [
    {
     "name": "stderr",
     "output_type": "stream",
     "text": [
      "c:\\users\\sauvik pal\\desktop\\ga_project\\btp_env_new\\lib\\site-packages\\sklearn\\gaussian_process\\gpr.py:346: UserWarning:\n",
      "\n",
      "Predicted variances smaller than 0. Setting those variances to 0.\n",
      "\n"
     ]
    }
   ],
   "source": [
    "model = GPR()\n",
    "model.fit(X, y)\n",
    "gpr_pred, _ = model.predict(X)"
   ]
  },
  {
   "cell_type": "code",
   "execution_count": 69,
   "metadata": {},
   "outputs": [
    {
     "name": "stdout",
     "output_type": "stream",
     "text": [
      "{'RMSE': 1.0724366374414195e-06, 'R^2': 0.9999999999929299}\n"
     ]
    },
    {
     "name": "stderr",
     "output_type": "stream",
     "text": [
      "c:\\users\\sauvik pal\\desktop\\ga_project\\btp_env_new\\lib\\site-packages\\sklearn\\gaussian_process\\gpr.py:346: UserWarning:\n",
      "\n",
      "Predicted variances smaller than 0. Setting those variances to 0.\n",
      "\n"
     ]
    }
   ],
   "source": [
    "performace = get_performace(model, X, y)\n",
    "print(performace)"
   ]
  },
  {
   "cell_type": "markdown",
   "metadata": {},
   "source": [
    "## ARDR Model"
   ]
  },
  {
   "cell_type": "code",
   "execution_count": 44,
   "metadata": {},
   "outputs": [
    {
     "ename": "TypeError",
     "evalue": "'(slice(None, None, None), array([ True,  True, False,  True,  True, False,  True, False,  True,\n        True,  True,  True]))' is an invalid key",
     "output_type": "error",
     "traceback": [
      "\u001b[1;31m---------------------------------------------------------------------------\u001b[0m",
      "\u001b[1;31mTypeError\u001b[0m                                 Traceback (most recent call last)",
      "\u001b[1;32m<ipython-input-44-6d29ed6a0fd1>\u001b[0m in \u001b[0;36m<module>\u001b[1;34m\u001b[0m\n\u001b[0;32m      1\u001b[0m \u001b[0mmodel\u001b[0m \u001b[1;33m=\u001b[0m \u001b[0mARDR\u001b[0m\u001b[1;33m(\u001b[0m\u001b[1;33m)\u001b[0m\u001b[1;33m\u001b[0m\u001b[1;33m\u001b[0m\u001b[0m\n\u001b[0;32m      2\u001b[0m \u001b[0mmodel\u001b[0m\u001b[1;33m.\u001b[0m\u001b[0mfit\u001b[0m\u001b[1;33m(\u001b[0m\u001b[0mX\u001b[0m\u001b[1;33m,\u001b[0m \u001b[0my\u001b[0m\u001b[1;33m)\u001b[0m\u001b[1;33m\u001b[0m\u001b[1;33m\u001b[0m\u001b[0m\n\u001b[1;32m----> 3\u001b[1;33m \u001b[0mardr_pred\u001b[0m\u001b[1;33m,\u001b[0m \u001b[0m_\u001b[0m \u001b[1;33m=\u001b[0m \u001b[0mmodel\u001b[0m\u001b[1;33m.\u001b[0m\u001b[0mpredict\u001b[0m\u001b[1;33m(\u001b[0m\u001b[0mX\u001b[0m\u001b[1;33m)\u001b[0m\u001b[1;33m\u001b[0m\u001b[1;33m\u001b[0m\u001b[0m\n\u001b[0m",
      "\u001b[1;32mc:\\users\\sauvik pal\\desktop\\ga_project\\btp_env_new\\lib\\site-packages\\desdeo_problem\\surrogatemodels\\SurrogateModels.py\u001b[0m in \u001b[0;36mpredict\u001b[1;34m(self, X)\u001b[0m\n\u001b[0;32m     47\u001b[0m \u001b[1;33m\u001b[0m\u001b[0m\n\u001b[0;32m     48\u001b[0m     \u001b[1;32mdef\u001b[0m \u001b[0mpredict\u001b[0m\u001b[1;33m(\u001b[0m\u001b[0mself\u001b[0m\u001b[1;33m,\u001b[0m \u001b[0mX\u001b[0m\u001b[1;33m:\u001b[0m \u001b[0mnp\u001b[0m\u001b[1;33m.\u001b[0m\u001b[0mndarray\u001b[0m\u001b[1;33m)\u001b[0m\u001b[1;33m:\u001b[0m\u001b[1;33m\u001b[0m\u001b[1;33m\u001b[0m\u001b[0m\n\u001b[1;32m---> 49\u001b[1;33m         \u001b[1;32mreturn\u001b[0m \u001b[0msuper\u001b[0m\u001b[1;33m(\u001b[0m\u001b[1;33m)\u001b[0m\u001b[1;33m.\u001b[0m\u001b[0mpredict\u001b[0m\u001b[1;33m(\u001b[0m\u001b[0mX\u001b[0m\u001b[1;33m,\u001b[0m \u001b[0mreturn_std\u001b[0m\u001b[1;33m=\u001b[0m\u001b[1;32mTrue\u001b[0m\u001b[1;33m)\u001b[0m\u001b[1;33m\u001b[0m\u001b[1;33m\u001b[0m\u001b[0m\n\u001b[0m",
      "\u001b[1;32mc:\\users\\sauvik pal\\desktop\\ga_project\\btp_env_new\\lib\\site-packages\\sklearn\\linear_model\\bayes.py\u001b[0m in \u001b[0;36mpredict\u001b[1;34m(self, X, return_std)\u001b[0m\n\u001b[0;32m    631\u001b[0m             \u001b[1;32mif\u001b[0m \u001b[0mself\u001b[0m\u001b[1;33m.\u001b[0m\u001b[0mnormalize\u001b[0m\u001b[1;33m:\u001b[0m\u001b[1;33m\u001b[0m\u001b[1;33m\u001b[0m\u001b[0m\n\u001b[0;32m    632\u001b[0m                 \u001b[0mX\u001b[0m \u001b[1;33m=\u001b[0m \u001b[1;33m(\u001b[0m\u001b[0mX\u001b[0m \u001b[1;33m-\u001b[0m \u001b[0mself\u001b[0m\u001b[1;33m.\u001b[0m\u001b[0mX_offset_\u001b[0m\u001b[1;33m)\u001b[0m \u001b[1;33m/\u001b[0m \u001b[0mself\u001b[0m\u001b[1;33m.\u001b[0m\u001b[0mX_scale_\u001b[0m\u001b[1;33m\u001b[0m\u001b[1;33m\u001b[0m\u001b[0m\n\u001b[1;32m--> 633\u001b[1;33m             \u001b[0mX\u001b[0m \u001b[1;33m=\u001b[0m \u001b[0mX\u001b[0m\u001b[1;33m[\u001b[0m\u001b[1;33m:\u001b[0m\u001b[1;33m,\u001b[0m \u001b[0mself\u001b[0m\u001b[1;33m.\u001b[0m\u001b[0mlambda_\u001b[0m \u001b[1;33m<\u001b[0m \u001b[0mself\u001b[0m\u001b[1;33m.\u001b[0m\u001b[0mthreshold_lambda\u001b[0m\u001b[1;33m]\u001b[0m\u001b[1;33m\u001b[0m\u001b[1;33m\u001b[0m\u001b[0m\n\u001b[0m\u001b[0;32m    634\u001b[0m             \u001b[0msigmas_squared_data\u001b[0m \u001b[1;33m=\u001b[0m \u001b[1;33m(\u001b[0m\u001b[0mnp\u001b[0m\u001b[1;33m.\u001b[0m\u001b[0mdot\u001b[0m\u001b[1;33m(\u001b[0m\u001b[0mX\u001b[0m\u001b[1;33m,\u001b[0m \u001b[0mself\u001b[0m\u001b[1;33m.\u001b[0m\u001b[0msigma_\u001b[0m\u001b[1;33m)\u001b[0m \u001b[1;33m*\u001b[0m \u001b[0mX\u001b[0m\u001b[1;33m)\u001b[0m\u001b[1;33m.\u001b[0m\u001b[0msum\u001b[0m\u001b[1;33m(\u001b[0m\u001b[0maxis\u001b[0m\u001b[1;33m=\u001b[0m\u001b[1;36m1\u001b[0m\u001b[1;33m)\u001b[0m\u001b[1;33m\u001b[0m\u001b[1;33m\u001b[0m\u001b[0m\n\u001b[0;32m    635\u001b[0m             \u001b[0my_std\u001b[0m \u001b[1;33m=\u001b[0m \u001b[0mnp\u001b[0m\u001b[1;33m.\u001b[0m\u001b[0msqrt\u001b[0m\u001b[1;33m(\u001b[0m\u001b[0msigmas_squared_data\u001b[0m \u001b[1;33m+\u001b[0m \u001b[1;33m(\u001b[0m\u001b[1;36m1.\u001b[0m \u001b[1;33m/\u001b[0m \u001b[0mself\u001b[0m\u001b[1;33m.\u001b[0m\u001b[0malpha_\u001b[0m\u001b[1;33m)\u001b[0m\u001b[1;33m)\u001b[0m\u001b[1;33m\u001b[0m\u001b[1;33m\u001b[0m\u001b[0m\n",
      "\u001b[1;32mc:\\users\\sauvik pal\\desktop\\ga_project\\btp_env_new\\lib\\site-packages\\pandas\\core\\frame.py\u001b[0m in \u001b[0;36m__getitem__\u001b[1;34m(self, key)\u001b[0m\n\u001b[0;32m   2993\u001b[0m             \u001b[1;32mif\u001b[0m \u001b[0mself\u001b[0m\u001b[1;33m.\u001b[0m\u001b[0mcolumns\u001b[0m\u001b[1;33m.\u001b[0m\u001b[0mnlevels\u001b[0m \u001b[1;33m>\u001b[0m \u001b[1;36m1\u001b[0m\u001b[1;33m:\u001b[0m\u001b[1;33m\u001b[0m\u001b[1;33m\u001b[0m\u001b[0m\n\u001b[0;32m   2994\u001b[0m                 \u001b[1;32mreturn\u001b[0m \u001b[0mself\u001b[0m\u001b[1;33m.\u001b[0m\u001b[0m_getitem_multilevel\u001b[0m\u001b[1;33m(\u001b[0m\u001b[0mkey\u001b[0m\u001b[1;33m)\u001b[0m\u001b[1;33m\u001b[0m\u001b[1;33m\u001b[0m\u001b[0m\n\u001b[1;32m-> 2995\u001b[1;33m             \u001b[0mindexer\u001b[0m \u001b[1;33m=\u001b[0m \u001b[0mself\u001b[0m\u001b[1;33m.\u001b[0m\u001b[0mcolumns\u001b[0m\u001b[1;33m.\u001b[0m\u001b[0mget_loc\u001b[0m\u001b[1;33m(\u001b[0m\u001b[0mkey\u001b[0m\u001b[1;33m)\u001b[0m\u001b[1;33m\u001b[0m\u001b[1;33m\u001b[0m\u001b[0m\n\u001b[0m\u001b[0;32m   2996\u001b[0m             \u001b[1;32mif\u001b[0m \u001b[0mis_integer\u001b[0m\u001b[1;33m(\u001b[0m\u001b[0mindexer\u001b[0m\u001b[1;33m)\u001b[0m\u001b[1;33m:\u001b[0m\u001b[1;33m\u001b[0m\u001b[1;33m\u001b[0m\u001b[0m\n\u001b[0;32m   2997\u001b[0m                 \u001b[0mindexer\u001b[0m \u001b[1;33m=\u001b[0m \u001b[1;33m[\u001b[0m\u001b[0mindexer\u001b[0m\u001b[1;33m]\u001b[0m\u001b[1;33m\u001b[0m\u001b[1;33m\u001b[0m\u001b[0m\n",
      "\u001b[1;32mc:\\users\\sauvik pal\\desktop\\ga_project\\btp_env_new\\lib\\site-packages\\pandas\\core\\indexes\\base.py\u001b[0m in \u001b[0;36mget_loc\u001b[1;34m(self, key, method, tolerance)\u001b[0m\n\u001b[0;32m   2895\u001b[0m                 )\n\u001b[0;32m   2896\u001b[0m             \u001b[1;32mtry\u001b[0m\u001b[1;33m:\u001b[0m\u001b[1;33m\u001b[0m\u001b[1;33m\u001b[0m\u001b[0m\n\u001b[1;32m-> 2897\u001b[1;33m                 \u001b[1;32mreturn\u001b[0m \u001b[0mself\u001b[0m\u001b[1;33m.\u001b[0m\u001b[0m_engine\u001b[0m\u001b[1;33m.\u001b[0m\u001b[0mget_loc\u001b[0m\u001b[1;33m(\u001b[0m\u001b[0mkey\u001b[0m\u001b[1;33m)\u001b[0m\u001b[1;33m\u001b[0m\u001b[1;33m\u001b[0m\u001b[0m\n\u001b[0m\u001b[0;32m   2898\u001b[0m             \u001b[1;32mexcept\u001b[0m \u001b[0mKeyError\u001b[0m\u001b[1;33m:\u001b[0m\u001b[1;33m\u001b[0m\u001b[1;33m\u001b[0m\u001b[0m\n\u001b[0;32m   2899\u001b[0m                 \u001b[1;32mreturn\u001b[0m \u001b[0mself\u001b[0m\u001b[1;33m.\u001b[0m\u001b[0m_engine\u001b[0m\u001b[1;33m.\u001b[0m\u001b[0mget_loc\u001b[0m\u001b[1;33m(\u001b[0m\u001b[0mself\u001b[0m\u001b[1;33m.\u001b[0m\u001b[0m_maybe_cast_indexer\u001b[0m\u001b[1;33m(\u001b[0m\u001b[0mkey\u001b[0m\u001b[1;33m)\u001b[0m\u001b[1;33m)\u001b[0m\u001b[1;33m\u001b[0m\u001b[1;33m\u001b[0m\u001b[0m\n",
      "\u001b[1;32mpandas/_libs/index.pyx\u001b[0m in \u001b[0;36mpandas._libs.index.IndexEngine.get_loc\u001b[1;34m()\u001b[0m\n",
      "\u001b[1;32mpandas/_libs/index.pyx\u001b[0m in \u001b[0;36mpandas._libs.index.IndexEngine.get_loc\u001b[1;34m()\u001b[0m\n",
      "\u001b[1;31mTypeError\u001b[0m: '(slice(None, None, None), array([ True,  True, False,  True,  True, False,  True, False,  True,\n        True,  True,  True]))' is an invalid key"
     ]
    }
   ],
   "source": [
    "model = ARDR()\n",
    "model.fit(X, y)\n",
    "ardr_pred, _ = model.predict(X)"
   ]
  },
  {
   "cell_type": "code",
   "execution_count": 45,
   "metadata": {},
   "outputs": [
    {
     "data": {
      "text/html": [
       "<div>\n",
       "<style scoped>\n",
       "    .dataframe tbody tr th:only-of-type {\n",
       "        vertical-align: middle;\n",
       "    }\n",
       "\n",
       "    .dataframe tbody tr th {\n",
       "        vertical-align: top;\n",
       "    }\n",
       "\n",
       "    .dataframe thead th {\n",
       "        text-align: right;\n",
       "    }\n",
       "</style>\n",
       "<table border=\"1\" class=\"dataframe\">\n",
       "  <thead>\n",
       "    <tr style=\"text-align: right;\">\n",
       "      <th></th>\n",
       "      <th>Pellet</th>\n",
       "      <th>Sp.Flux consumption</th>\n",
       "      <th>Limestone</th>\n",
       "      <th>Dolomite</th>\n",
       "      <th>LD slag</th>\n",
       "      <th>Quartzite.</th>\n",
       "      <th>Mn</th>\n",
       "      <th>Alkali - Additives</th>\n",
       "      <th>alumina-Additives</th>\n",
       "      <th>FeO ore</th>\n",
       "      <th>SiO2</th>\n",
       "      <th>CaO</th>\n",
       "    </tr>\n",
       "  </thead>\n",
       "  <tbody>\n",
       "    <tr>\n",
       "      <th>0</th>\n",
       "      <td>15.091984</td>\n",
       "      <td>83.472733</td>\n",
       "      <td>0.339432</td>\n",
       "      <td>9.525518</td>\n",
       "      <td>0.404306</td>\n",
       "      <td>73.600205</td>\n",
       "      <td>0.129431</td>\n",
       "      <td>5.140471</td>\n",
       "      <td>0.658565</td>\n",
       "      <td>0.713631</td>\n",
       "      <td>2.435088</td>\n",
       "      <td>0.051315</td>\n",
       "    </tr>\n",
       "    <tr>\n",
       "      <th>1</th>\n",
       "      <td>15.124531</td>\n",
       "      <td>82.926839</td>\n",
       "      <td>0.158669</td>\n",
       "      <td>4.452753</td>\n",
       "      <td>4.414750</td>\n",
       "      <td>74.065860</td>\n",
       "      <td>0.114896</td>\n",
       "      <td>1.979164</td>\n",
       "      <td>0.800256</td>\n",
       "      <td>0.691389</td>\n",
       "      <td>2.656056</td>\n",
       "      <td>0.046011</td>\n",
       "    </tr>\n",
       "    <tr>\n",
       "      <th>2</th>\n",
       "      <td>15.137818</td>\n",
       "      <td>82.896484</td>\n",
       "      <td>0.000000</td>\n",
       "      <td>0.000000</td>\n",
       "      <td>8.372490</td>\n",
       "      <td>74.095840</td>\n",
       "      <td>0.107266</td>\n",
       "      <td>0.345544</td>\n",
       "      <td>0.963678</td>\n",
       "      <td>0.666391</td>\n",
       "      <td>2.781007</td>\n",
       "      <td>0.041275</td>\n",
       "    </tr>\n",
       "    <tr>\n",
       "      <th>3</th>\n",
       "      <td>15.131365</td>\n",
       "      <td>88.751054</td>\n",
       "      <td>2.439820</td>\n",
       "      <td>0.453474</td>\n",
       "      <td>11.842019</td>\n",
       "      <td>74.165752</td>\n",
       "      <td>0.108407</td>\n",
       "      <td>0.531380</td>\n",
       "      <td>1.087238</td>\n",
       "      <td>0.598022</td>\n",
       "      <td>2.705857</td>\n",
       "      <td>0.043436</td>\n",
       "    </tr>\n",
       "    <tr>\n",
       "      <th>4</th>\n",
       "      <td>15.123692</td>\n",
       "      <td>97.035503</td>\n",
       "      <td>4.992797</td>\n",
       "      <td>1.756624</td>\n",
       "      <td>17.297899</td>\n",
       "      <td>73.249921</td>\n",
       "      <td>0.108373</td>\n",
       "      <td>0.640559</td>\n",
       "      <td>1.418131</td>\n",
       "      <td>0.607691</td>\n",
       "      <td>3.266602</td>\n",
       "      <td>0.042136</td>\n",
       "    </tr>\n",
       "    <tr>\n",
       "      <th>...</th>\n",
       "      <td>...</td>\n",
       "      <td>...</td>\n",
       "      <td>...</td>\n",
       "      <td>...</td>\n",
       "      <td>...</td>\n",
       "      <td>...</td>\n",
       "      <td>...</td>\n",
       "      <td>...</td>\n",
       "      <td>...</td>\n",
       "      <td>...</td>\n",
       "      <td>...</td>\n",
       "      <td>...</td>\n",
       "    </tr>\n",
       "    <tr>\n",
       "      <th>205</th>\n",
       "      <td>8.893248</td>\n",
       "      <td>34.899714</td>\n",
       "      <td>0.000000</td>\n",
       "      <td>0.000000</td>\n",
       "      <td>0.457556</td>\n",
       "      <td>34.577787</td>\n",
       "      <td>0.449582</td>\n",
       "      <td>0.158909</td>\n",
       "      <td>0.201174</td>\n",
       "      <td>0.777565</td>\n",
       "      <td>4.466597</td>\n",
       "      <td>0.046905</td>\n",
       "    </tr>\n",
       "    <tr>\n",
       "      <th>206</th>\n",
       "      <td>8.465269</td>\n",
       "      <td>36.969122</td>\n",
       "      <td>0.000000</td>\n",
       "      <td>0.000000</td>\n",
       "      <td>4.183477</td>\n",
       "      <td>33.390088</td>\n",
       "      <td>0.464471</td>\n",
       "      <td>0.176199</td>\n",
       "      <td>0.378352</td>\n",
       "      <td>0.684357</td>\n",
       "      <td>5.960029</td>\n",
       "      <td>0.045335</td>\n",
       "    </tr>\n",
       "    <tr>\n",
       "      <th>207</th>\n",
       "      <td>8.333781</td>\n",
       "      <td>45.770469</td>\n",
       "      <td>0.987300</td>\n",
       "      <td>0.000000</td>\n",
       "      <td>15.505113</td>\n",
       "      <td>29.350571</td>\n",
       "      <td>0.543207</td>\n",
       "      <td>0.198354</td>\n",
       "      <td>0.726907</td>\n",
       "      <td>0.669157</td>\n",
       "      <td>5.886881</td>\n",
       "      <td>0.076733</td>\n",
       "    </tr>\n",
       "    <tr>\n",
       "      <th>208</th>\n",
       "      <td>8.697489</td>\n",
       "      <td>51.257032</td>\n",
       "      <td>1.156535</td>\n",
       "      <td>2.969184</td>\n",
       "      <td>19.326845</td>\n",
       "      <td>27.628771</td>\n",
       "      <td>0.590366</td>\n",
       "      <td>0.201289</td>\n",
       "      <td>0.905123</td>\n",
       "      <td>0.743405</td>\n",
       "      <td>5.169831</td>\n",
       "      <td>0.080648</td>\n",
       "    </tr>\n",
       "    <tr>\n",
       "      <th>209</th>\n",
       "      <td>9.486210</td>\n",
       "      <td>56.106537</td>\n",
       "      <td>1.195131</td>\n",
       "      <td>6.351803</td>\n",
       "      <td>21.688714</td>\n",
       "      <td>27.474169</td>\n",
       "      <td>0.621045</td>\n",
       "      <td>0.191833</td>\n",
       "      <td>1.054862</td>\n",
       "      <td>0.824435</td>\n",
       "      <td>3.725498</td>\n",
       "      <td>0.080099</td>\n",
       "    </tr>\n",
       "  </tbody>\n",
       "</table>\n",
       "<p>210 rows × 12 columns</p>\n",
       "</div>"
      ],
      "text/plain": [
       "        Pellet  Sp.Flux consumption   Limestone  Dolomite    LD slag  \\\n",
       "0    15.091984             83.472733   0.339432  9.525518   0.404306   \n",
       "1    15.124531             82.926839   0.158669  4.452753   4.414750   \n",
       "2    15.137818             82.896484   0.000000  0.000000   8.372490   \n",
       "3    15.131365             88.751054   2.439820  0.453474  11.842019   \n",
       "4    15.123692             97.035503   4.992797  1.756624  17.297899   \n",
       "..         ...                   ...        ...       ...        ...   \n",
       "205   8.893248             34.899714   0.000000  0.000000   0.457556   \n",
       "206   8.465269             36.969122   0.000000  0.000000   4.183477   \n",
       "207   8.333781             45.770469   0.987300  0.000000  15.505113   \n",
       "208   8.697489             51.257032   1.156535  2.969184  19.326845   \n",
       "209   9.486210             56.106537   1.195131  6.351803  21.688714   \n",
       "\n",
       "     Quartzite.        Mn  Alkali - Additives  alumina-Additives   FeO ore  \\\n",
       "0     73.600205  0.129431            5.140471           0.658565  0.713631   \n",
       "1     74.065860  0.114896            1.979164           0.800256  0.691389   \n",
       "2     74.095840  0.107266            0.345544           0.963678  0.666391   \n",
       "3     74.165752  0.108407            0.531380           1.087238  0.598022   \n",
       "4     73.249921  0.108373            0.640559           1.418131  0.607691   \n",
       "..          ...       ...                 ...                ...       ...   \n",
       "205   34.577787  0.449582            0.158909           0.201174  0.777565   \n",
       "206   33.390088  0.464471            0.176199           0.378352  0.684357   \n",
       "207   29.350571  0.543207            0.198354           0.726907  0.669157   \n",
       "208   27.628771  0.590366            0.201289           0.905123  0.743405   \n",
       "209   27.474169  0.621045            0.191833           1.054862  0.824435   \n",
       "\n",
       "         SiO2       CaO  \n",
       "0    2.435088  0.051315  \n",
       "1    2.656056  0.046011  \n",
       "2    2.781007  0.041275  \n",
       "3    2.705857  0.043436  \n",
       "4    3.266602  0.042136  \n",
       "..        ...       ...  \n",
       "205  4.466597  0.046905  \n",
       "206  5.960029  0.045335  \n",
       "207  5.886881  0.076733  \n",
       "208  5.169831  0.080648  \n",
       "209  3.725498  0.080099  \n",
       "\n",
       "[210 rows x 12 columns]"
      ]
     },
     "execution_count": 45,
     "metadata": {},
     "output_type": "execute_result"
    }
   ],
   "source": [
    "X"
   ]
  },
  {
   "cell_type": "code",
   "execution_count": 71,
   "metadata": {},
   "outputs": [
    {
     "name": "stdout",
     "output_type": "stream",
     "text": [
      "{'RMSE': 0.08465582079220373, 'R^2': 0.9559444477223208}\n"
     ]
    }
   ],
   "source": [
    "performace = get_performace(model, X, y)\n",
    "print(performace)"
   ]
  },
  {
   "cell_type": "markdown",
   "metadata": {},
   "source": [
    "## BR Model"
   ]
  },
  {
   "cell_type": "code",
   "execution_count": 73,
   "metadata": {},
   "outputs": [
    {
     "name": "stderr",
     "output_type": "stream",
     "text": [
      "c:\\users\\sauvik pal\\desktop\\ga_project\\btp_env_new\\lib\\site-packages\\sklearn\\utils\\validation.py:724: DataConversionWarning:\n",
      "\n",
      "A column-vector y was passed when a 1d array was expected. Please change the shape of y to (n_samples, ), for example using ravel().\n",
      "\n"
     ]
    }
   ],
   "source": [
    "model = BR()\n",
    "model.fit(X, y)\n",
    "ardr_pred, _ = model.predict(X)"
   ]
  },
  {
   "cell_type": "code",
   "execution_count": 74,
   "metadata": {},
   "outputs": [
    {
     "name": "stdout",
     "output_type": "stream",
     "text": [
      "{'RMSE': 0.08465493066869921, 'R^2': 0.9559453741719388}\n"
     ]
    }
   ],
   "source": [
    "performace = get_performace(model, X, y)\n",
    "print(performace)"
   ]
  },
  {
   "cell_type": "code",
   "execution_count": null,
   "metadata": {},
   "outputs": [],
   "source": []
  }
 ],
 "metadata": {
  "kernelspec": {
   "display_name": "btp_env_new",
   "language": "python",
   "name": "btp_env_new"
  },
  "language_info": {
   "codemirror_mode": {
    "name": "ipython",
    "version": 3
   },
   "file_extension": ".py",
   "mimetype": "text/x-python",
   "name": "python",
   "nbconvert_exporter": "python",
   "pygments_lexer": "ipython3",
   "version": "3.7.4"
  }
 },
 "nbformat": 4,
 "nbformat_minor": 2
}
