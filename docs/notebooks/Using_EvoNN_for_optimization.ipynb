{
 "cells": [
  {
   "cell_type": "code",
   "execution_count": 1,
   "metadata": {},
   "outputs": [],
   "source": [
    "from desdeo_emo.surrogatemodels.EvoNN import EvoNNforDESDEO\n",
    "from desdeo_problem.surrogatemodels.SurrogateModels import GaussianProcessRegressor\n",
    "from sklearn.gaussian_process.kernels import Matern\n",
    "\n",
    "from desdeo_problem.Problem import DataProblem\n",
    "\n",
    "from desdeo_problem.testproblems.TestProblems import test_problem_builder\n",
    "\n",
    "from desdeo_emo.EAs import NSGAIII, RVEA, PPGA\n",
    "\n",
    "\n",
    "from desdeo_emo.othertools.plotlyanimate import animate_init_, animate_next_\n",
    "import plotly.express as ex\n",
    "\n",
    "from plotly import graph_objects as go\n",
    "import numpy as np\n",
    "import pandas as pd\n",
    "from pyDOE import lhs\n",
    "from pygmo import non_dominated_front_2d as nd2"
   ]
  },
  {
   "cell_type": "code",
   "execution_count": 2,
   "metadata": {},
   "outputs": [],
   "source": [
    "# Creating the data to be modelled. Based on Coello MOP7 functions.\n",
    "\n",
    "def f_1(x):\n",
    "    term1 = ((x[:,0] - 2) ** 2) / 2\n",
    "    term2 = ((x[:,1] + 1) ** 2) / 13\n",
    "    return term1 + term2 + 3\n",
    "\n",
    "def f_2(x):\n",
    "    term1 = ((x[:, 0] + x[:, 1] - 3) ** 2) / 36\n",
    "    term2 = ((-x[:, 0] + x[:, 1] + 2) ** 2) / 8\n",
    "    return term1 + term2 - 17\n",
    "\n",
    "def f_3(x):\n",
    "    term1 = ((x[:, 0] + (2 * x[:, 1]) - 1) ** 2) / 175\n",
    "    term2 = ((-x[:, 0] + 2* x[:, 1]) ** 2) / 17\n",
    "    return term1 + term2 - 13\n",
    "\n",
    "# Decision variables\n",
    "x = lhs(2, 1000)  # 2 Columns, 500 data points\n",
    "x = (x - 0.5) * 800  # Rescaling to [-400, 400]\n",
    "\n",
    "f1 = f_1(x)\n",
    "f2 = f_2(x)\n",
    "f3 = f_3(x)\n",
    "\n",
    "f = np.vstack((f1, f2, f3)).T\n",
    "\n",
    "data = pd.DataFrame(np.hstack((x, f)), columns= [\"x\", \"y\", \"f1\", \"f2\", \"f3\"])"
   ]
  },
  {
   "cell_type": "code",
   "execution_count": 3,
   "metadata": {},
   "outputs": [
    {
     "data": {
      "text/html": [
       "<div>\n",
       "<style scoped>\n",
       "    .dataframe tbody tr th:only-of-type {\n",
       "        vertical-align: middle;\n",
       "    }\n",
       "\n",
       "    .dataframe tbody tr th {\n",
       "        vertical-align: top;\n",
       "    }\n",
       "\n",
       "    .dataframe thead th {\n",
       "        text-align: right;\n",
       "    }\n",
       "</style>\n",
       "<table border=\"1\" class=\"dataframe\">\n",
       "  <thead>\n",
       "    <tr style=\"text-align: right;\">\n",
       "      <th></th>\n",
       "      <th>x</th>\n",
       "      <th>y</th>\n",
       "      <th>f1</th>\n",
       "      <th>f2</th>\n",
       "      <th>f3</th>\n",
       "    </tr>\n",
       "  </thead>\n",
       "  <tbody>\n",
       "    <tr>\n",
       "      <th>0</th>\n",
       "      <td>-89.671535</td>\n",
       "      <td>-285.524807</td>\n",
       "      <td>10432.094075</td>\n",
       "      <td>8653.510619</td>\n",
       "      <td>16120.015955</td>\n",
       "    </tr>\n",
       "    <tr>\n",
       "      <th>1</th>\n",
       "      <td>88.367531</td>\n",
       "      <td>-375.069752</td>\n",
       "      <td>14496.381326</td>\n",
       "      <td>28929.861840</td>\n",
       "      <td>43855.568845</td>\n",
       "    </tr>\n",
       "    <tr>\n",
       "      <th>2</th>\n",
       "      <td>-208.210060</td>\n",
       "      <td>-399.773045</td>\n",
       "      <td>34329.437945</td>\n",
       "      <td>14844.219969</td>\n",
       "      <td>26371.105919</td>\n",
       "    </tr>\n",
       "    <tr>\n",
       "      <th>3</th>\n",
       "      <td>78.437948</td>\n",
       "      <td>-321.458560</td>\n",
       "      <td>10823.894481</td>\n",
       "      <td>21454.485606</td>\n",
       "      <td>32423.246137</td>\n",
       "    </tr>\n",
       "    <tr>\n",
       "      <th>4</th>\n",
       "      <td>26.007263</td>\n",
       "      <td>-282.703453</td>\n",
       "      <td>6395.546318</td>\n",
       "      <td>13615.324943</td>\n",
       "      <td>22230.501262</td>\n",
       "    </tr>\n",
       "    <tr>\n",
       "      <th>...</th>\n",
       "      <td>...</td>\n",
       "      <td>...</td>\n",
       "      <td>...</td>\n",
       "      <td>...</td>\n",
       "      <td>...</td>\n",
       "    </tr>\n",
       "    <tr>\n",
       "      <th>995</th>\n",
       "      <td>-344.337708</td>\n",
       "      <td>118.159714</td>\n",
       "      <td>61070.137517</td>\n",
       "      <td>28411.691668</td>\n",
       "      <td>19888.014781</td>\n",
       "    </tr>\n",
       "    <tr>\n",
       "      <th>996</th>\n",
       "      <td>-137.687627</td>\n",
       "      <td>-196.222971</td>\n",
       "      <td>12691.009540</td>\n",
       "      <td>3535.551515</td>\n",
       "      <td>5416.769300</td>\n",
       "    </tr>\n",
       "    <tr>\n",
       "      <th>997</th>\n",
       "      <td>51.796144</td>\n",
       "      <td>-298.695901</td>\n",
       "      <td>8059.970268</td>\n",
       "      <td>16898.557354</td>\n",
       "      <td>26485.120732</td>\n",
       "    </tr>\n",
       "    <tr>\n",
       "      <th>998</th>\n",
       "      <td>-0.076294</td>\n",
       "      <td>-262.761227</td>\n",
       "      <td>5275.843167</td>\n",
       "      <td>10440.623355</td>\n",
       "      <td>17812.410980</td>\n",
       "    </tr>\n",
       "    <tr>\n",
       "      <th>999</th>\n",
       "      <td>74.709215</td>\n",
       "      <td>223.518086</td>\n",
       "      <td>6523.881964</td>\n",
       "      <td>5247.002202</td>\n",
       "      <td>9691.126516</td>\n",
       "    </tr>\n",
       "  </tbody>\n",
       "</table>\n",
       "<p>1000 rows × 5 columns</p>\n",
       "</div>"
      ],
      "text/plain": [
       "              x           y            f1            f2            f3\n",
       "0    -89.671535 -285.524807  10432.094075   8653.510619  16120.015955\n",
       "1     88.367531 -375.069752  14496.381326  28929.861840  43855.568845\n",
       "2   -208.210060 -399.773045  34329.437945  14844.219969  26371.105919\n",
       "3     78.437948 -321.458560  10823.894481  21454.485606  32423.246137\n",
       "4     26.007263 -282.703453   6395.546318  13615.324943  22230.501262\n",
       "..          ...         ...           ...           ...           ...\n",
       "995 -344.337708  118.159714  61070.137517  28411.691668  19888.014781\n",
       "996 -137.687627 -196.222971  12691.009540   3535.551515   5416.769300\n",
       "997   51.796144 -298.695901   8059.970268  16898.557354  26485.120732\n",
       "998   -0.076294 -262.761227   5275.843167  10440.623355  17812.410980\n",
       "999   74.709215  223.518086   6523.881964   5247.002202   9691.126516\n",
       "\n",
       "[1000 rows x 5 columns]"
      ]
     },
     "execution_count": 3,
     "metadata": {},
     "output_type": "execute_result"
    }
   ],
   "source": [
    "data"
   ]
  },
  {
   "cell_type": "code",
   "execution_count": 4,
   "metadata": {},
   "outputs": [],
   "source": [
    "problem = DataProblem(data=data, variable_names=[\"x\", \"y\"], objective_names=[\"f1\", \"f2\", \"f3\"])"
   ]
  },
  {
   "cell_type": "code",
   "execution_count": 6,
   "metadata": {},
   "outputs": [
    {
     "name": "stdout",
     "output_type": "stream",
     "text": [
      "Plot saved as:  EvoNN.html\n",
      "View the plot by opening the file in browser.\n",
      "To view the plot in Jupyter Notebook, use the IFrame command.\n",
      "Plot saved as:  EvoNN.html\n",
      "View the plot by opening the file in browser.\n",
      "To view the plot in Jupyter Notebook, use the IFrame command.\n",
      "Plot saved as:  EvoNN.html\n",
      "View the plot by opening the file in browser.\n",
      "To view the plot in Jupyter Notebook, use the IFrame command.\n"
     ]
    }
   ],
   "source": [
    "problem.train(EvoNN, \n",
    "              model_parameters={\n",
    "                  \"training_algorithm\":PPGA, \n",
    "                  \"pop_size\":50,\n",
    "                  \"num_hidden_nodes\":25,\n",
    "              })\n",
    "# How to use hyperparameters\n",
    "#problem.train(EvoNNforDESDEO, model_parameters={\"training_algorithm\":NSGAIII, \"pop_size\": 50})"
   ]
  },
  {
   "cell_type": "code",
   "execution_count": 15,
   "metadata": {},
   "outputs": [
    {
     "name": "stdout",
     "output_type": "stream",
     "text": [
      "Plot saved as:  example.html\n",
      "View the plot by opening the file in browser.\n",
      "To view the plot in Jupyter Notebook, use the IFrame command.\n"
     ]
    }
   ],
   "source": [
    "evolver = NSGAIII(problem, n_gen_per_iter=100, use_surrogates=True)\n",
    "figure = animate_init_(evolver.population.objectives, filename=\"example.html\")\n",
    "\n",
    "while evolver.continue_evolution():\n",
    "    evolver.iterate()\n",
    "    figure = animate_next_(\n",
    "        evolver.population.objectives,\n",
    "        figure,\n",
    "        filename=\"example.html\",\n",
    "        generation=evolver._iteration_counter,\n",
    "    )"
   ]
  },
  {
   "cell_type": "code",
   "execution_count": 16,
   "metadata": {},
   "outputs": [
    {
     "data": {
      "application/vnd.plotly.v1+json": {
       "config": {
        "plotlyServerURL": "https://plot.ly"
       },
       "data": [
        {
         "hovertemplate": "x=%{x}<br>y=%{y}<br>z=%{z}<extra></extra>",
         "legendgroup": "",
         "marker": {
          "color": "#636efa",
          "symbol": "circle"
         },
         "mode": "markers",
         "name": "",
         "scene": "scene",
         "showlegend": false,
         "type": "scatter3d",
         "x": [
          3.1287407930480398,
          3.2023392838863907,
          3.0765606656868663,
          3.107018098218717,
          3.1159201129427347,
          3.0905910342846834,
          3.0569517892141462,
          3.000021192024338,
          3.0505252710173134,
          3.170841272674893,
          3.050057479167878,
          3.0756321743716626,
          3.1990778891195886,
          3.0530888737636865,
          3.1173246020923573,
          3.159517774405395,
          3.1290875467486017,
          3.159915826670984,
          3.15971560412188,
          3.839996957851033,
          3.0000236614180342,
          3.0934374901260715,
          3.057111535466241,
          3.130507190687589,
          3.1046866016200303,
          3.192620348967445,
          3.012466192714726,
          3.656782221058678,
          3.006583645335424,
          3.1682761140545135,
          3.107050512165699,
          3.20431890808213,
          3.3410769557878717,
          3.1980125296952795,
          3.0216549123305523,
          3.1955735069394837,
          3.0050935708307134,
          3.1025620656857624,
          3.1633747196790165,
          3.137930761991028,
          3.052074936350257,
          3.709024680434778,
          3.14807247107528,
          3.018725749224952,
          3.218520188059484,
          3.150044944348271,
          3.0777222327944345,
          3.8372678035283005,
          3.1777002577816313,
          3.1164403749295344,
          3.1372177457074866,
          3.191007181947318,
          3.103875209396125,
          3.148322021542012,
          3.382907056074564,
          3.1349676110040408,
          3.1556786916082458,
          3.2462857133596517,
          3.1096999868359214,
          3.1545743271246693,
          3.1676888645568155,
          3.771844360805022,
          3.048931963661113,
          3.1782118014425635,
          3.2594425581197797,
          3.14406320987912,
          3.135446690096266,
          3.2242168465792216,
          3.1628487713613063,
          3.1247905742211826,
          3.105768259663255,
          3.1244615611819015,
          3.103711787295014,
          3.151772400020431,
          3.114593380224804,
          3.2284114148215926,
          3.1452402649396354,
          3.17081136649096,
          3.3206915862442665,
          3.140333898553638,
          3.1360721919690993,
          3.190586242008282,
          3.2494213619525256,
          3.196069085375941,
          3.1670815736238813,
          3.132451115526006,
          3.1467783714253237,
          3.125657396908763,
          3.139013529044151,
          3.1631077171177666,
          3.132295226789887,
          3.00448438063954,
          3.05532252795351,
          3.125117866953609,
          3.104246159478581,
          3.2496685529749967,
          3.077925670452586,
          3.196821260437465,
          3.165625962175595,
          3.105669102343379,
          3.2483100926834387,
          3.2041952239755567,
          3.8408713177034493,
          3.0002031774060556,
          3.1939483770887938
         ],
         "y": [
          -16.98501014875969,
          -16.997557648214517,
          -16.94394436040965,
          -16.96540305971165,
          -16.9869147183179,
          -16.97497094274882,
          -16.951253167949275,
          -16.765708427919797,
          -16.95630654952279,
          -16.946887431794174,
          -16.955523680053847,
          -16.94320035236447,
          -16.99341970531948,
          -16.9574450986078,
          -16.972645817726864,
          -16.98622077809478,
          -16.988382430563405,
          -16.964114086161917,
          -16.99114797846688,
          -16.631893780300413,
          -16.76645069199025,
          -16.97464979689875,
          -16.951832531414254,
          -16.961408742785782,
          -16.975339594416937,
          -16.92214499698418,
          -16.884724403453585,
          -16.69065025630088,
          -16.85605601752988,
          -16.935091628226928,
          -16.965378959146555,
          -16.997584638086487,
          -16.82915667471385,
          -16.99732191090141,
          -16.912652041337935,
          -16.919510573768797,
          -16.847227402378476,
          -16.98366012611699,
          -16.96297061825622,
          -16.988273774802064,
          -16.950687498879557,
          -16.66728227919195,
          -16.969179025523278,
          -16.905102567870525,
          -16.996658633664556,
          -16.943648967265926,
          -16.943956545130117,
          -16.633642057572143,
          -16.99498573282745,
          -16.986971359142732,
          -16.97225400911381,
          -16.923641375044465,
          -16.984075379679552,
          -16.9697871503276,
          -16.803073056246976,
          -16.988539374195266,
          -16.989885231226417,
          -16.88216500899304,
          -16.965191432923568,
          -16.9717800917939,
          -16.993815640784515,
          -16.64083890256218,
          -16.95448261785918,
          -16.93413551242941,
          -16.87289784675934,
          -16.98495973806623,
          -16.98924557417478,
          -16.997839372788274,
          -16.948848837873438,
          -16.964345656710496,
          -16.97601971761646,
          -16.97657432045712,
          -16.984009064835973,
          -16.9426235649709,
          -16.986600419222633,
          -16.894257089851216,
          -16.984509470400656,
          -16.98509767446821,
          -16.841281972737573,
          -16.971231280454123,
          -16.972519449581885,
          -16.92404325835746,
          -16.8797721945081,
          -16.997158181202618,
          -16.977488827415662,
          -16.987986023265663,
          -16.971834579383422,
          -16.97448323921036,
          -16.97140244117029,
          -16.96326498442958,
          -16.987796353375114,
          -16.79202495552091,
          -16.95207792927994,
          -16.97108499540815,
          -16.984166964250363,
          -16.88005023318253,
          -16.943862560075026,
          -16.99411749388119,
          -16.97763538529576,
          -16.97600749634238,
          -16.880851195156385,
          -16.997592348816944,
          -16.6325321519175,
          -16.78052855302739,
          -16.92141153111405
         ],
         "z": [
          -12.733568878123801,
          -12.816355141382648,
          -12.726867313221874,
          -12.841575016052266,
          -12.795753857205694,
          -12.797770245772655,
          -12.695210201816016,
          -12.057456663326873,
          -12.657275097438959,
          -12.926736951399885,
          -12.66552094787775,
          -12.722466490670643,
          -12.864961104548868,
          -12.681837314426721,
          -12.856373530778441,
          -12.870392296508165,
          -12.822383191908209,
          -12.909270034402924,
          -12.849161264976518,
          -12.99410274471961,
          -12.05944207848427,
          -12.806161835206929,
          -12.69661435143387,
          -12.88174200909905,
          -12.830352773065338,
          -12.942395758427892,
          -12.404855034952625,
          -12.992270286403436,
          -12.31666011532091,
          -12.921321088598269,
          -12.841633933363715,
          -12.829487907946767,
          -12.972473497373635,
          -12.818544883420042,
          -12.497138693767473,
          -12.94384173429968,
          -12.287352046119883,
          -12.767676252534223,
          -12.91239162741253,
          -12.752449653544826,
          -12.678730207872896,
          -12.99450621920133,
          -12.89565975546062,
          -12.471239901217261,
          -12.85420586250483,
          -12.901063732726096,
          -12.729579030934476,
          -12.993786468492841,
          -12.790537854073724,
          -12.797763576321893,
          -12.882112502293584,
          -12.941579774200362,
          -12.772443352139327,
          -12.895154400082903,
          -12.98041980078816,
          -12.83293569650042,
          -12.852211770834343,
          -12.956906894455422,
          -12.846814396676546,
          -12.897180325443488,
          -12.783983043199893,
          -12.996302774504365,
          -12.660516388805345,
          -12.93325691926739,
          -12.96315775334577,
          -12.8613780169273,
          -12.828224002279072,
          -12.845796523081086,
          -12.920161394742124,
          -12.872955169381274,
          -12.83124063077607,
          -12.860703703099365,
          -12.770451985160907,
          -12.902754926727132,
          -12.795094738737241,
          -12.942540640482251,
          -12.863998907467236,
          -12.880852452400983,
          -12.967865000322316,
          -12.886466156828744,
          -12.88058939058486,
          -12.941365172600579,
          -12.95941053719631,
          -12.81417501756848,
          -12.895521220478656,
          -12.832387853025791,
          -12.891351061306477,
          -12.865743949804013,
          -12.88498199737436,
          -12.911969002147385,
          -12.833394489934745,
          -12.141134558177017,
          -12.691334185328486,
          -12.869323157746544,
          -12.771796741134375,
          -12.95773346798902,
          -12.729758679126274,
          -12.860032113993958,
          -12.894507242778024,
          -12.831068126660464,
          -12.95760103262849,
          -12.828924955869851,
          -12.993804198274564,
          -12.097302632782895,
          -12.94335045773557
         ]
        }
       ],
       "layout": {
        "autosize": true,
        "legend": {
         "tracegroupgap": 0
        },
        "margin": {
         "t": 60
        },
        "scene": {
         "aspectmode": "auto",
         "aspectratio": {
          "x": 1.2719657523924077,
          "y": 0.5535710189822137,
          "z": 1.4202056510606895
         },
         "camera": {
          "center": {
           "x": -0.28735861201394663,
           "y": 0.45633041868430335,
           "z": -0.06592081586840948
          },
          "eye": {
           "x": 1.6853095332118542,
           "y": 2.043589321432898,
           "z": 1.170560179001242
          },
          "projection": {
           "type": "perspective"
          },
          "up": {
           "x": 0,
           "y": 0,
           "z": 1
          }
         },
         "domain": {
          "x": [
           0,
           1
          ],
          "y": [
           0,
           1
          ]
         },
         "xaxis": {
          "title": {
           "text": "x"
          },
          "type": "linear"
         },
         "yaxis": {
          "title": {
           "text": "y"
          },
          "type": "linear"
         },
         "zaxis": {
          "title": {
           "text": "z"
          },
          "type": "linear"
         }
        },
        "template": {
         "data": {
          "bar": [
           {
            "error_x": {
             "color": "#2a3f5f"
            },
            "error_y": {
             "color": "#2a3f5f"
            },
            "marker": {
             "line": {
              "color": "#E5ECF6",
              "width": 0.5
             }
            },
            "type": "bar"
           }
          ],
          "barpolar": [
           {
            "marker": {
             "line": {
              "color": "#E5ECF6",
              "width": 0.5
             }
            },
            "type": "barpolar"
           }
          ],
          "carpet": [
           {
            "aaxis": {
             "endlinecolor": "#2a3f5f",
             "gridcolor": "white",
             "linecolor": "white",
             "minorgridcolor": "white",
             "startlinecolor": "#2a3f5f"
            },
            "baxis": {
             "endlinecolor": "#2a3f5f",
             "gridcolor": "white",
             "linecolor": "white",
             "minorgridcolor": "white",
             "startlinecolor": "#2a3f5f"
            },
            "type": "carpet"
           }
          ],
          "choropleth": [
           {
            "colorbar": {
             "outlinewidth": 0,
             "ticks": ""
            },
            "type": "choropleth"
           }
          ],
          "contour": [
           {
            "colorbar": {
             "outlinewidth": 0,
             "ticks": ""
            },
            "colorscale": [
             [
              0,
              "#0d0887"
             ],
             [
              0.1111111111111111,
              "#46039f"
             ],
             [
              0.2222222222222222,
              "#7201a8"
             ],
             [
              0.3333333333333333,
              "#9c179e"
             ],
             [
              0.4444444444444444,
              "#bd3786"
             ],
             [
              0.5555555555555556,
              "#d8576b"
             ],
             [
              0.6666666666666666,
              "#ed7953"
             ],
             [
              0.7777777777777778,
              "#fb9f3a"
             ],
             [
              0.8888888888888888,
              "#fdca26"
             ],
             [
              1,
              "#f0f921"
             ]
            ],
            "type": "contour"
           }
          ],
          "contourcarpet": [
           {
            "colorbar": {
             "outlinewidth": 0,
             "ticks": ""
            },
            "type": "contourcarpet"
           }
          ],
          "heatmap": [
           {
            "colorbar": {
             "outlinewidth": 0,
             "ticks": ""
            },
            "colorscale": [
             [
              0,
              "#0d0887"
             ],
             [
              0.1111111111111111,
              "#46039f"
             ],
             [
              0.2222222222222222,
              "#7201a8"
             ],
             [
              0.3333333333333333,
              "#9c179e"
             ],
             [
              0.4444444444444444,
              "#bd3786"
             ],
             [
              0.5555555555555556,
              "#d8576b"
             ],
             [
              0.6666666666666666,
              "#ed7953"
             ],
             [
              0.7777777777777778,
              "#fb9f3a"
             ],
             [
              0.8888888888888888,
              "#fdca26"
             ],
             [
              1,
              "#f0f921"
             ]
            ],
            "type": "heatmap"
           }
          ],
          "heatmapgl": [
           {
            "colorbar": {
             "outlinewidth": 0,
             "ticks": ""
            },
            "colorscale": [
             [
              0,
              "#0d0887"
             ],
             [
              0.1111111111111111,
              "#46039f"
             ],
             [
              0.2222222222222222,
              "#7201a8"
             ],
             [
              0.3333333333333333,
              "#9c179e"
             ],
             [
              0.4444444444444444,
              "#bd3786"
             ],
             [
              0.5555555555555556,
              "#d8576b"
             ],
             [
              0.6666666666666666,
              "#ed7953"
             ],
             [
              0.7777777777777778,
              "#fb9f3a"
             ],
             [
              0.8888888888888888,
              "#fdca26"
             ],
             [
              1,
              "#f0f921"
             ]
            ],
            "type": "heatmapgl"
           }
          ],
          "histogram": [
           {
            "marker": {
             "colorbar": {
              "outlinewidth": 0,
              "ticks": ""
             }
            },
            "type": "histogram"
           }
          ],
          "histogram2d": [
           {
            "colorbar": {
             "outlinewidth": 0,
             "ticks": ""
            },
            "colorscale": [
             [
              0,
              "#0d0887"
             ],
             [
              0.1111111111111111,
              "#46039f"
             ],
             [
              0.2222222222222222,
              "#7201a8"
             ],
             [
              0.3333333333333333,
              "#9c179e"
             ],
             [
              0.4444444444444444,
              "#bd3786"
             ],
             [
              0.5555555555555556,
              "#d8576b"
             ],
             [
              0.6666666666666666,
              "#ed7953"
             ],
             [
              0.7777777777777778,
              "#fb9f3a"
             ],
             [
              0.8888888888888888,
              "#fdca26"
             ],
             [
              1,
              "#f0f921"
             ]
            ],
            "type": "histogram2d"
           }
          ],
          "histogram2dcontour": [
           {
            "colorbar": {
             "outlinewidth": 0,
             "ticks": ""
            },
            "colorscale": [
             [
              0,
              "#0d0887"
             ],
             [
              0.1111111111111111,
              "#46039f"
             ],
             [
              0.2222222222222222,
              "#7201a8"
             ],
             [
              0.3333333333333333,
              "#9c179e"
             ],
             [
              0.4444444444444444,
              "#bd3786"
             ],
             [
              0.5555555555555556,
              "#d8576b"
             ],
             [
              0.6666666666666666,
              "#ed7953"
             ],
             [
              0.7777777777777778,
              "#fb9f3a"
             ],
             [
              0.8888888888888888,
              "#fdca26"
             ],
             [
              1,
              "#f0f921"
             ]
            ],
            "type": "histogram2dcontour"
           }
          ],
          "mesh3d": [
           {
            "colorbar": {
             "outlinewidth": 0,
             "ticks": ""
            },
            "type": "mesh3d"
           }
          ],
          "parcoords": [
           {
            "line": {
             "colorbar": {
              "outlinewidth": 0,
              "ticks": ""
             }
            },
            "type": "parcoords"
           }
          ],
          "pie": [
           {
            "automargin": true,
            "type": "pie"
           }
          ],
          "scatter": [
           {
            "marker": {
             "colorbar": {
              "outlinewidth": 0,
              "ticks": ""
             }
            },
            "type": "scatter"
           }
          ],
          "scatter3d": [
           {
            "line": {
             "colorbar": {
              "outlinewidth": 0,
              "ticks": ""
             }
            },
            "marker": {
             "colorbar": {
              "outlinewidth": 0,
              "ticks": ""
             }
            },
            "type": "scatter3d"
           }
          ],
          "scattercarpet": [
           {
            "marker": {
             "colorbar": {
              "outlinewidth": 0,
              "ticks": ""
             }
            },
            "type": "scattercarpet"
           }
          ],
          "scattergeo": [
           {
            "marker": {
             "colorbar": {
              "outlinewidth": 0,
              "ticks": ""
             }
            },
            "type": "scattergeo"
           }
          ],
          "scattergl": [
           {
            "marker": {
             "colorbar": {
              "outlinewidth": 0,
              "ticks": ""
             }
            },
            "type": "scattergl"
           }
          ],
          "scattermapbox": [
           {
            "marker": {
             "colorbar": {
              "outlinewidth": 0,
              "ticks": ""
             }
            },
            "type": "scattermapbox"
           }
          ],
          "scatterpolar": [
           {
            "marker": {
             "colorbar": {
              "outlinewidth": 0,
              "ticks": ""
             }
            },
            "type": "scatterpolar"
           }
          ],
          "scatterpolargl": [
           {
            "marker": {
             "colorbar": {
              "outlinewidth": 0,
              "ticks": ""
             }
            },
            "type": "scatterpolargl"
           }
          ],
          "scatterternary": [
           {
            "marker": {
             "colorbar": {
              "outlinewidth": 0,
              "ticks": ""
             }
            },
            "type": "scatterternary"
           }
          ],
          "surface": [
           {
            "colorbar": {
             "outlinewidth": 0,
             "ticks": ""
            },
            "colorscale": [
             [
              0,
              "#0d0887"
             ],
             [
              0.1111111111111111,
              "#46039f"
             ],
             [
              0.2222222222222222,
              "#7201a8"
             ],
             [
              0.3333333333333333,
              "#9c179e"
             ],
             [
              0.4444444444444444,
              "#bd3786"
             ],
             [
              0.5555555555555556,
              "#d8576b"
             ],
             [
              0.6666666666666666,
              "#ed7953"
             ],
             [
              0.7777777777777778,
              "#fb9f3a"
             ],
             [
              0.8888888888888888,
              "#fdca26"
             ],
             [
              1,
              "#f0f921"
             ]
            ],
            "type": "surface"
           }
          ],
          "table": [
           {
            "cells": {
             "fill": {
              "color": "#EBF0F8"
             },
             "line": {
              "color": "white"
             }
            },
            "header": {
             "fill": {
              "color": "#C8D4E3"
             },
             "line": {
              "color": "white"
             }
            },
            "type": "table"
           }
          ]
         },
         "layout": {
          "annotationdefaults": {
           "arrowcolor": "#2a3f5f",
           "arrowhead": 0,
           "arrowwidth": 1
          },
          "coloraxis": {
           "colorbar": {
            "outlinewidth": 0,
            "ticks": ""
           }
          },
          "colorscale": {
           "diverging": [
            [
             0,
             "#8e0152"
            ],
            [
             0.1,
             "#c51b7d"
            ],
            [
             0.2,
             "#de77ae"
            ],
            [
             0.3,
             "#f1b6da"
            ],
            [
             0.4,
             "#fde0ef"
            ],
            [
             0.5,
             "#f7f7f7"
            ],
            [
             0.6,
             "#e6f5d0"
            ],
            [
             0.7,
             "#b8e186"
            ],
            [
             0.8,
             "#7fbc41"
            ],
            [
             0.9,
             "#4d9221"
            ],
            [
             1,
             "#276419"
            ]
           ],
           "sequential": [
            [
             0,
             "#0d0887"
            ],
            [
             0.1111111111111111,
             "#46039f"
            ],
            [
             0.2222222222222222,
             "#7201a8"
            ],
            [
             0.3333333333333333,
             "#9c179e"
            ],
            [
             0.4444444444444444,
             "#bd3786"
            ],
            [
             0.5555555555555556,
             "#d8576b"
            ],
            [
             0.6666666666666666,
             "#ed7953"
            ],
            [
             0.7777777777777778,
             "#fb9f3a"
            ],
            [
             0.8888888888888888,
             "#fdca26"
            ],
            [
             1,
             "#f0f921"
            ]
           ],
           "sequentialminus": [
            [
             0,
             "#0d0887"
            ],
            [
             0.1111111111111111,
             "#46039f"
            ],
            [
             0.2222222222222222,
             "#7201a8"
            ],
            [
             0.3333333333333333,
             "#9c179e"
            ],
            [
             0.4444444444444444,
             "#bd3786"
            ],
            [
             0.5555555555555556,
             "#d8576b"
            ],
            [
             0.6666666666666666,
             "#ed7953"
            ],
            [
             0.7777777777777778,
             "#fb9f3a"
            ],
            [
             0.8888888888888888,
             "#fdca26"
            ],
            [
             1,
             "#f0f921"
            ]
           ]
          },
          "colorway": [
           "#636efa",
           "#EF553B",
           "#00cc96",
           "#ab63fa",
           "#FFA15A",
           "#19d3f3",
           "#FF6692",
           "#B6E880",
           "#FF97FF",
           "#FECB52"
          ],
          "font": {
           "color": "#2a3f5f"
          },
          "geo": {
           "bgcolor": "white",
           "lakecolor": "white",
           "landcolor": "#E5ECF6",
           "showlakes": true,
           "showland": true,
           "subunitcolor": "white"
          },
          "hoverlabel": {
           "align": "left"
          },
          "hovermode": "closest",
          "mapbox": {
           "style": "light"
          },
          "paper_bgcolor": "white",
          "plot_bgcolor": "#E5ECF6",
          "polar": {
           "angularaxis": {
            "gridcolor": "white",
            "linecolor": "white",
            "ticks": ""
           },
           "bgcolor": "#E5ECF6",
           "radialaxis": {
            "gridcolor": "white",
            "linecolor": "white",
            "ticks": ""
           }
          },
          "scene": {
           "xaxis": {
            "backgroundcolor": "#E5ECF6",
            "gridcolor": "white",
            "gridwidth": 2,
            "linecolor": "white",
            "showbackground": true,
            "ticks": "",
            "zerolinecolor": "white"
           },
           "yaxis": {
            "backgroundcolor": "#E5ECF6",
            "gridcolor": "white",
            "gridwidth": 2,
            "linecolor": "white",
            "showbackground": true,
            "ticks": "",
            "zerolinecolor": "white"
           },
           "zaxis": {
            "backgroundcolor": "#E5ECF6",
            "gridcolor": "white",
            "gridwidth": 2,
            "linecolor": "white",
            "showbackground": true,
            "ticks": "",
            "zerolinecolor": "white"
           }
          },
          "shapedefaults": {
           "line": {
            "color": "#2a3f5f"
           }
          },
          "ternary": {
           "aaxis": {
            "gridcolor": "white",
            "linecolor": "white",
            "ticks": ""
           },
           "baxis": {
            "gridcolor": "white",
            "linecolor": "white",
            "ticks": ""
           },
           "bgcolor": "#E5ECF6",
           "caxis": {
            "gridcolor": "white",
            "linecolor": "white",
            "ticks": ""
           }
          },
          "title": {
           "x": 0.05
          },
          "xaxis": {
           "automargin": true,
           "gridcolor": "white",
           "linecolor": "white",
           "ticks": "",
           "title": {
            "standoff": 15
           },
           "zerolinecolor": "white",
           "zerolinewidth": 2
          },
          "yaxis": {
           "automargin": true,
           "gridcolor": "white",
           "linecolor": "white",
           "ticks": "",
           "title": {
            "standoff": 15
           },
           "zerolinecolor": "white",
           "zerolinewidth": 2
          }
         }
        }
       }
      },
      "image/png": "[encoded data removed]",
      "text/html": [
       "<div>\n",
       "        \n",
       "        \n",
       "            <div id=\"650340a0-f45d-4e2d-9a80-4ee99c4fd4a7\" class=\"plotly-graph-div\" style=\"height:525px; width:100%;\"></div>\n",
       "            <script type=\"text/javascript\">\n",
       "                require([\"plotly\"], function(Plotly) {\n",
       "                    window.PLOTLYENV=window.PLOTLYENV || {};\n",
       "                    \n",
       "                if (document.getElementById(\"650340a0-f45d-4e2d-9a80-4ee99c4fd4a7\")) {\n",
       "                    Plotly.newPlot(\n",
       "                        '650340a0-f45d-4e2d-9a80-4ee99c4fd4a7',\n",
       "                        [{\"hovertemplate\": \"x=%{x}<br>y=%{y}<br>z=%{z}<extra></extra>\", \"legendgroup\": \"\", \"marker\": {\"color\": \"#636efa\", \"symbol\": \"circle\"}, \"mode\": \"markers\", \"name\": \"\", \"scene\": \"scene\", \"showlegend\": false, \"type\": \"scatter3d\", \"x\": [3.1287407930480398, 3.2023392838863907, 3.0765606656868663, 3.107018098218717, 3.1159201129427347, 3.0905910342846834, 3.0569517892141462, 3.000021192024338, 3.0505252710173134, 3.170841272674893, 3.050057479167878, 3.0756321743716626, 3.1990778891195886, 3.0530888737636865, 3.1173246020923573, 3.159517774405395, 3.1290875467486017, 3.159915826670984, 3.15971560412188, 3.839996957851033, 3.0000236614180342, 3.0934374901260715, 3.057111535466241, 3.130507190687589, 3.1046866016200303, 3.192620348967445, 3.012466192714726, 3.656782221058678, 3.006583645335424, 3.1682761140545135, 3.107050512165699, 3.20431890808213, 3.3410769557878717, 3.1980125296952795, 3.0216549123305523, 3.1955735069394837, 3.0050935708307134, 3.1025620656857624, 3.1633747196790165, 3.137930761991028, 3.052074936350257, 3.709024680434778, 3.14807247107528, 3.018725749224952, 3.218520188059484, 3.150044944348271, 3.0777222327944345, 3.8372678035283005, 3.1777002577816313, 3.1164403749295344, 3.1372177457074866, 3.191007181947318, 3.103875209396125, 3.148322021542012, 3.382907056074564, 3.1349676110040408, 3.1556786916082458, 3.2462857133596517, 3.1096999868359214, 3.1545743271246693, 3.1676888645568155, 3.771844360805022, 3.048931963661113, 3.1782118014425635, 3.2594425581197797, 3.14406320987912, 3.135446690096266, 3.2242168465792216, 3.1628487713613063, 3.1247905742211826, 3.105768259663255, 3.1244615611819015, 3.103711787295014, 3.151772400020431, 3.114593380224804, 3.2284114148215926, 3.1452402649396354, 3.17081136649096, 3.3206915862442665, 3.140333898553638, 3.1360721919690993, 3.190586242008282, 3.2494213619525256, 3.196069085375941, 3.1670815736238813, 3.132451115526006, 3.1467783714253237, 3.125657396908763, 3.139013529044151, 3.1631077171177666, 3.132295226789887, 3.00448438063954, 3.05532252795351, 3.125117866953609, 3.104246159478581, 3.2496685529749967, 3.077925670452586, 3.196821260437465, 3.165625962175595, 3.105669102343379, 3.2483100926834387, 3.2041952239755567, 3.8408713177034493, 3.0002031774060556, 3.1939483770887938], \"y\": [-16.98501014875969, -16.997557648214517, -16.94394436040965, -16.96540305971165, -16.9869147183179, -16.97497094274882, -16.951253167949275, -16.765708427919797, -16.95630654952279, -16.946887431794174, -16.955523680053847, -16.94320035236447, -16.99341970531948, -16.9574450986078, -16.972645817726864, -16.98622077809478, -16.988382430563405, -16.964114086161917, -16.99114797846688, -16.631893780300413, -16.76645069199025, -16.97464979689875, -16.951832531414254, -16.961408742785782, -16.975339594416937, -16.92214499698418, -16.884724403453585, -16.69065025630088, -16.85605601752988, -16.935091628226928, -16.965378959146555, -16.997584638086487, -16.82915667471385, -16.99732191090141, -16.912652041337935, -16.919510573768797, -16.847227402378476, -16.98366012611699, -16.96297061825622, -16.988273774802064, -16.950687498879557, -16.66728227919195, -16.969179025523278, -16.905102567870525, -16.996658633664556, -16.943648967265926, -16.943956545130117, -16.633642057572143, -16.99498573282745, -16.986971359142732, -16.97225400911381, -16.923641375044465, -16.984075379679552, -16.9697871503276, -16.803073056246976, -16.988539374195266, -16.989885231226417, -16.88216500899304, -16.965191432923568, -16.9717800917939, -16.993815640784515, -16.64083890256218, -16.95448261785918, -16.93413551242941, -16.87289784675934, -16.98495973806623, -16.98924557417478, -16.997839372788274, -16.948848837873438, -16.964345656710496, -16.97601971761646, -16.97657432045712, -16.984009064835973, -16.9426235649709, -16.986600419222633, -16.894257089851216, -16.984509470400656, -16.98509767446821, -16.841281972737573, -16.971231280454123, -16.972519449581885, -16.92404325835746, -16.8797721945081, -16.997158181202618, -16.977488827415662, -16.987986023265663, -16.971834579383422, -16.97448323921036, -16.97140244117029, -16.96326498442958, -16.987796353375114, -16.79202495552091, -16.95207792927994, -16.97108499540815, -16.984166964250363, -16.88005023318253, -16.943862560075026, -16.99411749388119, -16.97763538529576, -16.97600749634238, -16.880851195156385, -16.997592348816944, -16.6325321519175, -16.78052855302739, -16.92141153111405], \"z\": [-12.733568878123801, -12.816355141382648, -12.726867313221874, -12.841575016052266, -12.795753857205694, -12.797770245772655, -12.695210201816016, -12.057456663326873, -12.657275097438959, -12.926736951399885, -12.66552094787775, -12.722466490670643, -12.864961104548868, -12.681837314426721, -12.856373530778441, -12.870392296508165, -12.822383191908209, -12.909270034402924, -12.849161264976518, -12.99410274471961, -12.05944207848427, -12.806161835206929, -12.69661435143387, -12.88174200909905, -12.830352773065338, -12.942395758427892, -12.404855034952625, -12.992270286403436, -12.31666011532091, -12.921321088598269, -12.841633933363715, -12.829487907946767, -12.972473497373635, -12.818544883420042, -12.497138693767473, -12.94384173429968, -12.287352046119883, -12.767676252534223, -12.91239162741253, -12.752449653544826, -12.678730207872896, -12.99450621920133, -12.89565975546062, -12.471239901217261, -12.85420586250483, -12.901063732726096, -12.729579030934476, -12.993786468492841, -12.790537854073724, -12.797763576321893, -12.882112502293584, -12.941579774200362, -12.772443352139327, -12.895154400082903, -12.98041980078816, -12.83293569650042, -12.852211770834343, -12.956906894455422, -12.846814396676546, -12.897180325443488, -12.783983043199893, -12.996302774504365, -12.660516388805345, -12.93325691926739, -12.96315775334577, -12.8613780169273, -12.828224002279072, -12.845796523081086, -12.920161394742124, -12.872955169381274, -12.83124063077607, -12.860703703099365, -12.770451985160907, -12.902754926727132, -12.795094738737241, -12.942540640482251, -12.863998907467236, -12.880852452400983, -12.967865000322316, -12.886466156828744, -12.88058939058486, -12.941365172600579, -12.95941053719631, -12.81417501756848, -12.895521220478656, -12.832387853025791, -12.891351061306477, -12.865743949804013, -12.88498199737436, -12.911969002147385, -12.833394489934745, -12.141134558177017, -12.691334185328486, -12.869323157746544, -12.771796741134375, -12.95773346798902, -12.729758679126274, -12.860032113993958, -12.894507242778024, -12.831068126660464, -12.95760103262849, -12.828924955869851, -12.993804198274564, -12.097302632782895, -12.94335045773557]}],\n",
       "                        {\"legend\": {\"tracegroupgap\": 0}, \"margin\": {\"t\": 60}, \"scene\": {\"domain\": {\"x\": [0.0, 1.0], \"y\": [0.0, 1.0]}, \"xaxis\": {\"title\": {\"text\": \"x\"}}, \"yaxis\": {\"title\": {\"text\": \"y\"}}, \"zaxis\": {\"title\": {\"text\": \"z\"}}}, \"template\": {\"data\": {\"bar\": [{\"error_x\": {\"color\": \"#2a3f5f\"}, \"error_y\": {\"color\": \"#2a3f5f\"}, \"marker\": {\"line\": {\"color\": \"#E5ECF6\", \"width\": 0.5}}, \"type\": \"bar\"}], \"barpolar\": [{\"marker\": {\"line\": {\"color\": \"#E5ECF6\", \"width\": 0.5}}, \"type\": \"barpolar\"}], \"carpet\": [{\"aaxis\": {\"endlinecolor\": \"#2a3f5f\", \"gridcolor\": \"white\", \"linecolor\": \"white\", \"minorgridcolor\": \"white\", \"startlinecolor\": \"#2a3f5f\"}, \"baxis\": {\"endlinecolor\": \"#2a3f5f\", \"gridcolor\": \"white\", \"linecolor\": \"white\", \"minorgridcolor\": \"white\", \"startlinecolor\": \"#2a3f5f\"}, \"type\": \"carpet\"}], \"choropleth\": [{\"colorbar\": {\"outlinewidth\": 0, \"ticks\": \"\"}, \"type\": \"choropleth\"}], \"contour\": [{\"colorbar\": {\"outlinewidth\": 0, \"ticks\": \"\"}, \"colorscale\": [[0.0, \"#0d0887\"], [0.1111111111111111, \"#46039f\"], [0.2222222222222222, \"#7201a8\"], [0.3333333333333333, \"#9c179e\"], [0.4444444444444444, \"#bd3786\"], [0.5555555555555556, \"#d8576b\"], [0.6666666666666666, \"#ed7953\"], [0.7777777777777778, \"#fb9f3a\"], [0.8888888888888888, \"#fdca26\"], [1.0, \"#f0f921\"]], \"type\": \"contour\"}], \"contourcarpet\": [{\"colorbar\": {\"outlinewidth\": 0, \"ticks\": \"\"}, \"type\": \"contourcarpet\"}], \"heatmap\": [{\"colorbar\": {\"outlinewidth\": 0, \"ticks\": \"\"}, \"colorscale\": [[0.0, \"#0d0887\"], [0.1111111111111111, \"#46039f\"], [0.2222222222222222, \"#7201a8\"], [0.3333333333333333, \"#9c179e\"], [0.4444444444444444, \"#bd3786\"], [0.5555555555555556, \"#d8576b\"], [0.6666666666666666, \"#ed7953\"], [0.7777777777777778, \"#fb9f3a\"], [0.8888888888888888, \"#fdca26\"], [1.0, \"#f0f921\"]], \"type\": \"heatmap\"}], \"heatmapgl\": [{\"colorbar\": {\"outlinewidth\": 0, \"ticks\": \"\"}, \"colorscale\": [[0.0, \"#0d0887\"], [0.1111111111111111, \"#46039f\"], [0.2222222222222222, \"#7201a8\"], [0.3333333333333333, \"#9c179e\"], [0.4444444444444444, \"#bd3786\"], [0.5555555555555556, \"#d8576b\"], [0.6666666666666666, \"#ed7953\"], [0.7777777777777778, \"#fb9f3a\"], [0.8888888888888888, \"#fdca26\"], [1.0, \"#f0f921\"]], \"type\": \"heatmapgl\"}], \"histogram\": [{\"marker\": {\"colorbar\": {\"outlinewidth\": 0, \"ticks\": \"\"}}, \"type\": \"histogram\"}], \"histogram2d\": [{\"colorbar\": {\"outlinewidth\": 0, \"ticks\": \"\"}, \"colorscale\": [[0.0, \"#0d0887\"], [0.1111111111111111, \"#46039f\"], [0.2222222222222222, \"#7201a8\"], [0.3333333333333333, \"#9c179e\"], [0.4444444444444444, \"#bd3786\"], [0.5555555555555556, \"#d8576b\"], [0.6666666666666666, \"#ed7953\"], [0.7777777777777778, \"#fb9f3a\"], [0.8888888888888888, \"#fdca26\"], [1.0, \"#f0f921\"]], \"type\": \"histogram2d\"}], \"histogram2dcontour\": [{\"colorbar\": {\"outlinewidth\": 0, \"ticks\": \"\"}, \"colorscale\": [[0.0, \"#0d0887\"], [0.1111111111111111, \"#46039f\"], [0.2222222222222222, \"#7201a8\"], [0.3333333333333333, \"#9c179e\"], [0.4444444444444444, \"#bd3786\"], [0.5555555555555556, \"#d8576b\"], [0.6666666666666666, \"#ed7953\"], [0.7777777777777778, \"#fb9f3a\"], [0.8888888888888888, \"#fdca26\"], [1.0, \"#f0f921\"]], \"type\": \"histogram2dcontour\"}], \"mesh3d\": [{\"colorbar\": {\"outlinewidth\": 0, \"ticks\": \"\"}, \"type\": \"mesh3d\"}], \"parcoords\": [{\"line\": {\"colorbar\": {\"outlinewidth\": 0, \"ticks\": \"\"}}, \"type\": \"parcoords\"}], \"pie\": [{\"automargin\": true, \"type\": \"pie\"}], \"scatter\": [{\"marker\": {\"colorbar\": {\"outlinewidth\": 0, \"ticks\": \"\"}}, \"type\": \"scatter\"}], \"scatter3d\": [{\"line\": {\"colorbar\": {\"outlinewidth\": 0, \"ticks\": \"\"}}, \"marker\": {\"colorbar\": {\"outlinewidth\": 0, \"ticks\": \"\"}}, \"type\": \"scatter3d\"}], \"scattercarpet\": [{\"marker\": {\"colorbar\": {\"outlinewidth\": 0, \"ticks\": \"\"}}, \"type\": \"scattercarpet\"}], \"scattergeo\": [{\"marker\": {\"colorbar\": {\"outlinewidth\": 0, \"ticks\": \"\"}}, \"type\": \"scattergeo\"}], \"scattergl\": [{\"marker\": {\"colorbar\": {\"outlinewidth\": 0, \"ticks\": \"\"}}, \"type\": \"scattergl\"}], \"scattermapbox\": [{\"marker\": {\"colorbar\": {\"outlinewidth\": 0, \"ticks\": \"\"}}, \"type\": \"scattermapbox\"}], \"scatterpolar\": [{\"marker\": {\"colorbar\": {\"outlinewidth\": 0, \"ticks\": \"\"}}, \"type\": \"scatterpolar\"}], \"scatterpolargl\": [{\"marker\": {\"colorbar\": {\"outlinewidth\": 0, \"ticks\": \"\"}}, \"type\": \"scatterpolargl\"}], \"scatterternary\": [{\"marker\": {\"colorbar\": {\"outlinewidth\": 0, \"ticks\": \"\"}}, \"type\": \"scatterternary\"}], \"surface\": [{\"colorbar\": {\"outlinewidth\": 0, \"ticks\": \"\"}, \"colorscale\": [[0.0, \"#0d0887\"], [0.1111111111111111, \"#46039f\"], [0.2222222222222222, \"#7201a8\"], [0.3333333333333333, \"#9c179e\"], [0.4444444444444444, \"#bd3786\"], [0.5555555555555556, \"#d8576b\"], [0.6666666666666666, \"#ed7953\"], [0.7777777777777778, \"#fb9f3a\"], [0.8888888888888888, \"#fdca26\"], [1.0, \"#f0f921\"]], \"type\": \"surface\"}], \"table\": [{\"cells\": {\"fill\": {\"color\": \"#EBF0F8\"}, \"line\": {\"color\": \"white\"}}, \"header\": {\"fill\": {\"color\": \"#C8D4E3\"}, \"line\": {\"color\": \"white\"}}, \"type\": \"table\"}]}, \"layout\": {\"annotationdefaults\": {\"arrowcolor\": \"#2a3f5f\", \"arrowhead\": 0, \"arrowwidth\": 1}, \"coloraxis\": {\"colorbar\": {\"outlinewidth\": 0, \"ticks\": \"\"}}, \"colorscale\": {\"diverging\": [[0, \"#8e0152\"], [0.1, \"#c51b7d\"], [0.2, \"#de77ae\"], [0.3, \"#f1b6da\"], [0.4, \"#fde0ef\"], [0.5, \"#f7f7f7\"], [0.6, \"#e6f5d0\"], [0.7, \"#b8e186\"], [0.8, \"#7fbc41\"], [0.9, \"#4d9221\"], [1, \"#276419\"]], \"sequential\": [[0.0, \"#0d0887\"], [0.1111111111111111, \"#46039f\"], [0.2222222222222222, \"#7201a8\"], [0.3333333333333333, \"#9c179e\"], [0.4444444444444444, \"#bd3786\"], [0.5555555555555556, \"#d8576b\"], [0.6666666666666666, \"#ed7953\"], [0.7777777777777778, \"#fb9f3a\"], [0.8888888888888888, \"#fdca26\"], [1.0, \"#f0f921\"]], \"sequentialminus\": [[0.0, \"#0d0887\"], [0.1111111111111111, \"#46039f\"], [0.2222222222222222, \"#7201a8\"], [0.3333333333333333, \"#9c179e\"], [0.4444444444444444, \"#bd3786\"], [0.5555555555555556, \"#d8576b\"], [0.6666666666666666, \"#ed7953\"], [0.7777777777777778, \"#fb9f3a\"], [0.8888888888888888, \"#fdca26\"], [1.0, \"#f0f921\"]]}, \"colorway\": [\"#636efa\", \"#EF553B\", \"#00cc96\", \"#ab63fa\", \"#FFA15A\", \"#19d3f3\", \"#FF6692\", \"#B6E880\", \"#FF97FF\", \"#FECB52\"], \"font\": {\"color\": \"#2a3f5f\"}, \"geo\": {\"bgcolor\": \"white\", \"lakecolor\": \"white\", \"landcolor\": \"#E5ECF6\", \"showlakes\": true, \"showland\": true, \"subunitcolor\": \"white\"}, \"hoverlabel\": {\"align\": \"left\"}, \"hovermode\": \"closest\", \"mapbox\": {\"style\": \"light\"}, \"paper_bgcolor\": \"white\", \"plot_bgcolor\": \"#E5ECF6\", \"polar\": {\"angularaxis\": {\"gridcolor\": \"white\", \"linecolor\": \"white\", \"ticks\": \"\"}, \"bgcolor\": \"#E5ECF6\", \"radialaxis\": {\"gridcolor\": \"white\", \"linecolor\": \"white\", \"ticks\": \"\"}}, \"scene\": {\"xaxis\": {\"backgroundcolor\": \"#E5ECF6\", \"gridcolor\": \"white\", \"gridwidth\": 2, \"linecolor\": \"white\", \"showbackground\": true, \"ticks\": \"\", \"zerolinecolor\": \"white\"}, \"yaxis\": {\"backgroundcolor\": \"#E5ECF6\", \"gridcolor\": \"white\", \"gridwidth\": 2, \"linecolor\": \"white\", \"showbackground\": true, \"ticks\": \"\", \"zerolinecolor\": \"white\"}, \"zaxis\": {\"backgroundcolor\": \"#E5ECF6\", \"gridcolor\": \"white\", \"gridwidth\": 2, \"linecolor\": \"white\", \"showbackground\": true, \"ticks\": \"\", \"zerolinecolor\": \"white\"}}, \"shapedefaults\": {\"line\": {\"color\": \"#2a3f5f\"}}, \"ternary\": {\"aaxis\": {\"gridcolor\": \"white\", \"linecolor\": \"white\", \"ticks\": \"\"}, \"baxis\": {\"gridcolor\": \"white\", \"linecolor\": \"white\", \"ticks\": \"\"}, \"bgcolor\": \"#E5ECF6\", \"caxis\": {\"gridcolor\": \"white\", \"linecolor\": \"white\", \"ticks\": \"\"}}, \"title\": {\"x\": 0.05}, \"xaxis\": {\"automargin\": true, \"gridcolor\": \"white\", \"linecolor\": \"white\", \"ticks\": \"\", \"title\": {\"standoff\": 15}, \"zerolinecolor\": \"white\", \"zerolinewidth\": 2}, \"yaxis\": {\"automargin\": true, \"gridcolor\": \"white\", \"linecolor\": \"white\", \"ticks\": \"\", \"title\": {\"standoff\": 15}, \"zerolinecolor\": \"white\", \"zerolinewidth\": 2}}}},\n",
       "                        {\"responsive\": true}\n",
       "                    ).then(function(){\n",
       "                            \n",
       "var gd = document.getElementById('650340a0-f45d-4e2d-9a80-4ee99c4fd4a7');\n",
       "var x = new MutationObserver(function (mutations, observer) {{\n",
       "        var display = window.getComputedStyle(gd).display;\n",
       "        if (!display || display === 'none') {{\n",
       "            console.log([gd, 'removed!']);\n",
       "            Plotly.purge(gd);\n",
       "            observer.disconnect();\n",
       "        }}\n",
       "}});\n",
       "\n",
       "// Listen for the removal of the full notebook cells\n",
       "var notebookContainer = gd.closest('#notebook-container');\n",
       "if (notebookContainer) {{\n",
       "    x.observe(notebookContainer, {childList: true});\n",
       "}}\n",
       "\n",
       "// Listen for the clearing of the current output cell\n",
       "var outputEl = gd.closest('.output');\n",
       "if (outputEl) {{\n",
       "    x.observe(outputEl, {childList: true});\n",
       "}}\n",
       "\n",
       "                        })\n",
       "                };\n",
       "                });\n",
       "            </script>\n",
       "        </div>"
      ]
     },
     "metadata": {},
     "output_type": "display_data"
    }
   ],
   "source": [
    "ex.scatter_3d(x=f_1(evolver.population.individuals),\n",
    "             y=f_2(evolver.population.individuals),\n",
    "             z=f_3(evolver.population.individuals),\n",
    "             )"
   ]
  },
  {
   "cell_type": "code",
   "execution_count": 18,
   "metadata": {},
   "outputs": [],
   "source": [
    "ind = pd.DataFrame(evolver.population.individuals, columns=[\"x\", \"y\"])"
   ]
  },
  {
   "cell_type": "code",
   "execution_count": 32,
   "metadata": {},
   "outputs": [],
   "source": [
    "pred_obj = pd.DataFrame(evolver.population.objectives, columns=[\"f1\", \"f2\", \"f3\"])"
   ]
  },
  {
   "cell_type": "code",
   "execution_count": 2,
   "metadata": {},
   "outputs": [],
   "source": [
    "#Uncomment the following when running the code\n",
    "\"\"\"pred_front_true_val = pd.DataFrame(\n",
    "    np.vstack(\n",
    "        (\n",
    "            f_1(evolver.population.individuals),\n",
    "            f_2(evolver.population.individuals),\n",
    "            f_3(evolver.population.individuals)\n",
    "        )\n",
    "    ).T,\n",
    "    columns=[\"f1\", \"f2\", \"f3\"])\"\"\"\n",
    "#Plotting saved results. Comment if you are re-running the experiment\n",
    "pred_front_true_val = pd.read_csv(\"MOP7_true_obj.csv\", index_col=0)"
   ]
  },
  {
   "cell_type": "code",
   "execution_count": 37,
   "metadata": {},
   "outputs": [],
   "source": [
    "fig = go.Figure()\n",
    "\n",
    "fig.add_scatter3d(\n",
    "    x=pred_front_true_val[\"f1\"],\n",
    "    y=pred_front_true_val[\"f2\"],\n",
    "    z=pred_front_true_val[\"f3\"],\n",
    "    mode=\"markers\",\n",
    "    marker_line_width=8,\n",
    "    marker=dict(size=10)\n",
    ")\n",
    "fig.update_layout(scene = dict(\n",
    "                    xaxis_title='<b>f1</b>',\n",
    "                    yaxis_title='<b>f2</b>',\n",
    "                    zaxis_title='<b>f3</b>',\n",
    "                    xaxis = dict(nticks=7, range=[2.9,4.2],),\n",
    "                    yaxis = dict(nticks=6, range=[-17.05,-16.5],),\n",
    "                    zaxis = dict(nticks=6, range=[-13.05,-12],),),\n",
    "                  font_size=15\n",
    "                 )\n",
    "fig.update_layout(template=\"ggplot2\", scene_aspectmode='cube')\n",
    "\n",
    "fig.write_html(\"pred_MOP7.html\")\n"
   ]
  },
  {
   "cell_type": "code",
   "execution_count": 38,
   "metadata": {},
   "outputs": [],
   "source": [
    "true_obj= pd.read_csv(\"MOP7_true_front.csv\", index_col=0)\n",
    "fig2 = go.Figure()\n",
    "\n",
    "fig2.add_scatter3d(\n",
    "    x=true_obj.values[:, 0],\n",
    "    y=true_obj.values[:, 1],\n",
    "    z=true_obj.values[:, 2],\n",
    "    mode=\"markers\",\n",
    "    marker_line_width=8,\n",
    "    marker=dict(size=10)\n",
    ")\n",
    "fig2.update_layout(scene = dict(\n",
    "                    xaxis_title='<b>f1</b>',\n",
    "                    yaxis_title='<b>f2</b>',\n",
    "                    zaxis_title='<b>f3</b>',\n",
    "                    xaxis = dict(nticks=7, range=[2.9,4.2],),\n",
    "                    yaxis = dict(nticks=6, range=[-17.05,-16.5],),\n",
    "                    zaxis = dict(nticks=6, range=[-13.05,-12],),),\n",
    "                  font_size=15\n",
    "                 )\n",
    "fig2.update_layout(template=\"ggplot2\", scene_aspectmode='cube')\n",
    "\n",
    "fig2.write_html(\"true_MOP7.html\")"
   ]
  },
  {
   "cell_type": "code",
   "execution_count": 78,
   "metadata": {},
   "outputs": [
    {
     "data": {
      "text/html": [
       "<div>\n",
       "<style scoped>\n",
       "    .dataframe tbody tr th:only-of-type {\n",
       "        vertical-align: middle;\n",
       "    }\n",
       "\n",
       "    .dataframe tbody tr th {\n",
       "        vertical-align: top;\n",
       "    }\n",
       "\n",
       "    .dataframe thead th {\n",
       "        text-align: right;\n",
       "    }\n",
       "</style>\n",
       "<table border=\"1\" class=\"dataframe\">\n",
       "  <thead>\n",
       "    <tr style=\"text-align: right;\">\n",
       "      <th></th>\n",
       "      <th>0</th>\n",
       "      <th>1</th>\n",
       "      <th>2</th>\n",
       "    </tr>\n",
       "  </thead>\n",
       "  <tbody>\n",
       "    <tr>\n",
       "      <th>0</th>\n",
       "      <td>3.102516</td>\n",
       "      <td>-16.963163</td>\n",
       "      <td>-12.831023</td>\n",
       "    </tr>\n",
       "    <tr>\n",
       "      <th>1</th>\n",
       "      <td>3.073589</td>\n",
       "      <td>-16.961580</td>\n",
       "      <td>-12.757665</td>\n",
       "    </tr>\n",
       "    <tr>\n",
       "      <th>2</th>\n",
       "      <td>4.085249</td>\n",
       "      <td>-16.524693</td>\n",
       "      <td>-12.999697</td>\n",
       "    </tr>\n",
       "    <tr>\n",
       "      <th>3</th>\n",
       "      <td>3.349105</td>\n",
       "      <td>-16.812837</td>\n",
       "      <td>-12.980479</td>\n",
       "    </tr>\n",
       "    <tr>\n",
       "      <th>4</th>\n",
       "      <td>3.132532</td>\n",
       "      <td>-16.960751</td>\n",
       "      <td>-12.884663</td>\n",
       "    </tr>\n",
       "    <tr>\n",
       "      <th>...</th>\n",
       "      <td>...</td>\n",
       "      <td>...</td>\n",
       "      <td>...</td>\n",
       "    </tr>\n",
       "    <tr>\n",
       "      <th>495</th>\n",
       "      <td>3.108519</td>\n",
       "      <td>-16.981290</td>\n",
       "      <td>-12.821543</td>\n",
       "    </tr>\n",
       "    <tr>\n",
       "      <th>496</th>\n",
       "      <td>3.144156</td>\n",
       "      <td>-16.988509</td>\n",
       "      <td>-12.846591</td>\n",
       "    </tr>\n",
       "    <tr>\n",
       "      <th>497</th>\n",
       "      <td>3.205440</td>\n",
       "      <td>-16.913683</td>\n",
       "      <td>-12.950222</td>\n",
       "    </tr>\n",
       "    <tr>\n",
       "      <th>498</th>\n",
       "      <td>3.197885</td>\n",
       "      <td>-16.978114</td>\n",
       "      <td>-12.905683</td>\n",
       "    </tr>\n",
       "    <tr>\n",
       "      <th>499</th>\n",
       "      <td>3.082048</td>\n",
       "      <td>-16.975138</td>\n",
       "      <td>-12.767118</td>\n",
       "    </tr>\n",
       "  </tbody>\n",
       "</table>\n",
       "<p>500 rows × 3 columns</p>\n",
       "</div>"
      ],
      "text/plain": [
       "            0          1          2\n",
       "0    3.102516 -16.963163 -12.831023\n",
       "1    3.073589 -16.961580 -12.757665\n",
       "2    4.085249 -16.524693 -12.999697\n",
       "3    3.349105 -16.812837 -12.980479\n",
       "4    3.132532 -16.960751 -12.884663\n",
       "..        ...        ...        ...\n",
       "495  3.108519 -16.981290 -12.821543\n",
       "496  3.144156 -16.988509 -12.846591\n",
       "497  3.205440 -16.913683 -12.950222\n",
       "498  3.197885 -16.978114 -12.905683\n",
       "499  3.082048 -16.975138 -12.767118\n",
       "\n",
       "[500 rows x 3 columns]"
      ]
     },
     "execution_count": 78,
     "metadata": {},
     "output_type": "execute_result"
    }
   ],
   "source": [
    "true_obj"
   ]
  }
 ],
 "metadata": {
  "kernelspec": {
   "display_name": "desdeo_emo",
   "language": "python",
   "name": "desdeo_emo"
  },
  "language_info": {
   "codemirror_mode": {
    "name": "ipython",
    "version": 3
   },
   "file_extension": ".py",
   "mimetype": "text/x-python",
   "name": "python",
   "nbconvert_exporter": "python",
   "pygments_lexer": "ipython3",
   "version": "3.7.7"
  }
 },
 "nbformat": 4,
 "nbformat_minor": 4
}
